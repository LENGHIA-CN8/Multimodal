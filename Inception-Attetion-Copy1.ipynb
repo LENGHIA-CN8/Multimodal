{
 "cells": [
  {
   "cell_type": "code",
   "execution_count": 11,
   "metadata": {
    "colab": {
     "base_uri": "https://localhost:8080/",
     "height": 1000
    },
    "id": "_WijfxppfYfk",
    "outputId": "59217166-a6fa-4270-d536-d0aec5224098"
   },
   "outputs": [],
   "source": [
    "# !pip install pytorch-lightning\n",
    "# !pip install transformers\n",
    "# !pip install vncorenlp"
   ]
  },
  {
   "cell_type": "code",
   "execution_count": 6,
   "metadata": {
    "colab": {
     "base_uri": "https://localhost:8080/"
    },
    "id": "YEE6ZUhdK8DJ",
    "outputId": "6f3c47ea-f836-4cee-e288-3b0492153fa2"
   },
   "outputs": [],
   "source": [
    "# from google.colab import drive\n",
    "# drive.mount(\"/content/drive\")"
   ]
  },
  {
   "cell_type": "code",
   "execution_count": 9,
   "metadata": {},
   "outputs": [
    {
     "name": "stdout",
     "output_type": "stream",
     "text": [
      "Wed Apr 27 03:17:18 2022       \n",
      "+-----------------------------------------------------------------------------+\n",
      "| NVIDIA-SMI 465.19.01    Driver Version: 465.19.01    CUDA Version: 11.3     |\n",
      "|-------------------------------+----------------------+----------------------+\n",
      "| GPU  Name        Persistence-M| Bus-Id        Disp.A | Volatile Uncorr. ECC |\n",
      "| Fan  Temp  Perf  Pwr:Usage/Cap|         Memory-Usage | GPU-Util  Compute M. |\n",
      "|                               |                      |               MIG M. |\n",
      "|===============================+======================+======================|\n",
      "|   0  NVIDIA GeForce ...  Off  | 00000000:5E:00.0 Off |                  N/A |\n",
      "|  0%   55C    P2    54W / 250W |  10142MiB / 11019MiB |      9%      Default |\n",
      "|                               |                      |                  N/A |\n",
      "+-------------------------------+----------------------+----------------------+\n",
      "|   1  NVIDIA GeForce ...  Off  | 00000000:86:00.0 Off |                  N/A |\n",
      "|  0%   24C    P8     2W / 250W |   2588MiB / 11019MiB |      0%      Default |\n",
      "|                               |                      |                  N/A |\n",
      "+-------------------------------+----------------------+----------------------+\n",
      "                                                                               \n",
      "+-----------------------------------------------------------------------------+\n",
      "| Processes:                                                                  |\n",
      "|  GPU   GI   CI        PID   Type   Process name                  GPU Memory |\n",
      "|        ID   ID                                                   Usage      |\n",
      "|=============================================================================|\n",
      "|    0   N/A  N/A   3866913      C   ...da3/envs/AI_DA/bin/python     2813MiB |\n",
      "|    0   N/A  N/A   3868471      C   ...da3/envs/AI_DA/bin/python     3537MiB |\n",
      "|    0   N/A  N/A   3873643      C   ...da3/envs/AI_DA/bin/python     3789MiB |\n",
      "|    1   N/A  N/A   3517636      C   python                           2585MiB |\n",
      "+-----------------------------------------------------------------------------+\n"
     ]
    }
   ],
   "source": [
    "!nvidia-smi"
   ]
  },
  {
   "cell_type": "code",
   "execution_count": 4,
   "metadata": {},
   "outputs": [],
   "source": [
    "# !kill -9 3980682"
   ]
  },
  {
   "cell_type": "code",
   "execution_count": 5,
   "metadata": {
    "id": "-r5rwk7EG8Et"
   },
   "outputs": [
    {
     "name": "stderr",
     "output_type": "stream",
     "text": [
      "/home/nghiatl/anaconda3/envs/AI_DA/lib/python3.10/site-packages/tqdm/auto.py:22: TqdmWarning: IProgress not found. Please update jupyter and ipywidgets. See https://ipywidgets.readthedocs.io/en/stable/user_install.html\n",
      "  from .autonotebook import tqdm as notebook_tqdm\n"
     ]
    }
   ],
   "source": [
    "import torch \n",
    "import torch.nn as nn\n",
    "from torch.utils.data import Dataset, DataLoader, random_split\n",
    "import pandas as pd\n",
    "import numpy as np\n",
    "import zipfile\n",
    "from PIL import Image\n",
    "import matplotlib.pyplot as plt\n",
    "import re\n",
    "import pytorch_lightning as pl\n",
    "from torchvision import transforms as T\n",
    "from sklearn.model_selection import train_test_split\n",
    "\n",
    "train_ratio = 0.8"
   ]
  },
  {
   "cell_type": "code",
   "execution_count": 6,
   "metadata": {},
   "outputs": [],
   "source": [
    "import random\n",
    "\n",
    "# SEED_VALUE = random.randint(0,100)\n",
    "SEED_VALUE = 84\n",
    "# print(SEED_VALUE)\n",
    "random.seed(SEED_VALUE)\n",
    "torch.manual_seed(SEED_VALUE)\n",
    "torch.cuda.manual_seed(SEED_VALUE)\n",
    "np.random.seed(SEED_VALUE)"
   ]
  },
  {
   "cell_type": "code",
   "execution_count": 7,
   "metadata": {
    "colab": {
     "base_uri": "https://localhost:8080/"
    },
    "id": "5JN5uIr4LBuS",
    "outputId": "5549bc0c-f90d-47dc-e4ea-2ace1f478985"
   },
   "outputs": [],
   "source": [
    "# %cd /content/drive/MyDrive/Colab Notebooks/Multimodal"
   ]
  },
  {
   "cell_type": "code",
   "execution_count": 8,
   "metadata": {
    "colab": {
     "base_uri": "https://localhost:8080/"
    },
    "id": "QOPX9jdjgwaB",
    "outputId": "fce64c1f-5b21-40b5-e362-57f5b14037a2"
   },
   "outputs": [
    {
     "name": "stdout",
     "output_type": "stream",
     "text": [
      "archive.zip\r\n",
      "Attetion-Multimodal-Bin2.ipynb\r\n",
      "Attetion-Multimodal-Bin2-Moredata-Copy1.ipynb\r\n",
      "Attetion-Multimodal-Bin2-Moredata.ipynb\r\n",
      "Attetion-Multimodal-Bin.ipynb\r\n",
      "Attetion-Multimodal.ipynb\r\n",
      "Attetion-Multimodal-seed25-1e-3-Copy1.ipynb\r\n",
      "Attetion-Multimodal-seed25-1e-3.ipynb\r\n",
      "Attetion-Multimodal-seed7.ipynb\r\n",
      "Attetion-Multimodal-Soccer.ipynb\r\n",
      "CNN.ipynb\r\n",
      "Inception-Attetion-Copy1.ipynb\r\n",
      "Inception-Attetion.ipynb\r\n",
      "Inception.ipynb\r\n",
      "Inception-VotingMultimodal.ipynb\r\n",
      "local1_folder_temp.zip\r\n",
      "local1_folder.zip\r\n",
      "mountains.zip\r\n",
      "Multimodal_newmodel.ipynb\r\n",
      "Multimodal_newmodel-weight.ipynb\r\n",
      "my_checkpoint_attention_seed_84_1e-3.pth.tar\r\n",
      "my_checkpoint_attention_seed_84_bin_img_10%_more.pth.tar\r\n",
      "my_checkpoint_attention_seed_84_bin_img_10%.pth.tar\r\n",
      "my_checkpoint_attention_seed_84_bin_img_20%_more.pth.tar\r\n",
      "my_checkpoint_attention_seed_84_bin_img_20%.pth.tar\r\n",
      "my_checkpoint_attention_seed_84_bin_img.pth.tar\r\n",
      "my_checkpoint_attention_seed_84_bin_img_soc.pth.tar\r\n",
      "my_checkpoint_attention_seed_84_f1_1e-3.pth.tar\r\n",
      "my_checkpoint_attention_seed_84_f1_bin_img_10%_more.pth.tar\r\n",
      "my_checkpoint_attention_seed_84_f1_bin_img_10%.pth.tar\r\n",
      "my_checkpoint_attention_seed_84_f1_bin_img_20%_more.pth.tar\r\n",
      "my_checkpoint_attention_seed_84_f1_bin_img_20%.pth.tar\r\n",
      "my_checkpoint_attention_seed_84_f1_bin_img.pth.tar\r\n",
      "my_checkpoint_attention_seed_84_f1_bin_img_soc.pth.tar\r\n",
      "my_checkpoint_attention_seed_84_f1.pth.tar\r\n",
      "my_checkpoint_attention_seed_84_f1__seed7.pth.tar\r\n",
      "my_checkpoint_attention_seed_84.pth.tar\r\n",
      "my_checkpoint_attention_seed_84_seed7.pth.tar\r\n",
      "my_checkpoint_incept_attention_seed_84_1e-3.pth.tar\r\n",
      "my_checkpoint_incept_attention_seed_84_f1_1e-3.pth.tar\r\n",
      "my_checkpoint_incept_seed7_bt8_fc_2048_re512_re128_1e-3.pth.tar\r\n",
      "my_checkpoint_incept_seed84_bt8_fc_2048_re512_re128_1e-3.pth.tar\r\n",
      "my_checkpoint_incept_voting.pth.tar\r\n",
      "my_checkpoint_multi_bt_8_mrTrong_f1.pth.tar\r\n",
      "my_checkpoint_multi_bt_8_mrTrong.pth.tar\r\n",
      "my_checkpoint_multivoting_20_label01_freeze_adam_normalize_img_f1_fc2048512.pth.tar\r\n",
      "my_checkpoint_multivoting_20_label01_freeze_adam_normalize_img_f1_nodrop.pth.tar\r\n",
      "my_checkpoint_multivoting_20_label01_freeze_adam_normalize_img_fc2048512.pth.tar\r\n",
      "my_checkpoint_multivoting_20_label01_freeze_adam_normalize_img_nodrop.pth.tar\r\n",
      "my_checkpoint_multivoting_dense_f1.pth.tar\r\n",
      "my_checkpoint_multivoting_dense.pth.tar\r\n",
      "my_checkpoint_Phobert_LSTM_classification_seed_0_fc_1e-3_label01.pth.tar\r\n",
      "my_checkpoint_Phobert_LSTM_classification_seed_66_fc_1e-3_label01_unfreeze.pth.tar\r\n",
      "my_checkpoint_Phobert_LSTM_classification_seed_7_fc_1e-3_label01.pth.tar\r\n",
      "my_checkpoint_Phobert_tuxay_seed_7_2e5_label01.pth.tar\r\n",
      "my_checkpoint_Phobert_tuxay_seed_8_2e5_label01.pth.tar\r\n",
      "OUTPUT\r\n",
      "PhoBERT_foody.ipynb\r\n",
      "PhoBERT_foody_rebuild.ipynb\r\n",
      "Resnet.ipynb\r\n",
      "runs\r\n",
      "soccer.zip\r\n",
      "Stack-MaxMultimodal.ipynb\r\n",
      "vncorenlp\r\n",
      "VotingMultimodal-Dense.ipynb\r\n",
      "VotingMultimodal-fc2048-512-128.ipynb\r\n",
      "VotingMultimodal_newmodel-CNN.ipynb\r\n",
      "VotingMultimodal-offficial.ipynb\r\n"
     ]
    }
   ],
   "source": [
    "!ls\n",
    "data_zip_file = './local1_folder.zip'\n",
    "# data_zip_file2 = './local1_folder_temp.zip'\n",
    "\n",
    "csv_file2 = './OUTPUT/Comment_22.csv'\n",
    "csv_file3 = './OUTPUT/Comment_23.csv'\n",
    "csv_file4 = './OUTPUT/Comment_24.csv'\n",
    "csv_file5 = './OUTPUT/Comment_25.csv'\n",
    "\n",
    "csv_file = './OUTPUT/Comment.csv'"
   ]
  },
  {
   "cell_type": "code",
   "execution_count": 9,
   "metadata": {},
   "outputs": [
    {
     "name": "stdout",
     "output_type": "stream",
     "text": [
      "Tue Apr 26 08:40:50 2022       \n",
      "+-----------------------------------------------------------------------------+\n",
      "| NVIDIA-SMI 465.19.01    Driver Version: 465.19.01    CUDA Version: 11.3     |\n",
      "|-------------------------------+----------------------+----------------------+\n",
      "| GPU  Name        Persistence-M| Bus-Id        Disp.A | Volatile Uncorr. ECC |\n",
      "| Fan  Temp  Perf  Pwr:Usage/Cap|         Memory-Usage | GPU-Util  Compute M. |\n",
      "|                               |                      |               MIG M. |\n",
      "|===============================+======================+======================|\n",
      "|   0  NVIDIA GeForce ...  Off  | 00000000:5E:00.0 Off |                  N/A |\n",
      "| 34%   52C    P2    77W / 250W |   6149MiB / 11019MiB |     16%      Default |\n",
      "|                               |                      |                  N/A |\n",
      "+-------------------------------+----------------------+----------------------+\n",
      "|   1  NVIDIA GeForce ...  Off  | 00000000:86:00.0 Off |                  N/A |\n",
      "|  0%   24C    P8     2W / 250W |   3496MiB / 11019MiB |      0%      Default |\n",
      "|                               |                      |                  N/A |\n",
      "+-------------------------------+----------------------+----------------------+\n",
      "                                                                               \n",
      "+-----------------------------------------------------------------------------+\n",
      "| Processes:                                                                  |\n",
      "|  GPU   GI   CI        PID   Type   Process name                  GPU Memory |\n",
      "|        ID   ID                                                   Usage      |\n",
      "|=============================================================================|\n",
      "|    0   N/A  N/A   3295888      C   ...da3/envs/AI_DA/bin/python     3449MiB |\n",
      "|    0   N/A  N/A   3301977      C   ...da3/envs/AI_DA/bin/python     2697MiB |\n",
      "|    1   N/A  N/A    429695      C   python                           3493MiB |\n",
      "+-----------------------------------------------------------------------------+\n"
     ]
    }
   ],
   "source": [
    "!nvidia-smi"
   ]
  },
  {
   "cell_type": "markdown",
   "metadata": {
    "id": "YinE6ts__dfB"
   },
   "source": [
    "# Data preprocessing"
   ]
  },
  {
   "cell_type": "markdown",
   "metadata": {
    "id": "HwSAFGjcLttP"
   },
   "source": [
    "## Image data"
   ]
  },
  {
   "cell_type": "code",
   "execution_count": 10,
   "metadata": {
    "id": "AuYQmzhSgxiW"
   },
   "outputs": [],
   "source": [
    "data_zip = zipfile.ZipFile(data_zip_file)"
   ]
  },
  {
   "cell_type": "code",
   "execution_count": 11,
   "metadata": {
    "colab": {
     "base_uri": "https://localhost:8080/"
    },
    "id": "5EJSSyN5UEqZ",
    "outputId": "3f225eae-f16d-4305-c2dc-2a83376642b8"
   },
   "outputs": [
    {
     "data": {
      "text/plain": [
       "58766"
      ]
     },
     "execution_count": 11,
     "metadata": {},
     "output_type": "execute_result"
    }
   ],
   "source": [
    "len(data_zip.namelist())"
   ]
  },
  {
   "cell_type": "code",
   "execution_count": 12,
   "metadata": {},
   "outputs": [
    {
     "data": {
      "text/plain": [
       "True"
      ]
     },
     "execution_count": 12,
     "metadata": {},
     "output_type": "execute_result"
    }
   ],
   "source": [
    "'local1_folder-1/foody-fukunohana-hanoi-japanese-retstaurant-970-637197316556573205.jpg' in data_zip.namelist()"
   ]
  },
  {
   "cell_type": "code",
   "execution_count": 13,
   "metadata": {
    "colab": {
     "base_uri": "https://localhost:8080/",
     "height": 340
    },
    "id": "DdGQBwnJg_Bs",
    "outputId": "19086978-ed5b-4920-d305-7728a4eff1cb"
   },
   "outputs": [
    {
     "name": "stdout",
     "output_type": "stream",
     "text": [
      "local1_folder-1/foody-fukunohana-hanoi-japanese-retstaurant-970-637197316556573205.jpg\n",
      "<PIL.JpegImagePlugin.JpegImageFile image mode=RGB size=800x734 at 0x7F396A5BEE60>\n",
      "(734, 800, 3)\n"
     ]
    },
    {
     "data": {
      "text/plain": [
       "<matplotlib.image.AxesImage at 0x7f39dd9119c0>"
      ]
     },
     "execution_count": 13,
     "metadata": {},
     "output_type": "execute_result"
    },
    {
     "data": {
      "image/png": "[encoded data removed]",
      "text/plain": [
       "<Figure size 432x288 with 1 Axes>"
      ]
     },
     "metadata": {
      "needs_background": "light"
     },
     "output_type": "display_data"
    }
   ],
   "source": [
    "img_path = data_zip.namelist()[1]\n",
    "print(img_path)\n",
    "img = Image.open(data_zip.open(img_path))\n",
    "print(img)\n",
    "print(np.asarray(img).shape)\n",
    "plt.imshow(img)"
   ]
  },
  {
   "cell_type": "code",
   "execution_count": 14,
   "metadata": {
    "id": "LD9uOa1eiRj7"
   },
   "outputs": [],
   "source": [
    "# ### Scale image to [0,1]\n",
    "# trans = T.ToTensor()\n",
    "# trans(img).shape"
   ]
  },
  {
   "cell_type": "markdown",
   "metadata": {
    "id": "NMRLRh98LpkS"
   },
   "source": [
    "## CSV data"
   ]
  },
  {
   "cell_type": "code",
   "execution_count": 15,
   "metadata": {
    "colab": {
     "base_uri": "https://localhost:8080/",
     "height": 206
    },
    "id": "Pg2j5eX7kJ2I",
    "outputId": "688189ef-369e-4559-b4f8-a2a2093f3c17"
   },
   "outputs": [
    {
     "data": {
      "text/html": [
       "<div>\n",
       "<style scoped>\n",
       "    .dataframe tbody tr th:only-of-type {\n",
       "        vertical-align: middle;\n",
       "    }\n",
       "\n",
       "    .dataframe tbody tr th {\n",
       "        vertical-align: top;\n",
       "    }\n",
       "\n",
       "    .dataframe thead th {\n",
       "        text-align: right;\n",
       "    }\n",
       "</style>\n",
       "<table border=\"1\" class=\"dataframe\">\n",
       "  <thead>\n",
       "    <tr style=\"text-align: right;\">\n",
       "      <th></th>\n",
       "      <th>Comment</th>\n",
       "      <th>Rating</th>\n",
       "    </tr>\n",
       "  </thead>\n",
       "  <tbody>\n",
       "    <tr>\n",
       "      <th>0</th>\n",
       "      <td>Đặt dồi sụn của quán vì đọc comment thấy hấp d...</td>\n",
       "      <td>5.8</td>\n",
       "    </tr>\n",
       "    <tr>\n",
       "      <th>1</th>\n",
       "      <td>Dồi khá ngon, mua về còn nóng mở ra thơm phức,...</td>\n",
       "      <td>9.0</td>\n",
       "    </tr>\n",
       "    <tr>\n",
       "      <th>2</th>\n",
       "      <td>Đặt xuất mỳ trộn thập cẩm, khá đầy đủ và đầy đ...</td>\n",
       "      <td>9.4</td>\n",
       "    </tr>\n",
       "    <tr>\n",
       "      <th>3</th>\n",
       "      <td>Không hiểu sao quán này được 7.9 luôn. Đặt bán...</td>\n",
       "      <td>4.6</td>\n",
       "    </tr>\n",
       "    <tr>\n",
       "      <th>4</th>\n",
       "      <td>Dồi sụn bé tẹo, giá quá cao so với các quán kh...</td>\n",
       "      <td>1.0</td>\n",
       "    </tr>\n",
       "  </tbody>\n",
       "</table>\n",
       "</div>"
      ],
      "text/plain": [
       "                                             Comment  Rating\n",
       "0  Đặt dồi sụn của quán vì đọc comment thấy hấp d...     5.8\n",
       "1  Dồi khá ngon, mua về còn nóng mở ra thơm phức,...     9.0\n",
       "2  Đặt xuất mỳ trộn thập cẩm, khá đầy đủ và đầy đ...     9.4\n",
       "3  Không hiểu sao quán này được 7.9 luôn. Đặt bán...     4.6\n",
       "4  Dồi sụn bé tẹo, giá quá cao so với các quán kh...     1.0"
      ]
     },
     "execution_count": 15,
     "metadata": {},
     "output_type": "execute_result"
    }
   ],
   "source": [
    "data_df1 = pd.read_csv(csv_file)\n",
    "data_df2 = pd.read_csv(csv_file2)\n",
    "data_df3 = pd.read_csv(csv_file3)\n",
    "data_df4 = pd.read_csv(csv_file4)\n",
    "data_df5 = pd.read_csv(csv_file5)\n",
    "\n",
    "\n",
    "data_df1[['Comment', 'Rating']].head()"
   ]
  },
  {
   "cell_type": "code",
   "execution_count": 16,
   "metadata": {
    "colab": {
     "base_uri": "https://localhost:8080/"
    },
    "id": "aZ4rpv-1tdNu",
    "outputId": "1cfdc147-fb29-4a68-e65c-17551869e713"
   },
   "outputs": [
    {
     "data": {
      "text/plain": [
       "(3093, 11)"
      ]
     },
     "execution_count": 16,
     "metadata": {},
     "output_type": "execute_result"
    }
   ],
   "source": [
    "data_df4.shape"
   ]
  },
  {
   "cell_type": "code",
   "execution_count": 17,
   "metadata": {
    "id": "-oQbCbM4gkOH"
   },
   "outputs": [],
   "source": [
    "data_df = pd.concat([data_df1,data_df2,data_df3,data_df4, data_df5], ignore_index = True)"
   ]
  },
  {
   "cell_type": "code",
   "execution_count": 18,
   "metadata": {
    "colab": {
     "base_uri": "https://localhost:8080/"
    },
    "id": "XHC1UlnMtlcz",
    "outputId": "dfe5d7e3-91a6-44f9-a944-4a3e6366f520"
   },
   "outputs": [
    {
     "data": {
      "text/plain": [
       "(14174, 11)"
      ]
     },
     "execution_count": 18,
     "metadata": {},
     "output_type": "execute_result"
    }
   ],
   "source": [
    "data_df.shape"
   ]
  },
  {
   "cell_type": "code",
   "execution_count": 19,
   "metadata": {
    "id": "DFR0Di-d-KCX"
   },
   "outputs": [],
   "source": [
    "data_df = data_df.dropna()\n",
    "data_df = data_df.reset_index(drop=True)"
   ]
  },
  {
   "cell_type": "code",
   "execution_count": 20,
   "metadata": {
    "colab": {
     "base_uri": "https://localhost:8080/"
    },
    "id": "sVhY9Oj9iwsf",
    "outputId": "d02fc229-a419-44b9-a985-1e9f36cb6d07"
   },
   "outputs": [
    {
     "data": {
      "text/plain": [
       "RevId                   0\n",
       "UserId                  0\n",
       "ResId                   0\n",
       "Comment                 0\n",
       "image_urls              0\n",
       "Food_score_cmt          0\n",
       "Services_score_cmt      0\n",
       "Atmosphere_score_cmt    0\n",
       "Position_score_cmt      0\n",
       "Price_score_cmt         0\n",
       "Rating                  0\n",
       "dtype: int64"
      ]
     },
     "execution_count": 20,
     "metadata": {},
     "output_type": "execute_result"
    }
   ],
   "source": [
    "data_df.isnull().sum()"
   ]
  },
  {
   "cell_type": "code",
   "execution_count": 21,
   "metadata": {
    "colab": {
     "base_uri": "https://localhost:8080/",
     "height": 773
    },
    "id": "uTTgx8nBJaIf",
    "outputId": "4febeb01-8ff8-4dc5-cb3d-330416a3154c"
   },
   "outputs": [
    {
     "data": {
      "text/html": [
       "<div>\n",
       "<style scoped>\n",
       "    .dataframe tbody tr th:only-of-type {\n",
       "        vertical-align: middle;\n",
       "    }\n",
       "\n",
       "    .dataframe tbody tr th {\n",
       "        vertical-align: top;\n",
       "    }\n",
       "\n",
       "    .dataframe thead th {\n",
       "        text-align: right;\n",
       "    }\n",
       "</style>\n",
       "<table border=\"1\" class=\"dataframe\">\n",
       "  <thead>\n",
       "    <tr style=\"text-align: right;\">\n",
       "      <th></th>\n",
       "      <th>RevId</th>\n",
       "      <th>UserId</th>\n",
       "      <th>ResId</th>\n",
       "      <th>Comment</th>\n",
       "      <th>image_urls</th>\n",
       "      <th>Food_score_cmt</th>\n",
       "      <th>Services_score_cmt</th>\n",
       "      <th>Atmosphere_score_cmt</th>\n",
       "      <th>Position_score_cmt</th>\n",
       "      <th>Price_score_cmt</th>\n",
       "      <th>score</th>\n",
       "    </tr>\n",
       "  </thead>\n",
       "  <tbody>\n",
       "    <tr>\n",
       "      <th>0</th>\n",
       "      <td>3648046</td>\n",
       "      <td>8920424</td>\n",
       "      <td>965165</td>\n",
       "      <td>Đặt dồi sụn của quán vì đọc comment thấy hấp d...</td>\n",
       "      <td>https://images.foody.vn/res/g97/965165/s800/fo...</td>\n",
       "      <td>5.0</td>\n",
       "      <td>9.0</td>\n",
       "      <td>5.0</td>\n",
       "      <td>5.0</td>\n",
       "      <td>5.0</td>\n",
       "      <td>5.8</td>\n",
       "    </tr>\n",
       "    <tr>\n",
       "      <th>1</th>\n",
       "      <td>3695359</td>\n",
       "      <td>18558601</td>\n",
       "      <td>965165</td>\n",
       "      <td>Dồi khá ngon, mua về còn nóng mở ra thơm phức,...</td>\n",
       "      <td>https://images.foody.vn/res/g97/965165/s800/fo...</td>\n",
       "      <td>10.0</td>\n",
       "      <td>10.0</td>\n",
       "      <td>9.0</td>\n",
       "      <td>8.0</td>\n",
       "      <td>8.0</td>\n",
       "      <td>9.0</td>\n",
       "    </tr>\n",
       "    <tr>\n",
       "      <th>2</th>\n",
       "      <td>3695487</td>\n",
       "      <td>13885433</td>\n",
       "      <td>965165</td>\n",
       "      <td>Đặt xuất mỳ trộn thập cẩm, khá đầy đủ và đầy đ...</td>\n",
       "      <td>https://images.foody.vn/res/g97/965165/s800/fo...</td>\n",
       "      <td>10.0</td>\n",
       "      <td>10.0</td>\n",
       "      <td>9.0</td>\n",
       "      <td>8.0</td>\n",
       "      <td>10.0</td>\n",
       "      <td>9.4</td>\n",
       "    </tr>\n",
       "    <tr>\n",
       "      <th>3</th>\n",
       "      <td>4256913</td>\n",
       "      <td>11400976</td>\n",
       "      <td>965165</td>\n",
       "      <td>Không hiểu sao quán này được 7.9 luôn. Đặt bán...</td>\n",
       "      <td>https://images.foody.vn/res/g97/965165/s800/fo...</td>\n",
       "      <td>1.0</td>\n",
       "      <td>5.0</td>\n",
       "      <td>5.0</td>\n",
       "      <td>6.0</td>\n",
       "      <td>6.0</td>\n",
       "      <td>4.6</td>\n",
       "    </tr>\n",
       "    <tr>\n",
       "      <th>4</th>\n",
       "      <td>4246644</td>\n",
       "      <td>525112</td>\n",
       "      <td>965165</td>\n",
       "      <td>Dồi sụn bé tẹo, giá quá cao so với các quán kh...</td>\n",
       "      <td>https://images.foody.vn/res/g97/965165/s800/fo...</td>\n",
       "      <td>1.0</td>\n",
       "      <td>1.0</td>\n",
       "      <td>1.0</td>\n",
       "      <td>1.0</td>\n",
       "      <td>1.0</td>\n",
       "      <td>1.0</td>\n",
       "    </tr>\n",
       "  </tbody>\n",
       "</table>\n",
       "</div>"
      ],
      "text/plain": [
       "     RevId    UserId   ResId  \\\n",
       "0  3648046   8920424  965165   \n",
       "1  3695359  18558601  965165   \n",
       "2  3695487  13885433  965165   \n",
       "3  4256913  11400976  965165   \n",
       "4  4246644    525112  965165   \n",
       "\n",
       "                                             Comment  \\\n",
       "0  Đặt dồi sụn của quán vì đọc comment thấy hấp d...   \n",
       "1  Dồi khá ngon, mua về còn nóng mở ra thơm phức,...   \n",
       "2  Đặt xuất mỳ trộn thập cẩm, khá đầy đủ và đầy đ...   \n",
       "3  Không hiểu sao quán này được 7.9 luôn. Đặt bán...   \n",
       "4  Dồi sụn bé tẹo, giá quá cao so với các quán kh...   \n",
       "\n",
       "                                          image_urls  Food_score_cmt  \\\n",
       "0  https://images.foody.vn/res/g97/965165/s800/fo...             5.0   \n",
       "1  https://images.foody.vn/res/g97/965165/s800/fo...            10.0   \n",
       "2  https://images.foody.vn/res/g97/965165/s800/fo...            10.0   \n",
       "3  https://images.foody.vn/res/g97/965165/s800/fo...             1.0   \n",
       "4  https://images.foody.vn/res/g97/965165/s800/fo...             1.0   \n",
       "\n",
       "   Services_score_cmt  Atmosphere_score_cmt  Position_score_cmt  \\\n",
       "0                 9.0                   5.0                 5.0   \n",
       "1                10.0                   9.0                 8.0   \n",
       "2                10.0                   9.0                 8.0   \n",
       "3                 5.0                   5.0                 6.0   \n",
       "4                 1.0                   1.0                 1.0   \n",
       "\n",
       "   Price_score_cmt  score  \n",
       "0              5.0    5.8  \n",
       "1              8.0    9.0  \n",
       "2             10.0    9.4  \n",
       "3              6.0    4.6  \n",
       "4              1.0    1.0  "
      ]
     },
     "execution_count": 21,
     "metadata": {},
     "output_type": "execute_result"
    }
   ],
   "source": [
    "## Add more data\n",
    "data_df.rename(columns={\"Rating\":\"score\"}, inplace=True)\n",
    "data_df.head()"
   ]
  },
  {
   "cell_type": "code",
   "execution_count": 22,
   "metadata": {
    "colab": {
     "base_uri": "https://localhost:8080/",
     "height": 53
    },
    "id": "m87U0yoinm9x",
    "outputId": "c15d55ad-880d-4e67-89d4-25fb2a849ce1"
   },
   "outputs": [
    {
     "data": {
      "text/plain": [
       "'https://images.foody.vn/res/g97/965165/s800/foody-doi-sun-pate-shop-online-389-637116772226077520.jpg,https://images.foody.vn/res/g97/965165/s800/foody-doi-sun-pate-shop-online-427-637116772199356351.jpg'"
      ]
     },
     "execution_count": 22,
     "metadata": {},
     "output_type": "execute_result"
    }
   ],
   "source": [
    "data_df['image_urls'][0]"
   ]
  },
  {
   "cell_type": "code",
   "execution_count": 23,
   "metadata": {
    "colab": {
     "base_uri": "https://localhost:8080/",
     "height": 423
    },
    "id": "pPmcItkiypTV",
    "outputId": "5f3bfcb3-8015-48e0-9b16-8231d5921b2e"
   },
   "outputs": [
    {
     "data": {
      "text/html": [
       "<div>\n",
       "<style scoped>\n",
       "    .dataframe tbody tr th:only-of-type {\n",
       "        vertical-align: middle;\n",
       "    }\n",
       "\n",
       "    .dataframe tbody tr th {\n",
       "        vertical-align: top;\n",
       "    }\n",
       "\n",
       "    .dataframe thead th {\n",
       "        text-align: right;\n",
       "    }\n",
       "</style>\n",
       "<table border=\"1\" class=\"dataframe\">\n",
       "  <thead>\n",
       "    <tr style=\"text-align: right;\">\n",
       "      <th></th>\n",
       "      <th>Comment</th>\n",
       "      <th>score</th>\n",
       "    </tr>\n",
       "  </thead>\n",
       "  <tbody>\n",
       "    <tr>\n",
       "      <th>8</th>\n",
       "      <td>Giữa cái thời tiết HN sớm trưa mưa nắng thất t...</td>\n",
       "      <td>8.0</td>\n",
       "    </tr>\n",
       "    <tr>\n",
       "      <th>9677</th>\n",
       "      <td>Sáng nào mình cx phải ăn phở ở đây ms chịu đc ...</td>\n",
       "      <td>8.0</td>\n",
       "    </tr>\n",
       "    <tr>\n",
       "      <th>9701</th>\n",
       "      <td>Hàng xôi tấp nập người ghé ăn &amp; mua mang đi, n...</td>\n",
       "      <td>8.0</td>\n",
       "    </tr>\n",
       "    <tr>\n",
       "      <th>9705</th>\n",
       "      <td>Quán chè nhỏ nhỏ, đối diện bakery Tati. Cô chủ...</td>\n",
       "      <td>8.0</td>\n",
       "    </tr>\n",
       "    <tr>\n",
       "      <th>9713</th>\n",
       "      <td>❤ Vị trí : hàng này mới mở dạo gần đây. Nằm ng...</td>\n",
       "      <td>8.0</td>\n",
       "    </tr>\n",
       "    <tr>\n",
       "      <th>...</th>\n",
       "      <td>...</td>\n",
       "      <td>...</td>\n",
       "    </tr>\n",
       "    <tr>\n",
       "      <th>4892</th>\n",
       "      <td>* mùa dịch ăn gì ??🤔🤔\\nĐang mùa dịch thế này c...</td>\n",
       "      <td>8.0</td>\n",
       "    </tr>\n",
       "    <tr>\n",
       "      <th>4907</th>\n",
       "      <td>Suất đặc biệt cơm gà + sườn ship Now</td>\n",
       "      <td>8.0</td>\n",
       "    </tr>\n",
       "    <tr>\n",
       "      <th>4955</th>\n",
       "      <td>Chè sầu chính hãng nè cả nhà 😻 viêm họng mà vẫ...</td>\n",
       "      <td>8.0</td>\n",
       "    </tr>\n",
       "    <tr>\n",
       "      <th>5034</th>\n",
       "      <td>Nhân ngày xe bus hỏng đúng quán ding tea, mình...</td>\n",
       "      <td>8.0</td>\n",
       "    </tr>\n",
       "    <tr>\n",
       "      <th>14161</th>\n",
       "      <td>Vô tình thấy quán ở ngay mặt đường, sạch sẽ nổ...</td>\n",
       "      <td>8.0</td>\n",
       "    </tr>\n",
       "  </tbody>\n",
       "</table>\n",
       "<p>860 rows × 2 columns</p>\n",
       "</div>"
      ],
      "text/plain": [
       "                                                 Comment  score\n",
       "8      Giữa cái thời tiết HN sớm trưa mưa nắng thất t...    8.0\n",
       "9677   Sáng nào mình cx phải ăn phở ở đây ms chịu đc ...    8.0\n",
       "9701   Hàng xôi tấp nập người ghé ăn & mua mang đi, n...    8.0\n",
       "9705   Quán chè nhỏ nhỏ, đối diện bakery Tati. Cô chủ...    8.0\n",
       "9713   ❤ Vị trí : hàng này mới mở dạo gần đây. Nằm ng...    8.0\n",
       "...                                                  ...    ...\n",
       "4892   * mùa dịch ăn gì ??🤔🤔\\nĐang mùa dịch thế này c...    8.0\n",
       "4907                Suất đặc biệt cơm gà + sườn ship Now    8.0\n",
       "4955   Chè sầu chính hãng nè cả nhà 😻 viêm họng mà vẫ...    8.0\n",
       "5034   Nhân ngày xe bus hỏng đúng quán ding tea, mình...    8.0\n",
       "14161  Vô tình thấy quán ở ngay mặt đường, sạch sẽ nổ...    8.0\n",
       "\n",
       "[860 rows x 2 columns]"
      ]
     },
     "execution_count": 23,
     "metadata": {},
     "output_type": "execute_result"
    }
   ],
   "source": [
    "# ## Calculate score\n",
    "# data_df['score'] = data_df.apply(lambda x: (x['Food_score_cmt']+x['Services_score_cmt']+x['Atmosphere_score_cmt']+x['Position_score_cmt']+x['Price_score_cmt'])/5, axis = 1)\n",
    "data_df[(data_df['score'] >= 8) & (data_df['score'] <= 8)][['Comment','score']].sort_values(by=['score'])"
   ]
  },
  {
   "cell_type": "code",
   "execution_count": 24,
   "metadata": {
    "colab": {
     "base_uri": "https://localhost:8080/",
     "height": 89
    },
    "id": "Vw82otAuoXKO",
    "outputId": "09ab683f-f722-440f-d9e2-74bf27527e34"
   },
   "outputs": [
    {
     "data": {
      "text/plain": [
       "'Giữa cái thời tiết HN sớm trưa mưa nắng thất thường, tối phần phật gió như này thì việc ngồi nhâm nhâm nhi nhi em caramen hoa quả này là 1 điều thật tuyệt - thơm thơm ngậy ngậy của caramen, vị thanh mát của các loại hoa quả: dưa hấu, xoài, thanh long, mít....được kết hợp lại với nhau rất thú vị, cốc còn rất là đầy đặn nữa chứ. Cơ mà anh chị chủ quán làm ngon quá đi, cứ bị nghiện ý, mỗi ngày sẽ nếm 1 vị: sữa chua thạch lá nếp nè, sc hoa quả, chè khoai dẻo nè.....chu choa v.v.....vân vân và mây mây...'"
      ]
     },
     "execution_count": 24,
     "metadata": {},
     "output_type": "execute_result"
    }
   ],
   "source": [
    "data_df['Comment'][8]"
   ]
  },
  {
   "cell_type": "code",
   "execution_count": 25,
   "metadata": {
    "id": "2vytA2UJB4e5"
   },
   "outputs": [],
   "source": [
    "## label data\n",
    "def label_comment(x):\n",
    "  if x['score'] >= 8:\n",
    "    return 1\n",
    "  elif (x['score'] >= 6) & (x['score'] < 8):\n",
    "    return 2\n",
    "  else:\n",
    "    return 0\n",
    "data_df['label'] = data_df.apply(label_comment, axis=1)"
   ]
  },
  {
   "cell_type": "code",
   "execution_count": 26,
   "metadata": {},
   "outputs": [],
   "source": [
    "data_df = data_df[data_df['label'] != 2]"
   ]
  },
  {
   "cell_type": "code",
   "execution_count": 27,
   "metadata": {
    "colab": {
     "base_uri": "https://localhost:8080/",
     "height": 354
    },
    "id": "Oym9ogwW97m1",
    "outputId": "9b2b8026-7d6b-4e5c-c569-90af870cd086"
   },
   "outputs": [
    {
     "name": "stdout",
     "output_type": "stream",
     "text": [
      "1    6953\n",
      "0    3023\n",
      "Name: label, dtype: int64\n"
     ]
    },
    {
     "data": {
      "text/plain": [
       "<AxesSubplot:>"
      ]
     },
     "execution_count": 27,
     "metadata": {},
     "output_type": "execute_result"
    },
    {
     "data": {
      "image/png": "[encoded data removed]",
      "text/plain": [
       "<Figure size 432x288 with 1 Axes>"
      ]
     },
     "metadata": {
      "needs_background": "light"
     },
     "output_type": "display_data"
    }
   ],
   "source": [
    "print(data_df['label'].value_counts())\n",
    "data_df['label'].value_counts().plot(kind='barh')"
   ]
  },
  {
   "cell_type": "code",
   "execution_count": 28,
   "metadata": {
    "colab": {
     "base_uri": "https://localhost:8080/",
     "height": 206
    },
    "id": "J8CW9ISc6o4G",
    "outputId": "daa2c6d8-639e-42c9-e76f-ef92125c48ca"
   },
   "outputs": [
    {
     "data": {
      "text/html": [
       "<div>\n",
       "<style scoped>\n",
       "    .dataframe tbody tr th:only-of-type {\n",
       "        vertical-align: middle;\n",
       "    }\n",
       "\n",
       "    .dataframe tbody tr th {\n",
       "        vertical-align: top;\n",
       "    }\n",
       "\n",
       "    .dataframe thead th {\n",
       "        text-align: right;\n",
       "    }\n",
       "</style>\n",
       "<table border=\"1\" class=\"dataframe\">\n",
       "  <thead>\n",
       "    <tr style=\"text-align: right;\">\n",
       "      <th></th>\n",
       "      <th>Comment</th>\n",
       "      <th>label</th>\n",
       "      <th>score</th>\n",
       "    </tr>\n",
       "  </thead>\n",
       "  <tbody>\n",
       "    <tr>\n",
       "      <th>0</th>\n",
       "      <td>Đặt dồi sụn của quán vì đọc comment thấy hấp d...</td>\n",
       "      <td>0</td>\n",
       "      <td>5.8</td>\n",
       "    </tr>\n",
       "    <tr>\n",
       "      <th>1</th>\n",
       "      <td>Dồi khá ngon, mua về còn nóng mở ra thơm phức,...</td>\n",
       "      <td>1</td>\n",
       "      <td>9.0</td>\n",
       "    </tr>\n",
       "    <tr>\n",
       "      <th>2</th>\n",
       "      <td>Đặt xuất mỳ trộn thập cẩm, khá đầy đủ và đầy đ...</td>\n",
       "      <td>1</td>\n",
       "      <td>9.4</td>\n",
       "    </tr>\n",
       "    <tr>\n",
       "      <th>3</th>\n",
       "      <td>Không hiểu sao quán này được 7.9 luôn. Đặt bán...</td>\n",
       "      <td>0</td>\n",
       "      <td>4.6</td>\n",
       "    </tr>\n",
       "    <tr>\n",
       "      <th>4</th>\n",
       "      <td>Dồi sụn bé tẹo, giá quá cao so với các quán kh...</td>\n",
       "      <td>0</td>\n",
       "      <td>1.0</td>\n",
       "    </tr>\n",
       "  </tbody>\n",
       "</table>\n",
       "</div>"
      ],
      "text/plain": [
       "                                             Comment  label  score\n",
       "0  Đặt dồi sụn của quán vì đọc comment thấy hấp d...      0    5.8\n",
       "1  Dồi khá ngon, mua về còn nóng mở ra thơm phức,...      1    9.0\n",
       "2  Đặt xuất mỳ trộn thập cẩm, khá đầy đủ và đầy đ...      1    9.4\n",
       "3  Không hiểu sao quán này được 7.9 luôn. Đặt bán...      0    4.6\n",
       "4  Dồi sụn bé tẹo, giá quá cao so với các quán kh...      0    1.0"
      ]
     },
     "execution_count": 28,
     "metadata": {},
     "output_type": "execute_result"
    }
   ],
   "source": [
    "data_df[['Comment','label', 'score']].head()"
   ]
  },
  {
   "cell_type": "code",
   "execution_count": 29,
   "metadata": {
    "colab": {
     "base_uri": "https://localhost:8080/",
     "height": 423
    },
    "id": "5BGOclJx6q07",
    "outputId": "48837a3b-9c51-4c4e-9a7f-87d4ab42d742"
   },
   "outputs": [
    {
     "data": {
      "text/html": [
       "<div>\n",
       "<style scoped>\n",
       "    .dataframe tbody tr th:only-of-type {\n",
       "        vertical-align: middle;\n",
       "    }\n",
       "\n",
       "    .dataframe tbody tr th {\n",
       "        vertical-align: top;\n",
       "    }\n",
       "\n",
       "    .dataframe thead th {\n",
       "        text-align: right;\n",
       "    }\n",
       "</style>\n",
       "<table border=\"1\" class=\"dataframe\">\n",
       "  <thead>\n",
       "    <tr style=\"text-align: right;\">\n",
       "      <th></th>\n",
       "      <th>RevId</th>\n",
       "      <th>UserId</th>\n",
       "      <th>ResId</th>\n",
       "      <th>Comment</th>\n",
       "      <th>image_urls</th>\n",
       "      <th>score</th>\n",
       "      <th>label</th>\n",
       "    </tr>\n",
       "  </thead>\n",
       "  <tbody>\n",
       "    <tr>\n",
       "      <th>0</th>\n",
       "      <td>3648046</td>\n",
       "      <td>8920424</td>\n",
       "      <td>965165</td>\n",
       "      <td>Đặt dồi sụn của quán vì đọc comment thấy hấp d...</td>\n",
       "      <td>https://images.foody.vn/res/g97/965165/s800/fo...</td>\n",
       "      <td>5.8</td>\n",
       "      <td>0</td>\n",
       "    </tr>\n",
       "    <tr>\n",
       "      <th>1</th>\n",
       "      <td>3695359</td>\n",
       "      <td>18558601</td>\n",
       "      <td>965165</td>\n",
       "      <td>Dồi khá ngon, mua về còn nóng mở ra thơm phức,...</td>\n",
       "      <td>https://images.foody.vn/res/g97/965165/s800/fo...</td>\n",
       "      <td>9.0</td>\n",
       "      <td>1</td>\n",
       "    </tr>\n",
       "    <tr>\n",
       "      <th>2</th>\n",
       "      <td>3695487</td>\n",
       "      <td>13885433</td>\n",
       "      <td>965165</td>\n",
       "      <td>Đặt xuất mỳ trộn thập cẩm, khá đầy đủ và đầy đ...</td>\n",
       "      <td>https://images.foody.vn/res/g97/965165/s800/fo...</td>\n",
       "      <td>9.4</td>\n",
       "      <td>1</td>\n",
       "    </tr>\n",
       "    <tr>\n",
       "      <th>3</th>\n",
       "      <td>4256913</td>\n",
       "      <td>11400976</td>\n",
       "      <td>965165</td>\n",
       "      <td>Không hiểu sao quán này được 7.9 luôn. Đặt bán...</td>\n",
       "      <td>https://images.foody.vn/res/g97/965165/s800/fo...</td>\n",
       "      <td>4.6</td>\n",
       "      <td>0</td>\n",
       "    </tr>\n",
       "    <tr>\n",
       "      <th>4</th>\n",
       "      <td>4246644</td>\n",
       "      <td>525112</td>\n",
       "      <td>965165</td>\n",
       "      <td>Dồi sụn bé tẹo, giá quá cao so với các quán kh...</td>\n",
       "      <td>https://images.foody.vn/res/g97/965165/s800/fo...</td>\n",
       "      <td>1.0</td>\n",
       "      <td>0</td>\n",
       "    </tr>\n",
       "  </tbody>\n",
       "</table>\n",
       "</div>"
      ],
      "text/plain": [
       "     RevId    UserId   ResId  \\\n",
       "0  3648046   8920424  965165   \n",
       "1  3695359  18558601  965165   \n",
       "2  3695487  13885433  965165   \n",
       "3  4256913  11400976  965165   \n",
       "4  4246644    525112  965165   \n",
       "\n",
       "                                             Comment  \\\n",
       "0  Đặt dồi sụn của quán vì đọc comment thấy hấp d...   \n",
       "1  Dồi khá ngon, mua về còn nóng mở ra thơm phức,...   \n",
       "2  Đặt xuất mỳ trộn thập cẩm, khá đầy đủ và đầy đ...   \n",
       "3  Không hiểu sao quán này được 7.9 luôn. Đặt bán...   \n",
       "4  Dồi sụn bé tẹo, giá quá cao so với các quán kh...   \n",
       "\n",
       "                                          image_urls  score  label  \n",
       "0  https://images.foody.vn/res/g97/965165/s800/fo...    5.8      0  \n",
       "1  https://images.foody.vn/res/g97/965165/s800/fo...    9.0      1  \n",
       "2  https://images.foody.vn/res/g97/965165/s800/fo...    9.4      1  \n",
       "3  https://images.foody.vn/res/g97/965165/s800/fo...    4.6      0  \n",
       "4  https://images.foody.vn/res/g97/965165/s800/fo...    1.0      0  "
      ]
     },
     "execution_count": 29,
     "metadata": {},
     "output_type": "execute_result"
    }
   ],
   "source": [
    "data_df = data_df.drop(['Food_score_cmt','Services_score_cmt','Atmosphere_score_cmt','Position_score_cmt','Price_score_cmt'],axis=1)\n",
    "data_df.head()"
   ]
  },
  {
   "cell_type": "code",
   "execution_count": 30,
   "metadata": {},
   "outputs": [],
   "source": [
    "def preprocess_imgpath(df):\n",
    "    img_p = []\n",
    "    for path in df['image_urls'].split(\",\"):\n",
    "        img_path = 'local1_folder-1/' + path.split('/')[-1]\n",
    "        if img_path in data_zip.namelist():\n",
    "            img_p.append(img_path)\n",
    "    if len(img_p) > 0:\n",
    "        return ','.join(img_p)\n",
    "    return None"
   ]
  },
  {
   "cell_type": "code",
   "execution_count": 31,
   "metadata": {},
   "outputs": [],
   "source": [
    "data_df['image_urls'] = data_df.apply(preprocess_imgpath, axis=1)"
   ]
  },
  {
   "cell_type": "code",
   "execution_count": 32,
   "metadata": {},
   "outputs": [
    {
     "data": {
      "text/plain": [
       "RevId         0\n",
       "UserId        0\n",
       "ResId         0\n",
       "Comment       0\n",
       "image_urls    0\n",
       "score         0\n",
       "label         0\n",
       "dtype: int64"
      ]
     },
     "execution_count": 32,
     "metadata": {},
     "output_type": "execute_result"
    }
   ],
   "source": [
    "data_df = data_df.dropna()\n",
    "data_df = data_df.reset_index(drop=True)\n",
    "data_df.isnull().sum()"
   ]
  },
  {
   "cell_type": "code",
   "execution_count": 33,
   "metadata": {
    "colab": {
     "base_uri": "https://localhost:8080/",
     "height": 354
    },
    "id": "KPh6mSQK-pDj",
    "outputId": "115478a6-9a8e-4d84-e18c-5c8dddafbc0a"
   },
   "outputs": [
    {
     "name": "stdout",
     "output_type": "stream",
     "text": [
      "1    6952\n",
      "0    3023\n",
      "Name: label, dtype: int64\n"
     ]
    },
    {
     "data": {
      "text/plain": [
       "<AxesSubplot:>"
      ]
     },
     "execution_count": 33,
     "metadata": {},
     "output_type": "execute_result"
    },
    {
     "data": {
      "image/png": "[encoded data removed]",
      "text/plain": [
       "<Figure size 432x288 with 1 Axes>"
      ]
     },
     "metadata": {
      "needs_background": "light"
     },
     "output_type": "display_data"
    }
   ],
   "source": [
    "print(data_df['label'].value_counts())\n",
    "data_df['label'].value_counts().plot(kind='barh')"
   ]
  },
  {
   "cell_type": "code",
   "execution_count": 34,
   "metadata": {
    "id": "SgiD5uAdJXEm"
   },
   "outputs": [],
   "source": [
    "def loaddicchar():\n",
    "    dic = {}\n",
    "    char1252 = 'à|á|ả|ã|ạ|ầ|ấ|ẩ|ẫ|ậ|ằ|ắ|ẳ|ẵ|ặ|è|é|ẻ|ẽ|ẹ|ề|ế|ể|ễ|ệ|đ|ì|í|ỉ|ĩ|ị|ò|ó|ỏ|õ|ọ|ồ|ố|ổ|ỗ|ộ|ờ|ớ|ở|ỡ|ợ|ù|ú|ủ|ũ|ụ|ừ|ứ|ử|ữ|ự|ỳ|ý|ỷ|ỹ|ỵ|À|Á|Ả|Ã|Ạ|Ầ|Ấ|Ẩ|Ẫ|Ậ|Ằ|Ắ|Ẳ|Ẵ|Ặ|È|É|Ẻ|Ẽ|Ẹ|Ề|Ế|Ể|Ễ|Ệ|Ì|Í|Ỉ|Ĩ|Ị|Ò|Ó|Ỏ|Õ|Ọ|Ồ|Ố|Ổ|Ỗ|Ộ|Ờ|Ớ|Ở|Ỡ|Ợ|Ù|Ú|Ủ|Ũ|Ụ|Ừ|Ứ|Ử|Ữ|Ự|Ỳ|Ý|Ỷ|Ỹ|Ỵ'.split(\n",
    "        '|')\n",
    "    charutf8 = \"à|á|ả|ã|ạ|ầ|ấ|ẩ|ẫ|ậ|ằ|ắ|ẳ|ẵ|ặ|è|é|ẻ|ẽ|ẹ|ề|ế|ể|ễ|ệ|đ|ì|í|ỉ|ĩ|ị|ò|ó|ỏ|õ|ọ|ồ|ố|ổ|ỗ|ộ|ờ|ớ|ở|ỡ|ợ|ù|ú|ủ|ũ|ụ|ừ|ứ|ử|ữ|ự|ỳ|ý|ỷ|ỹ|ỵ|À|Á|Ả|Ã|Ạ|Ầ|Ấ|Ẩ|Ẫ|Ậ|Ằ|Ắ|Ẳ|Ẵ|Ặ|È|É|Ẻ|Ẽ|Ẹ|Ề|Ế|Ể|Ễ|Ệ|Ì|Í|Ỉ|Ĩ|Ị|Ò|Ó|Ỏ|Õ|Ọ|Ồ|Ố|Ổ|Ỗ|Ộ|Ờ|Ớ|Ở|Ỡ|Ợ|Ù|Ú|Ủ|Ũ|Ụ|Ừ|Ứ|Ử|Ữ|Ự|Ỳ|Ý|Ỷ|Ỹ|Ỵ\".split(\n",
    "        '|')\n",
    "    for i in range(len(char1252)):\n",
    "        dic[char1252[i]] = charutf8[i]\n",
    "    return dic\n",
    " \n",
    " \n",
    "dicchar = loaddicchar()\n",
    " \n",
    "# Đưa toàn bộ dữ liệu qua hàm này để chuẩn hóa lại\n",
    "def convert_unicode(txt):\n",
    "    return re.sub(\n",
    "        r'à|á|ả|ã|ạ|ầ|ấ|ẩ|ẫ|ậ|ằ|ắ|ẳ|ẵ|ặ|è|é|ẻ|ẽ|ẹ|ề|ế|ể|ễ|ệ|đ|ì|í|ỉ|ĩ|ị|ò|ó|ỏ|õ|ọ|ồ|ố|ổ|ỗ|ộ|ờ|ớ|ở|ỡ|ợ|ù|ú|ủ|ũ|ụ|ừ|ứ|ử|ữ|ự|ỳ|ý|ỷ|ỹ|ỵ|À|Á|Ả|Ã|Ạ|Ầ|Ấ|Ẩ|Ẫ|Ậ|Ằ|Ắ|Ẳ|Ẵ|Ặ|È|É|Ẻ|Ẽ|Ẹ|Ề|Ế|Ể|Ễ|Ệ|Ì|Í|Ỉ|Ĩ|Ị|Ò|Ó|Ỏ|Õ|Ọ|Ồ|Ố|Ổ|Ỗ|Ộ|Ờ|Ớ|Ở|Ỡ|Ợ|Ù|Ú|Ủ|Ũ|Ụ|Ừ|Ứ|Ử|Ữ|Ự|Ỳ|Ý|Ỷ|Ỹ|Ỵ',\n",
    "        lambda x: dicchar[x.group()], txt)"
   ]
  },
  {
   "cell_type": "code",
   "execution_count": 35,
   "metadata": {
    "id": "28hSajIdAgb1"
   },
   "outputs": [],
   "source": [
    "from vncorenlp import VnCoreNLP\n",
    "rdrsegmenter = VnCoreNLP(\"./vncorenlp/VnCoreNLP-1.1.1.jar\", annotators=\"wseg\", max_heap_size='-Xmx500m') \n",
    "\n",
    "uniChars = \"àáảãạâầấẩẫậăằắẳẵặèéẻẽẹêềếểễệđìíỉĩịòóỏõọôồốổỗộơờớởỡợùúủũụưừứửữựỳýỷỹỵÀÁẢÃẠÂẦẤẨẪẬĂẰẮẲẴẶÈÉẺẼẸÊỀẾỂỄỆĐÌÍỈĨỊÒÓỎÕỌÔỒỐỔỖỘƠỜỚỞỠỢÙÚỦŨỤƯỪỨỬỮỰỲÝỶỸỴÂĂĐÔƠƯ\"\n",
    "punc_re = '[^\\w'+uniChars+']'\n",
    "def preprocess_text(sen):\n",
    "  ##Unicode reform\n",
    "  assert isinstance(sen, str), 'Not String'\n",
    "  sen = convert_unicode(sen)\n",
    "  ##Remove punctuation\n",
    "  sen = re.sub(punc_re,' ', sen)\n",
    "  ##Remove multiple space\n",
    "  sen = re.sub('\\s+',' ', sen)\n",
    "  ##Lower\n",
    "  sen = sen.lower()\n",
    "  ##Segment\n",
    "  seg = rdrsegmenter.tokenize(sen)\n",
    "  if len(seg) == 0:\n",
    "    sen = ' '\n",
    "  else: \n",
    "    sen = ' '.join(seg[0])\n",
    "  return sen\n",
    "# vec_pre = np.vectorize(preprocess_text)\n",
    "# print(vec_pre((data_df.iloc[3,3])))\n",
    "data_df['preprocess_comment'] = data_df.apply(lambda x: preprocess_text(x['Comment']), axis = 1)"
   ]
  },
  {
   "cell_type": "code",
   "execution_count": 36,
   "metadata": {
    "colab": {
     "base_uri": "https://localhost:8080/",
     "height": 337
    },
    "id": "7AGP68b2jlTj",
    "outputId": "96c14495-ae54-4d80-c1ac-a09c9d731547"
   },
   "outputs": [
    {
     "data": {
      "text/html": [
       "<div>\n",
       "<style scoped>\n",
       "    .dataframe tbody tr th:only-of-type {\n",
       "        vertical-align: middle;\n",
       "    }\n",
       "\n",
       "    .dataframe tbody tr th {\n",
       "        vertical-align: top;\n",
       "    }\n",
       "\n",
       "    .dataframe thead th {\n",
       "        text-align: right;\n",
       "    }\n",
       "</style>\n",
       "<table border=\"1\" class=\"dataframe\">\n",
       "  <thead>\n",
       "    <tr style=\"text-align: right;\">\n",
       "      <th></th>\n",
       "      <th>RevId</th>\n",
       "      <th>UserId</th>\n",
       "      <th>ResId</th>\n",
       "      <th>Comment</th>\n",
       "      <th>image_urls</th>\n",
       "      <th>score</th>\n",
       "      <th>label</th>\n",
       "      <th>preprocess_comment</th>\n",
       "    </tr>\n",
       "  </thead>\n",
       "  <tbody>\n",
       "    <tr>\n",
       "      <th>0</th>\n",
       "      <td>3648046</td>\n",
       "      <td>8920424</td>\n",
       "      <td>965165</td>\n",
       "      <td>Đặt dồi sụn của quán vì đọc comment thấy hấp d...</td>\n",
       "      <td>local1_folder-1/foody-doi-sun-pate-shop-online...</td>\n",
       "      <td>5.8</td>\n",
       "      <td>0</td>\n",
       "      <td>đặt dồi sụn của quán vì đọc comment thấy hấp_d...</td>\n",
       "    </tr>\n",
       "    <tr>\n",
       "      <th>1</th>\n",
       "      <td>3695359</td>\n",
       "      <td>18558601</td>\n",
       "      <td>965165</td>\n",
       "      <td>Dồi khá ngon, mua về còn nóng mở ra thơm phức,...</td>\n",
       "      <td>local1_folder-1/foody-doi-sun-pate-shop-online...</td>\n",
       "      <td>9.0</td>\n",
       "      <td>1</td>\n",
       "      <td>dồi khá ngon mua về còn nóng mở ra thơm_phức s...</td>\n",
       "    </tr>\n",
       "    <tr>\n",
       "      <th>2</th>\n",
       "      <td>3695487</td>\n",
       "      <td>13885433</td>\n",
       "      <td>965165</td>\n",
       "      <td>Đặt xuất mỳ trộn thập cẩm, khá đầy đủ và đầy đ...</td>\n",
       "      <td>local1_folder-1/foody-doi-sun-pate-shop-online...</td>\n",
       "      <td>9.4</td>\n",
       "      <td>1</td>\n",
       "      <td>đặt xuất mỳ trộn thập_cẩm khá đầy_đủ và đầy_đặ...</td>\n",
       "    </tr>\n",
       "    <tr>\n",
       "      <th>3</th>\n",
       "      <td>4256913</td>\n",
       "      <td>11400976</td>\n",
       "      <td>965165</td>\n",
       "      <td>Không hiểu sao quán này được 7.9 luôn. Đặt bán...</td>\n",
       "      <td>local1_folder-1/foody-doi-sun-pate-shop-online...</td>\n",
       "      <td>4.6</td>\n",
       "      <td>0</td>\n",
       "      <td>không hiểu sao quán này được 7 9 luôn đặt bánh...</td>\n",
       "    </tr>\n",
       "    <tr>\n",
       "      <th>4</th>\n",
       "      <td>4246644</td>\n",
       "      <td>525112</td>\n",
       "      <td>965165</td>\n",
       "      <td>Dồi sụn bé tẹo, giá quá cao so với các quán kh...</td>\n",
       "      <td>local1_folder-1/foody-doi-sun-pate-shop-online...</td>\n",
       "      <td>1.0</td>\n",
       "      <td>0</td>\n",
       "      <td>dồi sụn bé tẹo giá quá cao so với các quán khá...</td>\n",
       "    </tr>\n",
       "  </tbody>\n",
       "</table>\n",
       "</div>"
      ],
      "text/plain": [
       "     RevId    UserId   ResId  \\\n",
       "0  3648046   8920424  965165   \n",
       "1  3695359  18558601  965165   \n",
       "2  3695487  13885433  965165   \n",
       "3  4256913  11400976  965165   \n",
       "4  4246644    525112  965165   \n",
       "\n",
       "                                             Comment  \\\n",
       "0  Đặt dồi sụn của quán vì đọc comment thấy hấp d...   \n",
       "1  Dồi khá ngon, mua về còn nóng mở ra thơm phức,...   \n",
       "2  Đặt xuất mỳ trộn thập cẩm, khá đầy đủ và đầy đ...   \n",
       "3  Không hiểu sao quán này được 7.9 luôn. Đặt bán...   \n",
       "4  Dồi sụn bé tẹo, giá quá cao so với các quán kh...   \n",
       "\n",
       "                                          image_urls  score  label  \\\n",
       "0  local1_folder-1/foody-doi-sun-pate-shop-online...    5.8      0   \n",
       "1  local1_folder-1/foody-doi-sun-pate-shop-online...    9.0      1   \n",
       "2  local1_folder-1/foody-doi-sun-pate-shop-online...    9.4      1   \n",
       "3  local1_folder-1/foody-doi-sun-pate-shop-online...    4.6      0   \n",
       "4  local1_folder-1/foody-doi-sun-pate-shop-online...    1.0      0   \n",
       "\n",
       "                                  preprocess_comment  \n",
       "0  đặt dồi sụn của quán vì đọc comment thấy hấp_d...  \n",
       "1  dồi khá ngon mua về còn nóng mở ra thơm_phức s...  \n",
       "2  đặt xuất mỳ trộn thập_cẩm khá đầy_đủ và đầy_đặ...  \n",
       "3  không hiểu sao quán này được 7 9 luôn đặt bánh...  \n",
       "4  dồi sụn bé tẹo giá quá cao so với các quán khá...  "
      ]
     },
     "execution_count": 36,
     "metadata": {},
     "output_type": "execute_result"
    }
   ],
   "source": [
    "data_df.head()"
   ]
  },
  {
   "cell_type": "code",
   "execution_count": 37,
   "metadata": {
    "colab": {
     "base_uri": "https://localhost:8080/"
    },
    "id": "0MjDRAeZbrpe",
    "outputId": "62b6abe7-41b0-450a-eb83-5d25e03f8128"
   },
   "outputs": [
    {
     "data": {
      "text/plain": [
       "(9, 8)"
      ]
     },
     "execution_count": 37,
     "metadata": {},
     "output_type": "execute_result"
    }
   ],
   "source": [
    "data_df[data_df['preprocess_comment']==\" \"].shape\n",
    "# data_df.drop(data_df[data_df['preprocess_comment']==\" \"].index, inplace = True)"
   ]
  },
  {
   "cell_type": "code",
   "execution_count": 38,
   "metadata": {
    "colab": {
     "base_uri": "https://localhost:8080/"
    },
    "id": "5t7qGKcjc8HS",
    "outputId": "3efb1572-d8bc-494d-cc79-911c341351ba"
   },
   "outputs": [
    {
     "data": {
      "text/plain": [
       "4187    vị_trí ở mặt đường nhưng ở cạnh quán mì cay to...\n",
       "4188    thật tuyệt_cú mèo luôn mỗi cốc hoa_quả dầm ở đ...\n",
       "4189    mình đã ăn_ở địa_điểm 211 chùa láng được hơn 1...\n",
       "4190    nghe mọi người khen quán này dữ lém nên hôm_na...\n",
       "Name: preprocess_comment, dtype: object"
      ]
     },
     "execution_count": 38,
     "metadata": {},
     "output_type": "execute_result"
    }
   ],
   "source": [
    "data_df = data_df.reset_index()\n",
    "data_df['preprocess_comment'][4187:4191]"
   ]
  },
  {
   "cell_type": "code",
   "execution_count": 39,
   "metadata": {
    "colab": {
     "base_uri": "https://localhost:8080/"
    },
    "id": "_9pXfk9tBk_1",
    "outputId": "15337a24-3102-4db5-e239-38466aa2a289"
   },
   "outputs": [
    {
     "data": {
      "text/plain": [
       "314     1\n",
       "415     1\n",
       "744     1\n",
       "1011    1\n",
       "1077    1\n",
       "1543    1\n",
       "1779    1\n",
       "1808    1\n",
       "1888    1\n",
       "2302    1\n",
       "2337    1\n",
       "2528    1\n",
       "2836    1\n",
       "2873    1\n",
       "2976    1\n",
       "3489    1\n",
       "3643    1\n",
       "4328    1\n",
       "4409    1\n",
       "4645    1\n",
       "5242    1\n",
       "5564    1\n",
       "5976    1\n",
       "6341    1\n",
       "6487    1\n",
       "6748    1\n",
       "7554    1\n",
       "7603    1\n",
       "8684    1\n",
       "8881    1\n",
       "9377    1\n",
       "9523    1\n",
       "Name: preprocess_comment, dtype: int64"
      ]
     },
     "execution_count": 39,
     "metadata": {},
     "output_type": "execute_result"
    }
   ],
   "source": [
    "a = data_df['preprocess_comment'].str.split()\n",
    "a = a.apply(lambda x: len(x))\n",
    "a[a==1]"
   ]
  },
  {
   "cell_type": "code",
   "execution_count": 40,
   "metadata": {
    "colab": {
     "base_uri": "https://localhost:8080/"
    },
    "id": "ghhFsnQZRIOx",
    "outputId": "738871be-e8bd-4daa-a25f-a6441d005ee1"
   },
   "outputs": [
    {
     "data": {
      "text/plain": [
       "0        56\n",
       "1        43\n",
       "2        38\n",
       "3        34\n",
       "4        74\n",
       "       ... \n",
       "9970     42\n",
       "9971     48\n",
       "9972    107\n",
       "9973    185\n",
       "9974     17\n",
       "Name: preprocess_comment, Length: 9975, dtype: int64"
      ]
     },
     "execution_count": 40,
     "metadata": {},
     "output_type": "execute_result"
    }
   ],
   "source": [
    "a"
   ]
  },
  {
   "cell_type": "code",
   "execution_count": 41,
   "metadata": {
    "colab": {
     "base_uri": "https://localhost:8080/",
     "height": 35
    },
    "id": "uXAGoz9iQ2-0",
    "outputId": "b2d25fd1-ce31-4f08-eb56-6be297d2f662"
   },
   "outputs": [
    {
     "data": {
      "text/plain": [
       "'Sữa chua mít + trà đào ngon, caramen trong sữa chua ăn cũng ok, giá vừa phải. Quán sạch sẽ, nhân viên phục vụ tốt. Sẽ quay lại.'"
      ]
     },
     "execution_count": 41,
     "metadata": {},
     "output_type": "execute_result"
    }
   ],
   "source": [
    "data_df['Comment'][195]"
   ]
  },
  {
   "cell_type": "code",
   "execution_count": 42,
   "metadata": {
    "colab": {
     "base_uri": "https://localhost:8080/",
     "height": 283
    },
    "id": "v0cC4OTiRXqG",
    "outputId": "37953fe6-4a70-4659-d9b6-19775faa850e"
   },
   "outputs": [
    {
     "data": {
      "text/plain": [
       "<AxesSubplot:>"
      ]
     },
     "execution_count": 42,
     "metadata": {},
     "output_type": "execute_result"
    },
    {
     "data": {
      "image/png": "[encoded data removed]",
      "text/plain": [
       "<Figure size 432x288 with 1 Axes>"
      ]
     },
     "metadata": {
      "needs_background": "light"
     },
     "output_type": "display_data"
    }
   ],
   "source": [
    "seq_len = [len(i.split()) for i in data_df['preprocess_comment']]\n",
    "\n",
    "pd.Series(seq_len).hist(bins = 30)"
   ]
  },
  {
   "cell_type": "code",
   "execution_count": 43,
   "metadata": {},
   "outputs": [
    {
     "data": {
      "text/plain": [
       "<AxesSubplot:>"
      ]
     },
     "execution_count": 43,
     "metadata": {},
     "output_type": "execute_result"
    },
    {
     "data": {
      "image/png": "[encoded data removed]",
      "text/plain": [
       "<Figure size 432x288 with 1 Axes>"
      ]
     },
     "metadata": {
      "needs_background": "light"
     },
     "output_type": "display_data"
    }
   ],
   "source": [
    "img_len = [len(i.split(',')) for i in data_df['image_urls']]\n",
    "\n",
    "pd.Series(img_len).hist(bins = 10)"
   ]
  },
  {
   "cell_type": "code",
   "execution_count": 44,
   "metadata": {},
   "outputs": [
    {
     "data": {
      "text/plain": [
       "1     5930\n",
       "2     1699\n",
       "3      940\n",
       "4      454\n",
       "5      320\n",
       "10     210\n",
       "6      178\n",
       "7      121\n",
       "8       75\n",
       "9       48\n",
       "dtype: int64"
      ]
     },
     "execution_count": 44,
     "metadata": {},
     "output_type": "execute_result"
    }
   ],
   "source": [
    "img_len = pd.DataFrame(img_len)\n",
    "img_len.value_counts()"
   ]
  },
  {
   "cell_type": "code",
   "execution_count": 45,
   "metadata": {},
   "outputs": [
    {
     "data": {
      "text/plain": [
       "0    2.066266\n",
       "dtype: float64"
      ]
     },
     "execution_count": 45,
     "metadata": {},
     "output_type": "execute_result"
    }
   ],
   "source": [
    "img_len.mean()"
   ]
  },
  {
   "cell_type": "markdown",
   "metadata": {
    "id": "W9S-CZXOtobN"
   },
   "source": [
    "# Load BPE, Vocab of PhoBERT and DataGen"
   ]
  },
  {
   "cell_type": "code",
   "execution_count": 46,
   "metadata": {
    "colab": {
     "base_uri": "https://localhost:8080/",
     "height": 131,
     "referenced_widgets": [
      "2f8400d957d4428b86f73a07c12a69ff",
      "b375fdd33a8f4fad9f7dcc33f24f3f7b",
      "562df45b9b7e42799e8323f7db1eaf18",
      "624a86d43249405388f1286063cebae4",
      "c9918922671546a88e3b2ee509394df3",
      "1bb3780855494b029edc7dc564fcc51e",
      "046f564c5ccc4b9f9c866a6a57b900bf",
      "49da75829cbd4350a64bfcdc04576ac1",
      "4bea41d4adb249d5afc2cbd40dc3210d",
      "08e56fb9c8c74262aa75994d2766136d",
      "ca0da54234e9446db60b5331fa076d81",
      "1250687b6c4e48e0a4b79de74f294235",
      "0cfbf06467a04d4e9f97d8fbbb9328b7",
      "16736771e702494cb52be951b3df47bc",
      "df155493042740d9b96ee0343b9f03d4",
      "70da72f327b64a8a8d2574848ddaa5c0",
      "345e16e44bad4ccf83b61099383e8b71",
      "69e00ff1b849487f9e10000b486a766c",
      "98128e9bcb0b4cf4a949d51f299b3bde",
      "302b8bb010ec40908960c26742dd4df3",
      "3f3889c16b134b408de36adb46505c40",
      "db463b1c3ae44d6980bec291e144523c",
      "2889253c1e7d4df1b02db1773a304e26",
      "876c019d15f04031af2f5735ed37a038",
      "800ec21aa4674fce95f33685c2033b11",
      "6b4ab9aa406a4071b5e888b0cd25335c",
      "82995c53c15f4166a2641b2560faa49d",
      "1e21006c0b9740ecb6f427f6a49bf409",
      "733c53bc95c0490982e6473ad1d55418",
      "3d8af058291c4c7393bb04f2f1ec2622",
      "e4cb55de261c4416b945fdb72232c12d",
      "ad4a2e90f75d49f289b127d43acca1df",
      "d63ef1d399ab42698b667b2938d7e398"
     ]
    },
    "id": "6fqLCkKLZKoO",
    "outputId": "3f9ba7ba-a6e1-48e5-b3e3-cebab77d7c3c"
   },
   "outputs": [
    {
     "name": "stderr",
     "output_type": "stream",
     "text": [
      "Special tokens have been added in the vocabulary, make sure the associated word embeddings are fine-tuned or trained.\n"
     ]
    }
   ],
   "source": [
    "from transformers import AutoModel, AutoTokenizer\n",
    "\n",
    "tokenizer = AutoTokenizer.from_pretrained(\"vinai/phobert-base\")"
   ]
  },
  {
   "cell_type": "code",
   "execution_count": 47,
   "metadata": {
    "id": "UEUtZY6lbnhU"
   },
   "outputs": [],
   "source": [
    "def collate_batch(batch):\n",
    "  input_ids = []\n",
    "  attention_masks = []\n",
    "  imgs = []\n",
    "  img_len = []\n",
    "  labels = []\n",
    "  for bt in batch:\n",
    "    input_ids.append(bt[0]['input_ids'][0])\n",
    "    attention_masks.append(bt[0]['attention_mask'][0])\n",
    "    imgs.extend(bt[1])\n",
    "    img_len.append(len(bt[1]))\n",
    "    labels.append(bt[2])\n",
    "\n",
    "  bert_tokens = torch.stack(input_ids)\n",
    "  attention_masks = torch.stack(attention_masks)\n",
    "  imgs_torch = torch.stack(imgs)\n",
    "  labels = torch.LongTensor(labels)\n",
    "\n",
    "  return  { 'input_ids': bert_tokens , 'attention_mask':attention_masks } , imgs_torch, img_len, labels"
   ]
  },
  {
   "cell_type": "code",
   "execution_count": 48,
   "metadata": {
    "id": "NKgPUlOLlUx9"
   },
   "outputs": [],
   "source": [
    "trans = T.ToTensor()\n",
    "RANDOM_SEED = 0\n",
    "MAX_LEN = 150\n",
    "\n",
    "\n",
    "class SentimentData(Dataset):\n",
    "  def __init__(self, data, transform = None):\n",
    "    self.df = data.reset_index(drop=True)\n",
    "    self.transform = transform\n",
    "  def __len__(self):\n",
    "    # print('Size',len(self.df))\n",
    "    return len(self.df)  \n",
    "  def __getitem__(self,idx):\n",
    "    text = self.df[\"preprocess_comment\"][idx]\n",
    "    text = tokenizer(text, padding='max_length', truncation=True, max_length = MAX_LEN, return_tensors=\"pt\")\n",
    "\n",
    "    img_list = []\n",
    "    for path in self.df['image_urls'][idx].split(\",\"):\n",
    "#       img_path = '/' + path.split('/')[-1]\n",
    "      img = Image.open(data_zip.open(path))\n",
    "      if self.transform is not None:\n",
    "        img = self.transform(img)\n",
    "      img_list.append(img)\n",
    "\n",
    "    # print(text.shape)\n",
    "    # text = ' '.join(text[0])\n",
    "    label = self.df[\"label\"][idx]\n",
    "\n",
    "    return (text, img_list, label)\n",
    "\n",
    "class SentimentDataModule(pl.LightningDataModule):\n",
    "    \n",
    "  def __init__(self, data, batch_size: int = 8, test_size = 0.2):\n",
    "      super().__init__()\n",
    "      self.test_size = test_size\n",
    "      self.data = data\n",
    "      self.batch_size = batch_size\n",
    "      self.train_data = ''\n",
    "      self.val_data = ''\n",
    "      self.test_data = ''\n",
    "\n",
    "  def prepare_data(self):\n",
    "      self.train_data, self.val_data = train_test_split(self.data, test_size = self.test_size, random_state=RANDOM_SEED, stratify = self.data['label'])\n",
    "      self.test_data, self.val_data = train_test_split(self.val_data,test_size = 0.5, random_state=RANDOM_SEED, stratify = self.val_data['label'])\n",
    "      print(self.data['label'].value_counts())\n",
    "      print(self.train_data['label'].value_counts())\n",
    "      print(self.val_data['label'].value_counts())\n",
    "      print(self.test_data['label'].value_counts())\n",
    "\n",
    "  def setup(self, stage = None):\n",
    "      train_transform = T.Compose([\n",
    "       T.Resize([299, 299]), T.RandomHorizontalFlip(), T.RandomRotation(10),\n",
    "        T.ToTensor(),\n",
    "        T.Normalize(mean=[0.485, 0.456, 0.406],\n",
    "                    std=[0.229, 0.224, 0.225])\n",
    "      ])\n",
    "      val_transform = T.Compose([\n",
    "        T.Resize([299, 299]), T.ToTensor(),\n",
    "        T.Normalize(mean=[0.485, 0.456, 0.406],\n",
    "                    std=[0.229, 0.224, 0.225])\n",
    "      ])\n",
    "      test_transform = T.Compose([\n",
    "        T.Resize([299, 299]), T.ToTensor(),\n",
    "        T.Normalize(mean=[0.485, 0.456, 0.406],\n",
    "                    std=[0.229, 0.224, 0.225])\n",
    "      ])\n",
    "      self.train = SentimentData(self.train_data, train_transform)\n",
    "      self.val = SentimentData(self.val_data, val_transform)\n",
    "      self.test = SentimentData(self.test_data, test_transform)\n",
    "\n",
    "\n",
    "  def train_dataloader(self):\n",
    "      return DataLoader(self.train, batch_size=self.batch_size, shuffle=True, collate_fn=collate_batch)\n",
    "\n",
    "  def val_dataloader(self):\n",
    "      return DataLoader(self.val, batch_size=self.batch_size, collate_fn=collate_batch)\n",
    "\n",
    "  def test_dataloader(self):\n",
    "      return DataLoader(self.test, batch_size=self.batch_size, collate_fn=collate_batch)\n",
    "\n",
    "  "
   ]
  },
  {
   "cell_type": "code",
   "execution_count": 49,
   "metadata": {
    "colab": {
     "base_uri": "https://localhost:8080/"
    },
    "id": "DbSBBPTGf8d4",
    "outputId": "797072df-fabd-4599-a19d-7c3ad9236ba4"
   },
   "outputs": [
    {
     "name": "stdout",
     "output_type": "stream",
     "text": [
      "1    6952\n",
      "0    3023\n",
      "Name: label, dtype: int64\n",
      "1    5562\n",
      "0    2418\n",
      "Name: label, dtype: int64\n",
      "1    695\n",
      "0    303\n",
      "Name: label, dtype: int64\n",
      "1    695\n",
      "0    302\n",
      "Name: label, dtype: int64\n",
      "0\n",
      "torch.Size([8, 150])\n",
      "torch.Size([19, 3, 299, 299])\n",
      "19\n",
      "8\n"
     ]
    }
   ],
   "source": [
    "# Do some Test with data\n",
    "if __name__ == \"__main__\":\n",
    "  dm = SentimentDataModule(data_df)\n",
    "  dm.prepare_data()\n",
    "  dm.setup()\n",
    "  for step, bat in enumerate(dm.train_dataloader()):\n",
    "    if step > 0: break\n",
    "    print(step)\n",
    "    print(bat[0]['input_ids'].shape)\n",
    "    print(bat[1].shape)\n",
    "    print(sum(bat[2]))\n",
    "    print(len(bat[3]))"
   ]
  },
  {
   "cell_type": "code",
   "execution_count": 50,
   "metadata": {
    "colab": {
     "base_uri": "https://localhost:8080/"
    },
    "id": "qiJlzVNbZ7f7",
    "outputId": "5243a986-b1f1-449c-bb6c-2cdd1a314eb4"
   },
   "outputs": [
    {
     "name": "stdout",
     "output_type": "stream",
     "text": [
      "Computation device: cuda\n",
      "\n"
     ]
    }
   ],
   "source": [
    "device = torch.device('cuda' if torch.cuda.is_available() else 'cpu')\n",
    "print(f\"Computation device: {device}\\n\")"
   ]
  },
  {
   "cell_type": "markdown",
   "metadata": {
    "id": "FknwjXWwJfkL"
   },
   "source": [
    "# PhoBERT"
   ]
  },
  {
   "cell_type": "code",
   "execution_count": 51,
   "metadata": {
    "id": "u9BWfj8BGmN5"
   },
   "outputs": [],
   "source": [
    "from transformers import RobertaModel, RobertaConfig, AdamW, AutoModel\n",
    "from transformers import RobertaForSequenceClassification\n",
    "\n",
    "pretrained_config_path = \"/content/drive/MyDrive/NLP/PhoBERT_base_transformers/config.json\"\n",
    "pretrained_model_path = \"/content/drive/MyDrive/NLP/PhoBERT_base_transformers/model.bin\""
   ]
  },
  {
   "cell_type": "code",
   "execution_count": 52,
   "metadata": {
    "id": "S18HY-AOn8d3"
   },
   "outputs": [],
   "source": [
    "# class Bert_Lstm(nn.Module):\n",
    "#   def __init__(self):\n",
    "#     super().__init__()\n",
    "#     self.PhoBERT = AutoModel.from_pretrained(\"vinai/phobert-base\")\n",
    "\n",
    "#     self.lstm = nn.LSTM(input_size=768, hidden_size=128, num_layers= 1, batch_first=True)\n",
    "  \n",
    "#   def forward(self, texts):\n",
    "#     bert_out = self.PhoBERT(texts['input_ids'],token_type_ids=None, attention_mask = texts['attention_mask'])\n",
    "#     bert_out = bert_out['last_hidden_state']\n",
    "#     out, _ = self.lstm(bert_out)\n",
    "#     feature_extract = out[:,-1,:].contiguous()\n",
    "\n",
    "#     return feature_extract"
   ]
  },
  {
   "cell_type": "code",
   "execution_count": 53,
   "metadata": {
    "id": "f0oZbzl0rb1F"
   },
   "outputs": [],
   "source": [
    "# # This time, the output's 2nd dimension is 3, indicating that there were 3 outputs given by the LSTM. \n",
    "# # This corresponds to the length of our input sequence. \n",
    "# # For the use cases where we'll need an output at every time step (many-to-many), such as Text Generation, the output of each time step can be extracted directly from the 2nd dimension and fed into a fully connected layer. \n",
    "# # For text classification tasks (many-to-one), such as Sentiment Analysis, the last output can be taken to be fed into a classifier.\n",
    "\n",
    "# pho_test = Bert_Lstm()\n",
    "# pho_test\n",
    "# # oooo = pho_test('iiii')\n",
    "# for name, child in pho_test.named_children():\n",
    "#   print(name)"
   ]
  },
  {
   "cell_type": "markdown",
   "metadata": {
    "id": "lzr3M8PIIo6m"
   },
   "source": [
    "# InceptionV3"
   ]
  },
  {
   "cell_type": "code",
   "execution_count": 54,
   "metadata": {
    "id": "O-70eEW4KtHd"
   },
   "outputs": [],
   "source": [
    "from torchvision.models import inception_v3"
   ]
  },
  {
   "cell_type": "code",
   "execution_count": 55,
   "metadata": {
    "id": "qpksgL5AdyYG"
   },
   "outputs": [],
   "source": [
    "# class Inception(nn.Module):\n",
    "#   def __init__(self):\n",
    "#     super(Inception,self).__init__()\n",
    "#     self.incept = inception_v3(pretrained = True,progress = True,aux_logits= False,transform_input = True)\n",
    "#     self.incept_sequen = nn.Sequential(*list(self.incept.children())[:-3])\n",
    "#     self.avgpool = nn.AdaptiveAvgPool2d((1,1))\n",
    "#     self.drop = nn.Dropout(p=0.4)\n",
    "#     self.flat = nn.Linear(2048, 128)\n",
    "\n",
    "#   def process(self, feature, len_img_list):\n",
    "#     max_fea = torch.zeros(len(len_img_list), feature.shape[-1]).to(device)\n",
    "#     start = 0\n",
    "#     for idx, num in enumerate(len_img_list):\n",
    "#       max_fea[idx] = feature[start:start+num].max(0)[0]\n",
    "#       start += num\n",
    "\n",
    "#     return max_fea\n",
    "  \n",
    "\n",
    "#   def forward(self, image, len_img_list):\n",
    "#     feature = self.incept_sequen(image)\n",
    "#     feature = self.avgpool(feature)\n",
    "#     feature = self.drop(feature)\n",
    "#     feature = feature.reshape(-1, 2048)\n",
    "# #     feature = self.drop(feature)\n",
    "#     # out = self.avgpool(feature)\n",
    "#     # print(out.shape)\n",
    "#     # out = out.contiguous().view(-1, 2048)\n",
    "#     out = self.process(feature, len_img_list)\n",
    "#     img_fea = self.flat(out)\n",
    "\n",
    "#     return img_fea\n"
   ]
  },
  {
   "cell_type": "code",
   "execution_count": 56,
   "metadata": {},
   "outputs": [],
   "source": [
    "# img_fea = torch.rand(4,128).to(device)\n",
    "# img_fea.shape\n",
    "# text_fea = torch.rand(2,128).to(device)\n",
    "# len_img_list=[2,2]"
   ]
  },
  {
   "cell_type": "code",
   "execution_count": 57,
   "metadata": {},
   "outputs": [],
   "source": [
    "# def attention(image_fea, text_fea, len_img_list):\n",
    "#     m = nn.Softmax(dim=0)\n",
    "#     scale = 1.0/np.sqrt(128)\n",
    "# #     context_vector = torch.mul(text_fea, m(torch.matmul(text_fea, img_fea.permute(1,0))))\n",
    "#     context_vector = torch.zeros(len(len_img_list), 128).to(device)\n",
    "#     start_term = 0\n",
    "#     for i in range(len(len_img_list)):\n",
    "#         context_vector[i] = torch.mul(text_fea[i], m(torch.matmul(image_fea[start_term: start_term + len_img_list[i]], text_fea[i].contiguous().view(128,-1))*scale)).sum(dim=0)\n",
    "#         start_term += len_img_list[i]\n",
    "#     return context_vector"
   ]
  },
  {
   "cell_type": "code",
   "execution_count": 58,
   "metadata": {},
   "outputs": [],
   "source": [
    "# m = nn.Softmax(dim=0)\n",
    "# scale = 1.0/np.sqrt(128)\n",
    "# m(torch.matmul(img_fea[0: 2], text_fea[0].contiguous().view(128,-1))*scale)"
   ]
  },
  {
   "cell_type": "code",
   "execution_count": 59,
   "metadata": {},
   "outputs": [],
   "source": [
    "# print(img_fea[0: 2].shape)\n",
    "# img_fea[0: 2]"
   ]
  },
  {
   "cell_type": "code",
   "execution_count": 60,
   "metadata": {},
   "outputs": [],
   "source": [
    "# torch.mul(img_fea[0:2], m(torch.matmul(img_fea[0: 2], text_fea[0].contiguous().view(128,-1))*scale))"
   ]
  },
  {
   "cell_type": "code",
   "execution_count": 61,
   "metadata": {},
   "outputs": [],
   "source": [
    "# torch.matmul(img_fea[0: 2], text_fea[0].contiguous().view(128,-1))"
   ]
  },
  {
   "cell_type": "code",
   "execution_count": 62,
   "metadata": {},
   "outputs": [],
   "source": [
    "# context = attention(img_fea, text_fea, len_img_list)\n",
    "# context"
   ]
  },
  {
   "cell_type": "code",
   "execution_count": 63,
   "metadata": {},
   "outputs": [],
   "source": [
    "# context.shape"
   ]
  },
  {
   "cell_type": "code",
   "execution_count": 70,
   "metadata": {},
   "outputs": [],
   "source": [
    "class Inception(nn.Module):\n",
    "  def __init__(self):\n",
    "    super(Inception,self).__init__()\n",
    "    self.incept = inception_v3(pretrained = True,progress = True,aux_logits= False,transform_input = True)\n",
    "    self.incept_sequen = nn.Sequential(*list(self.incept.children())[:-3])\n",
    "    self.avgpool = nn.AdaptiveMaxPool2d((1,1))\n",
    "    self.drop = nn.Dropout(p=0.2)\n",
    "    self.ffn = nn.Sequential(\n",
    "            nn.Linear(2048, 512),\n",
    "            nn.ReLU(),\n",
    "            nn.Linear(512, 128),\n",
    "            nn.ReLU(),\n",
    "        )\n",
    "    self.atten = nn.Linear(128, 1, bias=False)\n",
    "    self.cl = nn.Linear(128,2)\n",
    "    \n",
    "  def attention(self, image_fea, atten_coef ,len_img_list):\n",
    "    m = nn.Softmax(dim=0)\n",
    "    scale = 1.0/np.sqrt(128)\n",
    "    context_vector = torch.zeros(len(len_img_list), 128).to(device)\n",
    "    start_term = 0\n",
    "    for i in range(len(len_img_list)):\n",
    "        context_vector[i] = torch.mul(image_fea[start_term: start_term + len_img_list[i]], m(atten_coef[start_term: start_term + len_img_list[i]]*scale)).sum(dim=0)\n",
    "        start_term += len_img_list[i]\n",
    "    return context_vector\n",
    "  \n",
    "  def forward(self, image, len_img_list):\n",
    "    image = image.to(device)\n",
    "    \n",
    "    feature = self.incept_sequen(image)\n",
    "    feature = self.avgpool(feature)\n",
    "    feature = self.drop(feature)\n",
    "\n",
    "    img_fea = feature.reshape(-1, 2048)\n",
    "    out = self.ffn(img_fea)\n",
    "    atten_coef = self.atten(out)\n",
    "    \n",
    "    context = self.attention(out, atten_coef, len_img_list)\n",
    "    logits = self.cl(context)\n",
    "    \n",
    "    return logits\n"
   ]
  },
  {
   "cell_type": "code",
   "execution_count": 71,
   "metadata": {},
   "outputs": [],
   "source": [
    "# inc = inception_v3(pretrained = True,progress = True,aux_logits= False,transform_input = False)\n",
    "# inc"
   ]
  },
  {
   "cell_type": "code",
   "execution_count": 72,
   "metadata": {},
   "outputs": [],
   "source": [
    "# incept_sequen = nn.Sequential(*list(inc.children())[:-3])\n",
    "# incept_sequen"
   ]
  },
  {
   "cell_type": "code",
   "execution_count": 73,
   "metadata": {
    "id": "owCLI2adVEoV"
   },
   "outputs": [],
   "source": [
    "# from tensorflow.keras.applications.inception_v3 import InceptionV3\n",
    "# from tensorflow.keras import layers\n",
    "# from tensorflow.keras import models\n",
    "# from tensorflow.keras.models import Model\n",
    "\n",
    "# basemodel = InceptionV3(weights='imagenet', include_top=False, input_tensor=layers.Input(shape=(299, 299, 3)))\n",
    "# x = basemodel.output\n",
    "# # t = layers.AveragePooling2D(pool_size=(8, 8), name='AVG_Pooling')(x)\n",
    "# model_cnn = Model(basemodel.input, x)\n",
    "\n",
    "# basemodel.summary()"
   ]
  },
  {
   "cell_type": "code",
   "execution_count": 74,
   "metadata": {
    "id": "U0E4iJyHdDUN"
   },
   "outputs": [],
   "source": [
    "# ou = model_cnn(np.random.rand(1,299,299,3))"
   ]
  },
  {
   "cell_type": "code",
   "execution_count": 75,
   "metadata": {
    "id": "r7_2g1eNhBWe"
   },
   "outputs": [],
   "source": [
    "# ou.shape"
   ]
  },
  {
   "cell_type": "markdown",
   "metadata": {
    "id": "JEsEq9RHfbCV"
   },
   "source": [
    "# Multimodal (no pytorch-lightning)"
   ]
  },
  {
   "cell_type": "code",
   "execution_count": 95,
   "metadata": {
    "id": "hmIwJsEOlt8h"
   },
   "outputs": [],
   "source": [
    "from sklearn.metrics import roc_auc_score, classification_report, accuracy_score\n",
    "from sklearn.metrics import confusion_matrix\n",
    "from torch.utils.tensorboard import SummaryWriter\n",
    "# writer = SummaryWriter('runs/mrtrongmodel')\n",
    "\n",
    "class LRScheduler():\n",
    "    def __init__(\n",
    "        self, optimizer, patience=1, min_lr=1e-6, factor=0.1\n",
    "    ):\n",
    "        self.optimizer = optimizer\n",
    "        self.patience = patience\n",
    "        self.min_lr = min_lr\n",
    "        self.factor = factor\n",
    "        self.lr_scheduler = torch.optim.lr_scheduler.ReduceLROnPlateau( \n",
    "                self.optimizer,\n",
    "                mode='max',\n",
    "                patience=self.patience,\n",
    "                factor=self.factor,\n",
    "                min_lr=self.min_lr,\n",
    "                verbose=True\n",
    "            )\n",
    "    def __call__(self, val_loss):\n",
    "        self.lr_scheduler.step(val_loss)\n",
    "\n",
    "class EarlyStopping():\n",
    "    def __init__(self, patience=5, min_delta=0):\n",
    "        self.patience = patience\n",
    "        self.min_delta = min_delta\n",
    "        self.counter = 0\n",
    "        self.best_loss = None\n",
    "        self.early_stop = False\n",
    "    def __call__(self, val_loss):\n",
    "        if self.best_loss == None:\n",
    "            self.best_loss = val_loss\n",
    "        elif self.best_loss - val_loss > self.min_delta:\n",
    "            self.best_loss = val_loss\n",
    "            # reset counter if validation loss improves\n",
    "            self.counter = 0\n",
    "        elif self.best_loss - val_loss < self.min_delta:\n",
    "            self.counter += 1\n",
    "            print(f\"INFO: Early stopping counter {self.counter} of {self.patience}\")\n",
    "            if self.counter >= self.patience:\n",
    "                print('INFO: Early stopping')\n",
    "                self.early_stop = True"
   ]
  },
  {
   "cell_type": "code",
   "execution_count": 77,
   "metadata": {
    "id": "mGO97xYhcuNV"
   },
   "outputs": [],
   "source": [
    "# class Concatmodal(nn.Module):\n",
    "#   def __init__(self):\n",
    "#     super(Concatmodal,self).__init__()\n",
    "#     # self.loss_module = nn.CrossEntropyLoss()\n",
    "#     self.BERT = Bert_Lstm()\n",
    "#     self.incept = Inception()\n",
    "#     self.dense = nn.Linear(256,256)\n",
    "#     self.cl = nn.Linear(256,2)\n",
    "#     # self.bpe_path = \"/content/drive/MyDrive/NLP/PhoBERT_base_transformers/bpe.codes\"\n",
    "#     # self.vocab_path = \"/content/drive/MyDrive/NLP/PhoBERT_base_transformers/dict.txt\"\n",
    "    \n",
    "#   def attention(self, image_fea, text_fea, len_img_list):\n",
    "#     m = nn.Softmax(dim=0)\n",
    "#     scale = 1.0/np.sqrt(128)\n",
    "# #     context_vector = torch.mul(text_fea, m(torch.matmul(text_fea, img_fea.permute(1,0))))\n",
    "#     context_vector = torch.zeros(len(len_img_list), 128).to(device)\n",
    "#     start_term = 0\n",
    "#     for i in range(len(len_img_list)):\n",
    "#         context_vector[i] = torch.mul(image_fea[start_term: start_term + len_img_list[i]], m(torch.matmul(image_fea[start_term: start_term + len_img_list[i]], text_fea[i].contiguous().view(128,-1))*scale)).sum(dim=0)\n",
    "#         start_term += len_img_list[i]\n",
    "#     return context_vector\n",
    "        \n",
    "#   def forward(self, image, inputs, len_img_list, labels=None):\n",
    "#     for key in inputs:\n",
    "#         inputs[key] = inputs[key].to(device)\n",
    "#     image = image.to(device)\n",
    "\n",
    "#     fea1 = self.BERT(inputs)\n",
    "#     fea2 = self.incept(image, len_img_list)\n",
    "    \n",
    "#     context_vec = self.attention(fea2, fea1,  len_img_list)\n",
    "#     cat = torch.cat((fea1, context_vec), 1)\n",
    "#     out = self.cl(cat)\n",
    "\n",
    "#     return out\n"
   ]
  },
  {
   "cell_type": "code",
   "execution_count": 78,
   "metadata": {
    "id": "BWqjbaCdq6nz"
   },
   "outputs": [],
   "source": [
    "def fit(model, dm, criterion, optimizer, epoch):\n",
    "  running_loss = 0.0\n",
    "  train_running_loss = 0.0\n",
    "  # running_correct = 0\n",
    "  reporting_step = 100\n",
    "  train_preds = np.array([])\n",
    "  train_labels = np.array([])\n",
    "\n",
    "  counter = 0\n",
    "  # total = 0\n",
    "  soft_m = nn.Softmax(dim=-1)\n",
    "\n",
    "  model.train()\n",
    "\n",
    "  for i, (texts, images, len_img_list, labels) in enumerate(dm.train_dataloader()):\n",
    "      counter += 1\n",
    "      labels = labels.to(device)\n",
    "      optimizer.zero_grad()\n",
    "\n",
    "      outputs = model(images, len_img_list)\n",
    "      loss = criterion(outputs, labels)\n",
    "      output_scores = soft_m(outputs)\n",
    "      predictions = torch.argmax(output_scores, dim=-1)\n",
    "\n",
    "      loss.backward()\n",
    "      optimizer.step()\n",
    "\n",
    "      running_loss += loss.item()\n",
    "      train_running_loss += loss.item()\n",
    "        \n",
    "      predictions = predictions.cpu().numpy()\n",
    "      labels = labels.cpu().numpy()\n",
    "      # _, preds = torch.max(outputs.data, 1)\n",
    "      train_preds = np.concatenate((train_preds, predictions), axis=0)\n",
    "      train_labels = np.concatenate((train_labels, labels), axis=0)\n",
    "\n",
    "      if i % reporting_step == reporting_step-1:\n",
    "            print(f\"Epoch {epoch} Step {i} ave_loss {running_loss/reporting_step:0.4f}\")\n",
    "            running_loss = 0.0\n",
    "            \n",
    "  train_loss = train_running_loss / counter\n",
    "  reports = classification_report(train_labels, train_preds, output_dict=True)\n",
    "  print(confusion_matrix(train_labels, train_preds))\n",
    "  train_ac = classification_report(train_labels, train_preds, output_dict=True)['macro avg']['f1-score']\n",
    "    \n",
    "#   writer.add_scalar(\"Loss/train\", train_loss, epoch)\n",
    "#   writer.add_scalar(\"macro-f1/train\", reports['macro avg']['f1-score'], epoch)\n",
    "#   writer.add_scalar(\"Acc/train\", train_ac, epoch)\n",
    "\n",
    "\n",
    "  return train_loss, train_ac"
   ]
  },
  {
   "cell_type": "code",
   "execution_count": 79,
   "metadata": {
    "id": "Fu5J5PqcvamM"
   },
   "outputs": [],
   "source": [
    "def validation(model, dm, criterion):\n",
    "  model.eval()\n",
    "  val_running_loss = 0.0\n",
    "  val_preds = np.array([])\n",
    "  val_labels = np.array([])\n",
    "\n",
    "  soft_m = nn.Softmax(dim=-1)\n",
    "\n",
    "  counter = 0\n",
    "\n",
    "  with torch.no_grad():\n",
    "    for i, (texts, images, len_img_list, labels) in enumerate(dm.val_dataloader()):\n",
    "        counter += 1\n",
    "        labels = labels.to(device)\n",
    "\n",
    "        outputs = model(images, len_img_list)\n",
    "\n",
    "        loss = criterion(outputs, labels)\n",
    "        output_scores = soft_m(outputs)\n",
    "        predictions = torch.argmax(output_scores, dim=-1)\n",
    "\n",
    "        predictions = predictions.cpu().numpy()\n",
    "        labels = labels.cpu().numpy()\n",
    "        \n",
    "        val_running_loss += loss.item()\n",
    "        val_preds = np.concatenate((val_preds, predictions), axis=0)\n",
    "        val_labels = np.concatenate((val_labels, labels), axis=0)\n",
    "    \n",
    "\n",
    "  val_loss = val_running_loss / counter\n",
    "  print(classification_report(val_labels, val_preds))\n",
    "  print(confusion_matrix(val_labels, val_preds))\n",
    "#   val_ac = accuracy_score(val_labels, val_preds)\n",
    "  val_ac = classification_report(val_labels, val_preds, output_dict=True)['macro avg']['f1-score']\n",
    "\n",
    "\n",
    "#   writer.add_scalar(\"Loss/val\", val_loss, epoch)\n",
    "#   writer.add_scalar(\"Acc/val\", val_ac, epoch)\n",
    "#   writer.add_scalar(\"macro-f1/val\", reports['macro avg']['f1-score'], epoch)\n",
    "  \n",
    "  return val_loss, val_ac\n"
   ]
  },
  {
   "cell_type": "code",
   "execution_count": 80,
   "metadata": {
    "id": "eC6cw0Ywqgb_"
   },
   "outputs": [],
   "source": [
    "\n",
    "def testing(model, dm):\n",
    "  model.eval()\n",
    "  test_running_loss = 0.0\n",
    "  counter = 0\n",
    "  test_preds = torch.tensor([], device=device)\n",
    "  test_labels = torch.tensor([], device = device)\n",
    "\n",
    "  soft_m = nn.Softmax(dim=-1)\n",
    "\n",
    "\n",
    "  with torch.no_grad():\n",
    "    for i, (texts, images, len_img_list, labels) in enumerate(dm.test_dataloader()):\n",
    "        counter += 1\n",
    "        labels = labels.to(device)\n",
    "\n",
    "        outputs = model(images, texts, len_img_list)\n",
    "\n",
    "        output_scores = soft_m(outputs)\n",
    "        predictions = torch.argmax(output_scores, dim=-1)\n",
    "\n",
    "        test_preds = torch.cat((test_preds, predictions), dim=0)\n",
    "        test_labels = torch.cat((test_labels, labels), dim=0)\n",
    "\n",
    "        # loss = criterion(outputs, labels)\n",
    "        # test_running_loss += loss.item()\n",
    "    \n",
    "  test_preds = test_preds.cpu().numpy()\n",
    "  test_labels = test_labels.cpu().numpy()\n",
    "       \n",
    "  print('test', classification_report(test_labels, test_preds))\n",
    "  print('test_ac', accuracy_score(test_labels, test_preds))\n",
    "  print('Confusion', confusion_matrix(test_labels, test_preds))\n",
    "  print('Macro_f1', classification_report(test_labels, test_preds, output_dict=True)['macro avg']['f1-score'])\n",
    "  \n",
    "  # test_loss = test_running_loss / counter\n",
    "\n"
   ]
  },
  {
   "cell_type": "code",
   "execution_count": 81,
   "metadata": {
    "id": "vbONbjzw0zLY"
   },
   "outputs": [],
   "source": [
    "# (t, i ,l) = next(iter(dm.train_dataloader()))\n",
    "# mo = Concatmodal()\n",
    "# ou = mo(i, t)\n",
    "# print(ou)\n",
    "# sf = nn.Softmax(dim=-1)\n",
    "# ou = sf(ou)\n",
    "# print(ou)\n",
    "# ou = torch.argmax(ou, dim=-1)\n",
    "# print(ou)"
   ]
  },
  {
   "cell_type": "code",
   "execution_count": 82,
   "metadata": {
    "id": "_J90rwZ6OPkF"
   },
   "outputs": [],
   "source": [
    "# testing(mo, dm)"
   ]
  },
  {
   "cell_type": "code",
   "execution_count": 83,
   "metadata": {
    "id": "QGsSjernAIOG"
   },
   "outputs": [],
   "source": [
    "def save_checkpoint(state, filename='my_checkpoint_incept_attention_seed_84_1e-3_drop02.pth.tar'):\n",
    "    print('Saving....'+ filename)\n",
    "    torch.save(state, filename)"
   ]
  },
  {
   "cell_type": "code",
   "execution_count": 84,
   "metadata": {},
   "outputs": [],
   "source": [
    "def save_checkpoint1(state, filename='my_checkpoint_incept_attention_seed_84_f1_1e-3_drop02.pth.tar'):\n",
    "    print('Saving....'+ filename)\n",
    "    torch.save(state, filename)"
   ]
  },
  {
   "cell_type": "code",
   "execution_count": 85,
   "metadata": {
    "colab": {
     "base_uri": "https://localhost:8080/"
    },
    "id": "J-I_Y6mlANvK",
    "outputId": "958dec5d-6e4f-48ec-de58-5a582d4481b7"
   },
   "outputs": [
    {
     "name": "stdout",
     "output_type": "stream",
     "text": [
      "\u001b[0m\u001b[01;31marchive.zip\u001b[0m\r\n",
      "Attetion-Multimodal-Bin2.ipynb\r\n",
      "Attetion-Multimodal-Bin2-Moredata-Copy1.ipynb\r\n",
      "Attetion-Multimodal-Bin2-Moredata.ipynb\r\n",
      "Attetion-Multimodal-Bin.ipynb\r\n",
      "Attetion-Multimodal.ipynb\r\n",
      "Attetion-Multimodal-seed25-1e-3-Copy1.ipynb\r\n",
      "Attetion-Multimodal-seed25-1e-3.ipynb\r\n",
      "Attetion-Multimodal-seed7.ipynb\r\n",
      "Attetion-Multimodal-Soccer.ipynb\r\n",
      "CNN.ipynb\r\n",
      "Inception-Attetion-Copy1.ipynb\r\n",
      "Inception-Attetion.ipynb\r\n",
      "Inception.ipynb\r\n",
      "Inception-VotingMultimodal.ipynb\r\n",
      "\u001b[01;31mlocal1_folder_temp.zip\u001b[0m\r\n",
      "\u001b[01;31mlocal1_folder.zip\u001b[0m\r\n",
      "\u001b[01;31mmountains.zip\u001b[0m\r\n",
      "Multimodal_newmodel.ipynb\r\n",
      "Multimodal_newmodel-weight.ipynb\r\n",
      "\u001b[01;31mmy_checkpoint_attention_seed_84_1e-3.pth.tar\u001b[0m\r\n",
      "\u001b[01;31mmy_checkpoint_attention_seed_84_bin_img_10%_more.pth.tar\u001b[0m\r\n",
      "\u001b[01;31mmy_checkpoint_attention_seed_84_bin_img_10%.pth.tar\u001b[0m\r\n",
      "\u001b[01;31mmy_checkpoint_attention_seed_84_bin_img_20%_more.pth.tar\u001b[0m\r\n",
      "\u001b[01;31mmy_checkpoint_attention_seed_84_bin_img_20%.pth.tar\u001b[0m\r\n",
      "\u001b[01;31mmy_checkpoint_attention_seed_84_bin_img.pth.tar\u001b[0m\r\n",
      "\u001b[01;31mmy_checkpoint_attention_seed_84_bin_img_soc.pth.tar\u001b[0m\r\n",
      "\u001b[01;31mmy_checkpoint_attention_seed_84_f1_1e-3.pth.tar\u001b[0m\r\n",
      "\u001b[01;31mmy_checkpoint_attention_seed_84_f1_bin_img_10%_more.pth.tar\u001b[0m\r\n",
      "\u001b[01;31mmy_checkpoint_attention_seed_84_f1_bin_img_10%.pth.tar\u001b[0m\r\n",
      "\u001b[01;31mmy_checkpoint_attention_seed_84_f1_bin_img_20%_more.pth.tar\u001b[0m\r\n",
      "\u001b[01;31mmy_checkpoint_attention_seed_84_f1_bin_img_20%.pth.tar\u001b[0m\r\n",
      "\u001b[01;31mmy_checkpoint_attention_seed_84_f1_bin_img.pth.tar\u001b[0m\r\n",
      "\u001b[01;31mmy_checkpoint_attention_seed_84_f1_bin_img_soc.pth.tar\u001b[0m\r\n",
      "\u001b[01;31mmy_checkpoint_attention_seed_84_f1.pth.tar\u001b[0m\r\n",
      "\u001b[01;31mmy_checkpoint_attention_seed_84_f1__seed7.pth.tar\u001b[0m\r\n",
      "\u001b[01;31mmy_checkpoint_attention_seed_84.pth.tar\u001b[0m\r\n",
      "\u001b[01;31mmy_checkpoint_attention_seed_84_seed7.pth.tar\u001b[0m\r\n",
      "\u001b[01;31mmy_checkpoint_incept_attention_seed_84_1e-3.pth.tar\u001b[0m\r\n",
      "\u001b[01;31mmy_checkpoint_incept_attention_seed_84_f1_1e-3.pth.tar\u001b[0m\r\n",
      "\u001b[01;31mmy_checkpoint_incept_seed7_bt8_fc_2048_re512_re128_1e-3.pth.tar\u001b[0m\r\n",
      "\u001b[01;31mmy_checkpoint_incept_seed84_bt8_fc_2048_re512_re128_1e-3.pth.tar\u001b[0m\r\n",
      "\u001b[01;31mmy_checkpoint_incept_voting.pth.tar\u001b[0m\r\n",
      "\u001b[01;31mmy_checkpoint_multi_bt_8_mrTrong_f1.pth.tar\u001b[0m\r\n",
      "\u001b[01;31mmy_checkpoint_multi_bt_8_mrTrong.pth.tar\u001b[0m\r\n",
      "\u001b[01;31mmy_checkpoint_multivoting_20_label01_freeze_adam_normalize_img_f1_fc2048512.pth.tar\u001b[0m\u001b[K\r\n",
      "\u001b[01;31mmy_checkpoint_multivoting_20_label01_freeze_adam_normalize_img_f1_nodrop.pth.tar\u001b[0m\r\n",
      "\u001b[01;31mmy_checkpoint_multivoting_20_label01_freeze_adam_normalize_img_fc2048512.pth.tar\u001b[0m\r\n",
      "\u001b[01;31mmy_checkpoint_multivoting_20_label01_freeze_adam_normalize_img_nodrop.pth.tar\u001b[0m\r\n",
      "\u001b[01;31mmy_checkpoint_multivoting_dense_f1.pth.tar\u001b[0m\r\n",
      "\u001b[01;31mmy_checkpoint_multivoting_dense.pth.tar\u001b[0m\r\n",
      "\u001b[01;31mmy_checkpoint_Phobert_LSTM_classification_seed_0_fc_1e-3_label01.pth.tar\u001b[0m\r\n",
      "\u001b[01;31mmy_checkpoint_Phobert_LSTM_classification_seed_66_fc_1e-3_label01_unfreeze.pth.tar\u001b[0m\u001b[K\r\n",
      "\u001b[01;31mmy_checkpoint_Phobert_LSTM_classification_seed_7_fc_1e-3_label01.pth.tar\u001b[0m\r\n",
      "\u001b[01;31mmy_checkpoint_Phobert_tuxay_seed_7_2e5_label01.pth.tar\u001b[0m\r\n",
      "\u001b[01;31mmy_checkpoint_Phobert_tuxay_seed_8_2e5_label01.pth.tar\u001b[0m\r\n",
      "\u001b[01;34mOUTPUT\u001b[0m/\r\n",
      "PhoBERT_foody.ipynb\r\n",
      "PhoBERT_foody_rebuild.ipynb\r\n",
      "Resnet.ipynb\r\n",
      "\u001b[01;34mruns\u001b[0m/\r\n",
      "\u001b[01;31msoccer.zip\u001b[0m\r\n",
      "Stack-MaxMultimodal.ipynb\r\n",
      "\u001b[01;34mvncorenlp\u001b[0m/\r\n",
      "VotingMultimodal-Dense.ipynb\r\n",
      "VotingMultimodal-fc2048-512-128.ipynb\r\n",
      "VotingMultimodal_newmodel-CNN.ipynb\r\n",
      "VotingMultimodal-offficial.ipynb\r\n"
     ]
    }
   ],
   "source": [
    "%ls"
   ]
  },
  {
   "cell_type": "code",
   "execution_count": 86,
   "metadata": {
    "id": "tUOcHfHQzPvb"
   },
   "outputs": [],
   "source": [
    "# model = Concatmodal()\n",
    "# total_params = sum(p.numel() for p in model.parameters())\n",
    "# print(f\"{total_params:,} total parameters.\")\n",
    "# total_trainable_params = sum(p.numel() for p in model.parameters() if p.requires_grad)\n",
    "# print(f\"{total_trainable_params:,} training parameters.\")"
   ]
  },
  {
   "cell_type": "code",
   "execution_count": 87,
   "metadata": {
    "id": "bakUYVqazYM6"
   },
   "outputs": [],
   "source": [
    "def freeze(model):  \n",
    "#   for param in model.BERT.PhoBERT.parameters():\n",
    "#     param.requires_grad = False\n",
    "  for param in model.incept.parameters():\n",
    "    param.requires_grad = False\n",
    "  return model\n",
    "\n",
    "def unfreeze(model):  \n",
    "  for param in model.BERT.PhoBERT.parameters():\n",
    "    param.requires_grad = True\n",
    "  for param in model.incept.incept.parameters():\n",
    "    param.requires_grad = True\n",
    "    # print(param)\n",
    "  return model"
   ]
  },
  {
   "cell_type": "code",
   "execution_count": 88,
   "metadata": {
    "id": "83GHcVAuzodA"
   },
   "outputs": [],
   "source": [
    "# total_params = sum(p.numel() for p in model.parameters())\n",
    "# print(f\"{total_params:,} total parameters.\")\n",
    "# total_trainable_params = sum(p.numel() for p in model.parameters() if p.requires_grad)\n",
    "# print(f\"{total_trainable_params:,} training parameters.\")"
   ]
  },
  {
   "cell_type": "code",
   "execution_count": 89,
   "metadata": {},
   "outputs": [],
   "source": [
    "# import gc\n",
    "# del model\n",
    "# gc.collect()"
   ]
  },
  {
   "cell_type": "code",
   "execution_count": 90,
   "metadata": {},
   "outputs": [],
   "source": [
    "model = Inception()\n",
    "model = freeze(model)"
   ]
  },
  {
   "cell_type": "code",
   "execution_count": 91,
   "metadata": {},
   "outputs": [
    {
     "data": {
      "text/plain": [
       "Inception(\n",
       "  (incept): Inception3(\n",
       "    (Conv2d_1a_3x3): BasicConv2d(\n",
       "      (conv): Conv2d(3, 32, kernel_size=(3, 3), stride=(2, 2), bias=False)\n",
       "      (bn): BatchNorm2d(32, eps=0.001, momentum=0.1, affine=True, track_running_stats=True)\n",
       "    )\n",
       "    (Conv2d_2a_3x3): BasicConv2d(\n",
       "      (conv): Conv2d(32, 32, kernel_size=(3, 3), stride=(1, 1), bias=False)\n",
       "      (bn): BatchNorm2d(32, eps=0.001, momentum=0.1, affine=True, track_running_stats=True)\n",
       "    )\n",
       "    (Conv2d_2b_3x3): BasicConv2d(\n",
       "      (conv): Conv2d(32, 64, kernel_size=(3, 3), stride=(1, 1), padding=(1, 1), bias=False)\n",
       "      (bn): BatchNorm2d(64, eps=0.001, momentum=0.1, affine=True, track_running_stats=True)\n",
       "    )\n",
       "    (maxpool1): MaxPool2d(kernel_size=3, stride=2, padding=0, dilation=1, ceil_mode=False)\n",
       "    (Conv2d_3b_1x1): BasicConv2d(\n",
       "      (conv): Conv2d(64, 80, kernel_size=(1, 1), stride=(1, 1), bias=False)\n",
       "      (bn): BatchNorm2d(80, eps=0.001, momentum=0.1, affine=True, track_running_stats=True)\n",
       "    )\n",
       "    (Conv2d_4a_3x3): BasicConv2d(\n",
       "      (conv): Conv2d(80, 192, kernel_size=(3, 3), stride=(1, 1), bias=False)\n",
       "      (bn): BatchNorm2d(192, eps=0.001, momentum=0.1, affine=True, track_running_stats=True)\n",
       "    )\n",
       "    (maxpool2): MaxPool2d(kernel_size=3, stride=2, padding=0, dilation=1, ceil_mode=False)\n",
       "    (Mixed_5b): InceptionA(\n",
       "      (branch1x1): BasicConv2d(\n",
       "        (conv): Conv2d(192, 64, kernel_size=(1, 1), stride=(1, 1), bias=False)\n",
       "        (bn): BatchNorm2d(64, eps=0.001, momentum=0.1, affine=True, track_running_stats=True)\n",
       "      )\n",
       "      (branch5x5_1): BasicConv2d(\n",
       "        (conv): Conv2d(192, 48, kernel_size=(1, 1), stride=(1, 1), bias=False)\n",
       "        (bn): BatchNorm2d(48, eps=0.001, momentum=0.1, affine=True, track_running_stats=True)\n",
       "      )\n",
       "      (branch5x5_2): BasicConv2d(\n",
       "        (conv): Conv2d(48, 64, kernel_size=(5, 5), stride=(1, 1), padding=(2, 2), bias=False)\n",
       "        (bn): BatchNorm2d(64, eps=0.001, momentum=0.1, affine=True, track_running_stats=True)\n",
       "      )\n",
       "      (branch3x3dbl_1): BasicConv2d(\n",
       "        (conv): Conv2d(192, 64, kernel_size=(1, 1), stride=(1, 1), bias=False)\n",
       "        (bn): BatchNorm2d(64, eps=0.001, momentum=0.1, affine=True, track_running_stats=True)\n",
       "      )\n",
       "      (branch3x3dbl_2): BasicConv2d(\n",
       "        (conv): Conv2d(64, 96, kernel_size=(3, 3), stride=(1, 1), padding=(1, 1), bias=False)\n",
       "        (bn): BatchNorm2d(96, eps=0.001, momentum=0.1, affine=True, track_running_stats=True)\n",
       "      )\n",
       "      (branch3x3dbl_3): BasicConv2d(\n",
       "        (conv): Conv2d(96, 96, kernel_size=(3, 3), stride=(1, 1), padding=(1, 1), bias=False)\n",
       "        (bn): BatchNorm2d(96, eps=0.001, momentum=0.1, affine=True, track_running_stats=True)\n",
       "      )\n",
       "      (branch_pool): BasicConv2d(\n",
       "        (conv): Conv2d(192, 32, kernel_size=(1, 1), stride=(1, 1), bias=False)\n",
       "        (bn): BatchNorm2d(32, eps=0.001, momentum=0.1, affine=True, track_running_stats=True)\n",
       "      )\n",
       "    )\n",
       "    (Mixed_5c): InceptionA(\n",
       "      (branch1x1): BasicConv2d(\n",
       "        (conv): Conv2d(256, 64, kernel_size=(1, 1), stride=(1, 1), bias=False)\n",
       "        (bn): BatchNorm2d(64, eps=0.001, momentum=0.1, affine=True, track_running_stats=True)\n",
       "      )\n",
       "      (branch5x5_1): BasicConv2d(\n",
       "        (conv): Conv2d(256, 48, kernel_size=(1, 1), stride=(1, 1), bias=False)\n",
       "        (bn): BatchNorm2d(48, eps=0.001, momentum=0.1, affine=True, track_running_stats=True)\n",
       "      )\n",
       "      (branch5x5_2): BasicConv2d(\n",
       "        (conv): Conv2d(48, 64, kernel_size=(5, 5), stride=(1, 1), padding=(2, 2), bias=False)\n",
       "        (bn): BatchNorm2d(64, eps=0.001, momentum=0.1, affine=True, track_running_stats=True)\n",
       "      )\n",
       "      (branch3x3dbl_1): BasicConv2d(\n",
       "        (conv): Conv2d(256, 64, kernel_size=(1, 1), stride=(1, 1), bias=False)\n",
       "        (bn): BatchNorm2d(64, eps=0.001, momentum=0.1, affine=True, track_running_stats=True)\n",
       "      )\n",
       "      (branch3x3dbl_2): BasicConv2d(\n",
       "        (conv): Conv2d(64, 96, kernel_size=(3, 3), stride=(1, 1), padding=(1, 1), bias=False)\n",
       "        (bn): BatchNorm2d(96, eps=0.001, momentum=0.1, affine=True, track_running_stats=True)\n",
       "      )\n",
       "      (branch3x3dbl_3): BasicConv2d(\n",
       "        (conv): Conv2d(96, 96, kernel_size=(3, 3), stride=(1, 1), padding=(1, 1), bias=False)\n",
       "        (bn): BatchNorm2d(96, eps=0.001, momentum=0.1, affine=True, track_running_stats=True)\n",
       "      )\n",
       "      (branch_pool): BasicConv2d(\n",
       "        (conv): Conv2d(256, 64, kernel_size=(1, 1), stride=(1, 1), bias=False)\n",
       "        (bn): BatchNorm2d(64, eps=0.001, momentum=0.1, affine=True, track_running_stats=True)\n",
       "      )\n",
       "    )\n",
       "    (Mixed_5d): InceptionA(\n",
       "      (branch1x1): BasicConv2d(\n",
       "        (conv): Conv2d(288, 64, kernel_size=(1, 1), stride=(1, 1), bias=False)\n",
       "        (bn): BatchNorm2d(64, eps=0.001, momentum=0.1, affine=True, track_running_stats=True)\n",
       "      )\n",
       "      (branch5x5_1): BasicConv2d(\n",
       "        (conv): Conv2d(288, 48, kernel_size=(1, 1), stride=(1, 1), bias=False)\n",
       "        (bn): BatchNorm2d(48, eps=0.001, momentum=0.1, affine=True, track_running_stats=True)\n",
       "      )\n",
       "      (branch5x5_2): BasicConv2d(\n",
       "        (conv): Conv2d(48, 64, kernel_size=(5, 5), stride=(1, 1), padding=(2, 2), bias=False)\n",
       "        (bn): BatchNorm2d(64, eps=0.001, momentum=0.1, affine=True, track_running_stats=True)\n",
       "      )\n",
       "      (branch3x3dbl_1): BasicConv2d(\n",
       "        (conv): Conv2d(288, 64, kernel_size=(1, 1), stride=(1, 1), bias=False)\n",
       "        (bn): BatchNorm2d(64, eps=0.001, momentum=0.1, affine=True, track_running_stats=True)\n",
       "      )\n",
       "      (branch3x3dbl_2): BasicConv2d(\n",
       "        (conv): Conv2d(64, 96, kernel_size=(3, 3), stride=(1, 1), padding=(1, 1), bias=False)\n",
       "        (bn): BatchNorm2d(96, eps=0.001, momentum=0.1, affine=True, track_running_stats=True)\n",
       "      )\n",
       "      (branch3x3dbl_3): BasicConv2d(\n",
       "        (conv): Conv2d(96, 96, kernel_size=(3, 3), stride=(1, 1), padding=(1, 1), bias=False)\n",
       "        (bn): BatchNorm2d(96, eps=0.001, momentum=0.1, affine=True, track_running_stats=True)\n",
       "      )\n",
       "      (branch_pool): BasicConv2d(\n",
       "        (conv): Conv2d(288, 64, kernel_size=(1, 1), stride=(1, 1), bias=False)\n",
       "        (bn): BatchNorm2d(64, eps=0.001, momentum=0.1, affine=True, track_running_stats=True)\n",
       "      )\n",
       "    )\n",
       "    (Mixed_6a): InceptionB(\n",
       "      (branch3x3): BasicConv2d(\n",
       "        (conv): Conv2d(288, 384, kernel_size=(3, 3), stride=(2, 2), bias=False)\n",
       "        (bn): BatchNorm2d(384, eps=0.001, momentum=0.1, affine=True, track_running_stats=True)\n",
       "      )\n",
       "      (branch3x3dbl_1): BasicConv2d(\n",
       "        (conv): Conv2d(288, 64, kernel_size=(1, 1), stride=(1, 1), bias=False)\n",
       "        (bn): BatchNorm2d(64, eps=0.001, momentum=0.1, affine=True, track_running_stats=True)\n",
       "      )\n",
       "      (branch3x3dbl_2): BasicConv2d(\n",
       "        (conv): Conv2d(64, 96, kernel_size=(3, 3), stride=(1, 1), padding=(1, 1), bias=False)\n",
       "        (bn): BatchNorm2d(96, eps=0.001, momentum=0.1, affine=True, track_running_stats=True)\n",
       "      )\n",
       "      (branch3x3dbl_3): BasicConv2d(\n",
       "        (conv): Conv2d(96, 96, kernel_size=(3, 3), stride=(2, 2), bias=False)\n",
       "        (bn): BatchNorm2d(96, eps=0.001, momentum=0.1, affine=True, track_running_stats=True)\n",
       "      )\n",
       "    )\n",
       "    (Mixed_6b): InceptionC(\n",
       "      (branch1x1): BasicConv2d(\n",
       "        (conv): Conv2d(768, 192, kernel_size=(1, 1), stride=(1, 1), bias=False)\n",
       "        (bn): BatchNorm2d(192, eps=0.001, momentum=0.1, affine=True, track_running_stats=True)\n",
       "      )\n",
       "      (branch7x7_1): BasicConv2d(\n",
       "        (conv): Conv2d(768, 128, kernel_size=(1, 1), stride=(1, 1), bias=False)\n",
       "        (bn): BatchNorm2d(128, eps=0.001, momentum=0.1, affine=True, track_running_stats=True)\n",
       "      )\n",
       "      (branch7x7_2): BasicConv2d(\n",
       "        (conv): Conv2d(128, 128, kernel_size=(1, 7), stride=(1, 1), padding=(0, 3), bias=False)\n",
       "        (bn): BatchNorm2d(128, eps=0.001, momentum=0.1, affine=True, track_running_stats=True)\n",
       "      )\n",
       "      (branch7x7_3): BasicConv2d(\n",
       "        (conv): Conv2d(128, 192, kernel_size=(7, 1), stride=(1, 1), padding=(3, 0), bias=False)\n",
       "        (bn): BatchNorm2d(192, eps=0.001, momentum=0.1, affine=True, track_running_stats=True)\n",
       "      )\n",
       "      (branch7x7dbl_1): BasicConv2d(\n",
       "        (conv): Conv2d(768, 128, kernel_size=(1, 1), stride=(1, 1), bias=False)\n",
       "        (bn): BatchNorm2d(128, eps=0.001, momentum=0.1, affine=True, track_running_stats=True)\n",
       "      )\n",
       "      (branch7x7dbl_2): BasicConv2d(\n",
       "        (conv): Conv2d(128, 128, kernel_size=(7, 1), stride=(1, 1), padding=(3, 0), bias=False)\n",
       "        (bn): BatchNorm2d(128, eps=0.001, momentum=0.1, affine=True, track_running_stats=True)\n",
       "      )\n",
       "      (branch7x7dbl_3): BasicConv2d(\n",
       "        (conv): Conv2d(128, 128, kernel_size=(1, 7), stride=(1, 1), padding=(0, 3), bias=False)\n",
       "        (bn): BatchNorm2d(128, eps=0.001, momentum=0.1, affine=True, track_running_stats=True)\n",
       "      )\n",
       "      (branch7x7dbl_4): BasicConv2d(\n",
       "        (conv): Conv2d(128, 128, kernel_size=(7, 1), stride=(1, 1), padding=(3, 0), bias=False)\n",
       "        (bn): BatchNorm2d(128, eps=0.001, momentum=0.1, affine=True, track_running_stats=True)\n",
       "      )\n",
       "      (branch7x7dbl_5): BasicConv2d(\n",
       "        (conv): Conv2d(128, 192, kernel_size=(1, 7), stride=(1, 1), padding=(0, 3), bias=False)\n",
       "        (bn): BatchNorm2d(192, eps=0.001, momentum=0.1, affine=True, track_running_stats=True)\n",
       "      )\n",
       "      (branch_pool): BasicConv2d(\n",
       "        (conv): Conv2d(768, 192, kernel_size=(1, 1), stride=(1, 1), bias=False)\n",
       "        (bn): BatchNorm2d(192, eps=0.001, momentum=0.1, affine=True, track_running_stats=True)\n",
       "      )\n",
       "    )\n",
       "    (Mixed_6c): InceptionC(\n",
       "      (branch1x1): BasicConv2d(\n",
       "        (conv): Conv2d(768, 192, kernel_size=(1, 1), stride=(1, 1), bias=False)\n",
       "        (bn): BatchNorm2d(192, eps=0.001, momentum=0.1, affine=True, track_running_stats=True)\n",
       "      )\n",
       "      (branch7x7_1): BasicConv2d(\n",
       "        (conv): Conv2d(768, 160, kernel_size=(1, 1), stride=(1, 1), bias=False)\n",
       "        (bn): BatchNorm2d(160, eps=0.001, momentum=0.1, affine=True, track_running_stats=True)\n",
       "      )\n",
       "      (branch7x7_2): BasicConv2d(\n",
       "        (conv): Conv2d(160, 160, kernel_size=(1, 7), stride=(1, 1), padding=(0, 3), bias=False)\n",
       "        (bn): BatchNorm2d(160, eps=0.001, momentum=0.1, affine=True, track_running_stats=True)\n",
       "      )\n",
       "      (branch7x7_3): BasicConv2d(\n",
       "        (conv): Conv2d(160, 192, kernel_size=(7, 1), stride=(1, 1), padding=(3, 0), bias=False)\n",
       "        (bn): BatchNorm2d(192, eps=0.001, momentum=0.1, affine=True, track_running_stats=True)\n",
       "      )\n",
       "      (branch7x7dbl_1): BasicConv2d(\n",
       "        (conv): Conv2d(768, 160, kernel_size=(1, 1), stride=(1, 1), bias=False)\n",
       "        (bn): BatchNorm2d(160, eps=0.001, momentum=0.1, affine=True, track_running_stats=True)\n",
       "      )\n",
       "      (branch7x7dbl_2): BasicConv2d(\n",
       "        (conv): Conv2d(160, 160, kernel_size=(7, 1), stride=(1, 1), padding=(3, 0), bias=False)\n",
       "        (bn): BatchNorm2d(160, eps=0.001, momentum=0.1, affine=True, track_running_stats=True)\n",
       "      )\n",
       "      (branch7x7dbl_3): BasicConv2d(\n",
       "        (conv): Conv2d(160, 160, kernel_size=(1, 7), stride=(1, 1), padding=(0, 3), bias=False)\n",
       "        (bn): BatchNorm2d(160, eps=0.001, momentum=0.1, affine=True, track_running_stats=True)\n",
       "      )\n",
       "      (branch7x7dbl_4): BasicConv2d(\n",
       "        (conv): Conv2d(160, 160, kernel_size=(7, 1), stride=(1, 1), padding=(3, 0), bias=False)\n",
       "        (bn): BatchNorm2d(160, eps=0.001, momentum=0.1, affine=True, track_running_stats=True)\n",
       "      )\n",
       "      (branch7x7dbl_5): BasicConv2d(\n",
       "        (conv): Conv2d(160, 192, kernel_size=(1, 7), stride=(1, 1), padding=(0, 3), bias=False)\n",
       "        (bn): BatchNorm2d(192, eps=0.001, momentum=0.1, affine=True, track_running_stats=True)\n",
       "      )\n",
       "      (branch_pool): BasicConv2d(\n",
       "        (conv): Conv2d(768, 192, kernel_size=(1, 1), stride=(1, 1), bias=False)\n",
       "        (bn): BatchNorm2d(192, eps=0.001, momentum=0.1, affine=True, track_running_stats=True)\n",
       "      )\n",
       "    )\n",
       "    (Mixed_6d): InceptionC(\n",
       "      (branch1x1): BasicConv2d(\n",
       "        (conv): Conv2d(768, 192, kernel_size=(1, 1), stride=(1, 1), bias=False)\n",
       "        (bn): BatchNorm2d(192, eps=0.001, momentum=0.1, affine=True, track_running_stats=True)\n",
       "      )\n",
       "      (branch7x7_1): BasicConv2d(\n",
       "        (conv): Conv2d(768, 160, kernel_size=(1, 1), stride=(1, 1), bias=False)\n",
       "        (bn): BatchNorm2d(160, eps=0.001, momentum=0.1, affine=True, track_running_stats=True)\n",
       "      )\n",
       "      (branch7x7_2): BasicConv2d(\n",
       "        (conv): Conv2d(160, 160, kernel_size=(1, 7), stride=(1, 1), padding=(0, 3), bias=False)\n",
       "        (bn): BatchNorm2d(160, eps=0.001, momentum=0.1, affine=True, track_running_stats=True)\n",
       "      )\n",
       "      (branch7x7_3): BasicConv2d(\n",
       "        (conv): Conv2d(160, 192, kernel_size=(7, 1), stride=(1, 1), padding=(3, 0), bias=False)\n",
       "        (bn): BatchNorm2d(192, eps=0.001, momentum=0.1, affine=True, track_running_stats=True)\n",
       "      )\n",
       "      (branch7x7dbl_1): BasicConv2d(\n",
       "        (conv): Conv2d(768, 160, kernel_size=(1, 1), stride=(1, 1), bias=False)\n",
       "        (bn): BatchNorm2d(160, eps=0.001, momentum=0.1, affine=True, track_running_stats=True)\n",
       "      )\n",
       "      (branch7x7dbl_2): BasicConv2d(\n",
       "        (conv): Conv2d(160, 160, kernel_size=(7, 1), stride=(1, 1), padding=(3, 0), bias=False)\n",
       "        (bn): BatchNorm2d(160, eps=0.001, momentum=0.1, affine=True, track_running_stats=True)\n",
       "      )\n",
       "      (branch7x7dbl_3): BasicConv2d(\n",
       "        (conv): Conv2d(160, 160, kernel_size=(1, 7), stride=(1, 1), padding=(0, 3), bias=False)\n",
       "        (bn): BatchNorm2d(160, eps=0.001, momentum=0.1, affine=True, track_running_stats=True)\n",
       "      )\n",
       "      (branch7x7dbl_4): BasicConv2d(\n",
       "        (conv): Conv2d(160, 160, kernel_size=(7, 1), stride=(1, 1), padding=(3, 0), bias=False)\n",
       "        (bn): BatchNorm2d(160, eps=0.001, momentum=0.1, affine=True, track_running_stats=True)\n",
       "      )\n",
       "      (branch7x7dbl_5): BasicConv2d(\n",
       "        (conv): Conv2d(160, 192, kernel_size=(1, 7), stride=(1, 1), padding=(0, 3), bias=False)\n",
       "        (bn): BatchNorm2d(192, eps=0.001, momentum=0.1, affine=True, track_running_stats=True)\n",
       "      )\n",
       "      (branch_pool): BasicConv2d(\n",
       "        (conv): Conv2d(768, 192, kernel_size=(1, 1), stride=(1, 1), bias=False)\n",
       "        (bn): BatchNorm2d(192, eps=0.001, momentum=0.1, affine=True, track_running_stats=True)\n",
       "      )\n",
       "    )\n",
       "    (Mixed_6e): InceptionC(\n",
       "      (branch1x1): BasicConv2d(\n",
       "        (conv): Conv2d(768, 192, kernel_size=(1, 1), stride=(1, 1), bias=False)\n",
       "        (bn): BatchNorm2d(192, eps=0.001, momentum=0.1, affine=True, track_running_stats=True)\n",
       "      )\n",
       "      (branch7x7_1): BasicConv2d(\n",
       "        (conv): Conv2d(768, 192, kernel_size=(1, 1), stride=(1, 1), bias=False)\n",
       "        (bn): BatchNorm2d(192, eps=0.001, momentum=0.1, affine=True, track_running_stats=True)\n",
       "      )\n",
       "      (branch7x7_2): BasicConv2d(\n",
       "        (conv): Conv2d(192, 192, kernel_size=(1, 7), stride=(1, 1), padding=(0, 3), bias=False)\n",
       "        (bn): BatchNorm2d(192, eps=0.001, momentum=0.1, affine=True, track_running_stats=True)\n",
       "      )\n",
       "      (branch7x7_3): BasicConv2d(\n",
       "        (conv): Conv2d(192, 192, kernel_size=(7, 1), stride=(1, 1), padding=(3, 0), bias=False)\n",
       "        (bn): BatchNorm2d(192, eps=0.001, momentum=0.1, affine=True, track_running_stats=True)\n",
       "      )\n",
       "      (branch7x7dbl_1): BasicConv2d(\n",
       "        (conv): Conv2d(768, 192, kernel_size=(1, 1), stride=(1, 1), bias=False)\n",
       "        (bn): BatchNorm2d(192, eps=0.001, momentum=0.1, affine=True, track_running_stats=True)\n",
       "      )\n",
       "      (branch7x7dbl_2): BasicConv2d(\n",
       "        (conv): Conv2d(192, 192, kernel_size=(7, 1), stride=(1, 1), padding=(3, 0), bias=False)\n",
       "        (bn): BatchNorm2d(192, eps=0.001, momentum=0.1, affine=True, track_running_stats=True)\n",
       "      )\n",
       "      (branch7x7dbl_3): BasicConv2d(\n",
       "        (conv): Conv2d(192, 192, kernel_size=(1, 7), stride=(1, 1), padding=(0, 3), bias=False)\n",
       "        (bn): BatchNorm2d(192, eps=0.001, momentum=0.1, affine=True, track_running_stats=True)\n",
       "      )\n",
       "      (branch7x7dbl_4): BasicConv2d(\n",
       "        (conv): Conv2d(192, 192, kernel_size=(7, 1), stride=(1, 1), padding=(3, 0), bias=False)\n",
       "        (bn): BatchNorm2d(192, eps=0.001, momentum=0.1, affine=True, track_running_stats=True)\n",
       "      )\n",
       "      (branch7x7dbl_5): BasicConv2d(\n",
       "        (conv): Conv2d(192, 192, kernel_size=(1, 7), stride=(1, 1), padding=(0, 3), bias=False)\n",
       "        (bn): BatchNorm2d(192, eps=0.001, momentum=0.1, affine=True, track_running_stats=True)\n",
       "      )\n",
       "      (branch_pool): BasicConv2d(\n",
       "        (conv): Conv2d(768, 192, kernel_size=(1, 1), stride=(1, 1), bias=False)\n",
       "        (bn): BatchNorm2d(192, eps=0.001, momentum=0.1, affine=True, track_running_stats=True)\n",
       "      )\n",
       "    )\n",
       "    (AuxLogits): None\n",
       "    (Mixed_7a): InceptionD(\n",
       "      (branch3x3_1): BasicConv2d(\n",
       "        (conv): Conv2d(768, 192, kernel_size=(1, 1), stride=(1, 1), bias=False)\n",
       "        (bn): BatchNorm2d(192, eps=0.001, momentum=0.1, affine=True, track_running_stats=True)\n",
       "      )\n",
       "      (branch3x3_2): BasicConv2d(\n",
       "        (conv): Conv2d(192, 320, kernel_size=(3, 3), stride=(2, 2), bias=False)\n",
       "        (bn): BatchNorm2d(320, eps=0.001, momentum=0.1, affine=True, track_running_stats=True)\n",
       "      )\n",
       "      (branch7x7x3_1): BasicConv2d(\n",
       "        (conv): Conv2d(768, 192, kernel_size=(1, 1), stride=(1, 1), bias=False)\n",
       "        (bn): BatchNorm2d(192, eps=0.001, momentum=0.1, affine=True, track_running_stats=True)\n",
       "      )\n",
       "      (branch7x7x3_2): BasicConv2d(\n",
       "        (conv): Conv2d(192, 192, kernel_size=(1, 7), stride=(1, 1), padding=(0, 3), bias=False)\n",
       "        (bn): BatchNorm2d(192, eps=0.001, momentum=0.1, affine=True, track_running_stats=True)\n",
       "      )\n",
       "      (branch7x7x3_3): BasicConv2d(\n",
       "        (conv): Conv2d(192, 192, kernel_size=(7, 1), stride=(1, 1), padding=(3, 0), bias=False)\n",
       "        (bn): BatchNorm2d(192, eps=0.001, momentum=0.1, affine=True, track_running_stats=True)\n",
       "      )\n",
       "      (branch7x7x3_4): BasicConv2d(\n",
       "        (conv): Conv2d(192, 192, kernel_size=(3, 3), stride=(2, 2), bias=False)\n",
       "        (bn): BatchNorm2d(192, eps=0.001, momentum=0.1, affine=True, track_running_stats=True)\n",
       "      )\n",
       "    )\n",
       "    (Mixed_7b): InceptionE(\n",
       "      (branch1x1): BasicConv2d(\n",
       "        (conv): Conv2d(1280, 320, kernel_size=(1, 1), stride=(1, 1), bias=False)\n",
       "        (bn): BatchNorm2d(320, eps=0.001, momentum=0.1, affine=True, track_running_stats=True)\n",
       "      )\n",
       "      (branch3x3_1): BasicConv2d(\n",
       "        (conv): Conv2d(1280, 384, kernel_size=(1, 1), stride=(1, 1), bias=False)\n",
       "        (bn): BatchNorm2d(384, eps=0.001, momentum=0.1, affine=True, track_running_stats=True)\n",
       "      )\n",
       "      (branch3x3_2a): BasicConv2d(\n",
       "        (conv): Conv2d(384, 384, kernel_size=(1, 3), stride=(1, 1), padding=(0, 1), bias=False)\n",
       "        (bn): BatchNorm2d(384, eps=0.001, momentum=0.1, affine=True, track_running_stats=True)\n",
       "      )\n",
       "      (branch3x3_2b): BasicConv2d(\n",
       "        (conv): Conv2d(384, 384, kernel_size=(3, 1), stride=(1, 1), padding=(1, 0), bias=False)\n",
       "        (bn): BatchNorm2d(384, eps=0.001, momentum=0.1, affine=True, track_running_stats=True)\n",
       "      )\n",
       "      (branch3x3dbl_1): BasicConv2d(\n",
       "        (conv): Conv2d(1280, 448, kernel_size=(1, 1), stride=(1, 1), bias=False)\n",
       "        (bn): BatchNorm2d(448, eps=0.001, momentum=0.1, affine=True, track_running_stats=True)\n",
       "      )\n",
       "      (branch3x3dbl_2): BasicConv2d(\n",
       "        (conv): Conv2d(448, 384, kernel_size=(3, 3), stride=(1, 1), padding=(1, 1), bias=False)\n",
       "        (bn): BatchNorm2d(384, eps=0.001, momentum=0.1, affine=True, track_running_stats=True)\n",
       "      )\n",
       "      (branch3x3dbl_3a): BasicConv2d(\n",
       "        (conv): Conv2d(384, 384, kernel_size=(1, 3), stride=(1, 1), padding=(0, 1), bias=False)\n",
       "        (bn): BatchNorm2d(384, eps=0.001, momentum=0.1, affine=True, track_running_stats=True)\n",
       "      )\n",
       "      (branch3x3dbl_3b): BasicConv2d(\n",
       "        (conv): Conv2d(384, 384, kernel_size=(3, 1), stride=(1, 1), padding=(1, 0), bias=False)\n",
       "        (bn): BatchNorm2d(384, eps=0.001, momentum=0.1, affine=True, track_running_stats=True)\n",
       "      )\n",
       "      (branch_pool): BasicConv2d(\n",
       "        (conv): Conv2d(1280, 192, kernel_size=(1, 1), stride=(1, 1), bias=False)\n",
       "        (bn): BatchNorm2d(192, eps=0.001, momentum=0.1, affine=True, track_running_stats=True)\n",
       "      )\n",
       "    )\n",
       "    (Mixed_7c): InceptionE(\n",
       "      (branch1x1): BasicConv2d(\n",
       "        (conv): Conv2d(2048, 320, kernel_size=(1, 1), stride=(1, 1), bias=False)\n",
       "        (bn): BatchNorm2d(320, eps=0.001, momentum=0.1, affine=True, track_running_stats=True)\n",
       "      )\n",
       "      (branch3x3_1): BasicConv2d(\n",
       "        (conv): Conv2d(2048, 384, kernel_size=(1, 1), stride=(1, 1), bias=False)\n",
       "        (bn): BatchNorm2d(384, eps=0.001, momentum=0.1, affine=True, track_running_stats=True)\n",
       "      )\n",
       "      (branch3x3_2a): BasicConv2d(\n",
       "        (conv): Conv2d(384, 384, kernel_size=(1, 3), stride=(1, 1), padding=(0, 1), bias=False)\n",
       "        (bn): BatchNorm2d(384, eps=0.001, momentum=0.1, affine=True, track_running_stats=True)\n",
       "      )\n",
       "      (branch3x3_2b): BasicConv2d(\n",
       "        (conv): Conv2d(384, 384, kernel_size=(3, 1), stride=(1, 1), padding=(1, 0), bias=False)\n",
       "        (bn): BatchNorm2d(384, eps=0.001, momentum=0.1, affine=True, track_running_stats=True)\n",
       "      )\n",
       "      (branch3x3dbl_1): BasicConv2d(\n",
       "        (conv): Conv2d(2048, 448, kernel_size=(1, 1), stride=(1, 1), bias=False)\n",
       "        (bn): BatchNorm2d(448, eps=0.001, momentum=0.1, affine=True, track_running_stats=True)\n",
       "      )\n",
       "      (branch3x3dbl_2): BasicConv2d(\n",
       "        (conv): Conv2d(448, 384, kernel_size=(3, 3), stride=(1, 1), padding=(1, 1), bias=False)\n",
       "        (bn): BatchNorm2d(384, eps=0.001, momentum=0.1, affine=True, track_running_stats=True)\n",
       "      )\n",
       "      (branch3x3dbl_3a): BasicConv2d(\n",
       "        (conv): Conv2d(384, 384, kernel_size=(1, 3), stride=(1, 1), padding=(0, 1), bias=False)\n",
       "        (bn): BatchNorm2d(384, eps=0.001, momentum=0.1, affine=True, track_running_stats=True)\n",
       "      )\n",
       "      (branch3x3dbl_3b): BasicConv2d(\n",
       "        (conv): Conv2d(384, 384, kernel_size=(3, 1), stride=(1, 1), padding=(1, 0), bias=False)\n",
       "        (bn): BatchNorm2d(384, eps=0.001, momentum=0.1, affine=True, track_running_stats=True)\n",
       "      )\n",
       "      (branch_pool): BasicConv2d(\n",
       "        (conv): Conv2d(2048, 192, kernel_size=(1, 1), stride=(1, 1), bias=False)\n",
       "        (bn): BatchNorm2d(192, eps=0.001, momentum=0.1, affine=True, track_running_stats=True)\n",
       "      )\n",
       "    )\n",
       "    (avgpool): AdaptiveAvgPool2d(output_size=(1, 1))\n",
       "    (dropout): Dropout(p=0.5, inplace=False)\n",
       "    (fc): Linear(in_features=2048, out_features=1000, bias=True)\n",
       "  )\n",
       "  (incept_sequen): Sequential(\n",
       "    (0): BasicConv2d(\n",
       "      (conv): Conv2d(3, 32, kernel_size=(3, 3), stride=(2, 2), bias=False)\n",
       "      (bn): BatchNorm2d(32, eps=0.001, momentum=0.1, affine=True, track_running_stats=True)\n",
       "    )\n",
       "    (1): BasicConv2d(\n",
       "      (conv): Conv2d(32, 32, kernel_size=(3, 3), stride=(1, 1), bias=False)\n",
       "      (bn): BatchNorm2d(32, eps=0.001, momentum=0.1, affine=True, track_running_stats=True)\n",
       "    )\n",
       "    (2): BasicConv2d(\n",
       "      (conv): Conv2d(32, 64, kernel_size=(3, 3), stride=(1, 1), padding=(1, 1), bias=False)\n",
       "      (bn): BatchNorm2d(64, eps=0.001, momentum=0.1, affine=True, track_running_stats=True)\n",
       "    )\n",
       "    (3): MaxPool2d(kernel_size=3, stride=2, padding=0, dilation=1, ceil_mode=False)\n",
       "    (4): BasicConv2d(\n",
       "      (conv): Conv2d(64, 80, kernel_size=(1, 1), stride=(1, 1), bias=False)\n",
       "      (bn): BatchNorm2d(80, eps=0.001, momentum=0.1, affine=True, track_running_stats=True)\n",
       "    )\n",
       "    (5): BasicConv2d(\n",
       "      (conv): Conv2d(80, 192, kernel_size=(3, 3), stride=(1, 1), bias=False)\n",
       "      (bn): BatchNorm2d(192, eps=0.001, momentum=0.1, affine=True, track_running_stats=True)\n",
       "    )\n",
       "    (6): MaxPool2d(kernel_size=3, stride=2, padding=0, dilation=1, ceil_mode=False)\n",
       "    (7): InceptionA(\n",
       "      (branch1x1): BasicConv2d(\n",
       "        (conv): Conv2d(192, 64, kernel_size=(1, 1), stride=(1, 1), bias=False)\n",
       "        (bn): BatchNorm2d(64, eps=0.001, momentum=0.1, affine=True, track_running_stats=True)\n",
       "      )\n",
       "      (branch5x5_1): BasicConv2d(\n",
       "        (conv): Conv2d(192, 48, kernel_size=(1, 1), stride=(1, 1), bias=False)\n",
       "        (bn): BatchNorm2d(48, eps=0.001, momentum=0.1, affine=True, track_running_stats=True)\n",
       "      )\n",
       "      (branch5x5_2): BasicConv2d(\n",
       "        (conv): Conv2d(48, 64, kernel_size=(5, 5), stride=(1, 1), padding=(2, 2), bias=False)\n",
       "        (bn): BatchNorm2d(64, eps=0.001, momentum=0.1, affine=True, track_running_stats=True)\n",
       "      )\n",
       "      (branch3x3dbl_1): BasicConv2d(\n",
       "        (conv): Conv2d(192, 64, kernel_size=(1, 1), stride=(1, 1), bias=False)\n",
       "        (bn): BatchNorm2d(64, eps=0.001, momentum=0.1, affine=True, track_running_stats=True)\n",
       "      )\n",
       "      (branch3x3dbl_2): BasicConv2d(\n",
       "        (conv): Conv2d(64, 96, kernel_size=(3, 3), stride=(1, 1), padding=(1, 1), bias=False)\n",
       "        (bn): BatchNorm2d(96, eps=0.001, momentum=0.1, affine=True, track_running_stats=True)\n",
       "      )\n",
       "      (branch3x3dbl_3): BasicConv2d(\n",
       "        (conv): Conv2d(96, 96, kernel_size=(3, 3), stride=(1, 1), padding=(1, 1), bias=False)\n",
       "        (bn): BatchNorm2d(96, eps=0.001, momentum=0.1, affine=True, track_running_stats=True)\n",
       "      )\n",
       "      (branch_pool): BasicConv2d(\n",
       "        (conv): Conv2d(192, 32, kernel_size=(1, 1), stride=(1, 1), bias=False)\n",
       "        (bn): BatchNorm2d(32, eps=0.001, momentum=0.1, affine=True, track_running_stats=True)\n",
       "      )\n",
       "    )\n",
       "    (8): InceptionA(\n",
       "      (branch1x1): BasicConv2d(\n",
       "        (conv): Conv2d(256, 64, kernel_size=(1, 1), stride=(1, 1), bias=False)\n",
       "        (bn): BatchNorm2d(64, eps=0.001, momentum=0.1, affine=True, track_running_stats=True)\n",
       "      )\n",
       "      (branch5x5_1): BasicConv2d(\n",
       "        (conv): Conv2d(256, 48, kernel_size=(1, 1), stride=(1, 1), bias=False)\n",
       "        (bn): BatchNorm2d(48, eps=0.001, momentum=0.1, affine=True, track_running_stats=True)\n",
       "      )\n",
       "      (branch5x5_2): BasicConv2d(\n",
       "        (conv): Conv2d(48, 64, kernel_size=(5, 5), stride=(1, 1), padding=(2, 2), bias=False)\n",
       "        (bn): BatchNorm2d(64, eps=0.001, momentum=0.1, affine=True, track_running_stats=True)\n",
       "      )\n",
       "      (branch3x3dbl_1): BasicConv2d(\n",
       "        (conv): Conv2d(256, 64, kernel_size=(1, 1), stride=(1, 1), bias=False)\n",
       "        (bn): BatchNorm2d(64, eps=0.001, momentum=0.1, affine=True, track_running_stats=True)\n",
       "      )\n",
       "      (branch3x3dbl_2): BasicConv2d(\n",
       "        (conv): Conv2d(64, 96, kernel_size=(3, 3), stride=(1, 1), padding=(1, 1), bias=False)\n",
       "        (bn): BatchNorm2d(96, eps=0.001, momentum=0.1, affine=True, track_running_stats=True)\n",
       "      )\n",
       "      (branch3x3dbl_3): BasicConv2d(\n",
       "        (conv): Conv2d(96, 96, kernel_size=(3, 3), stride=(1, 1), padding=(1, 1), bias=False)\n",
       "        (bn): BatchNorm2d(96, eps=0.001, momentum=0.1, affine=True, track_running_stats=True)\n",
       "      )\n",
       "      (branch_pool): BasicConv2d(\n",
       "        (conv): Conv2d(256, 64, kernel_size=(1, 1), stride=(1, 1), bias=False)\n",
       "        (bn): BatchNorm2d(64, eps=0.001, momentum=0.1, affine=True, track_running_stats=True)\n",
       "      )\n",
       "    )\n",
       "    (9): InceptionA(\n",
       "      (branch1x1): BasicConv2d(\n",
       "        (conv): Conv2d(288, 64, kernel_size=(1, 1), stride=(1, 1), bias=False)\n",
       "        (bn): BatchNorm2d(64, eps=0.001, momentum=0.1, affine=True, track_running_stats=True)\n",
       "      )\n",
       "      (branch5x5_1): BasicConv2d(\n",
       "        (conv): Conv2d(288, 48, kernel_size=(1, 1), stride=(1, 1), bias=False)\n",
       "        (bn): BatchNorm2d(48, eps=0.001, momentum=0.1, affine=True, track_running_stats=True)\n",
       "      )\n",
       "      (branch5x5_2): BasicConv2d(\n",
       "        (conv): Conv2d(48, 64, kernel_size=(5, 5), stride=(1, 1), padding=(2, 2), bias=False)\n",
       "        (bn): BatchNorm2d(64, eps=0.001, momentum=0.1, affine=True, track_running_stats=True)\n",
       "      )\n",
       "      (branch3x3dbl_1): BasicConv2d(\n",
       "        (conv): Conv2d(288, 64, kernel_size=(1, 1), stride=(1, 1), bias=False)\n",
       "        (bn): BatchNorm2d(64, eps=0.001, momentum=0.1, affine=True, track_running_stats=True)\n",
       "      )\n",
       "      (branch3x3dbl_2): BasicConv2d(\n",
       "        (conv): Conv2d(64, 96, kernel_size=(3, 3), stride=(1, 1), padding=(1, 1), bias=False)\n",
       "        (bn): BatchNorm2d(96, eps=0.001, momentum=0.1, affine=True, track_running_stats=True)\n",
       "      )\n",
       "      (branch3x3dbl_3): BasicConv2d(\n",
       "        (conv): Conv2d(96, 96, kernel_size=(3, 3), stride=(1, 1), padding=(1, 1), bias=False)\n",
       "        (bn): BatchNorm2d(96, eps=0.001, momentum=0.1, affine=True, track_running_stats=True)\n",
       "      )\n",
       "      (branch_pool): BasicConv2d(\n",
       "        (conv): Conv2d(288, 64, kernel_size=(1, 1), stride=(1, 1), bias=False)\n",
       "        (bn): BatchNorm2d(64, eps=0.001, momentum=0.1, affine=True, track_running_stats=True)\n",
       "      )\n",
       "    )\n",
       "    (10): InceptionB(\n",
       "      (branch3x3): BasicConv2d(\n",
       "        (conv): Conv2d(288, 384, kernel_size=(3, 3), stride=(2, 2), bias=False)\n",
       "        (bn): BatchNorm2d(384, eps=0.001, momentum=0.1, affine=True, track_running_stats=True)\n",
       "      )\n",
       "      (branch3x3dbl_1): BasicConv2d(\n",
       "        (conv): Conv2d(288, 64, kernel_size=(1, 1), stride=(1, 1), bias=False)\n",
       "        (bn): BatchNorm2d(64, eps=0.001, momentum=0.1, affine=True, track_running_stats=True)\n",
       "      )\n",
       "      (branch3x3dbl_2): BasicConv2d(\n",
       "        (conv): Conv2d(64, 96, kernel_size=(3, 3), stride=(1, 1), padding=(1, 1), bias=False)\n",
       "        (bn): BatchNorm2d(96, eps=0.001, momentum=0.1, affine=True, track_running_stats=True)\n",
       "      )\n",
       "      (branch3x3dbl_3): BasicConv2d(\n",
       "        (conv): Conv2d(96, 96, kernel_size=(3, 3), stride=(2, 2), bias=False)\n",
       "        (bn): BatchNorm2d(96, eps=0.001, momentum=0.1, affine=True, track_running_stats=True)\n",
       "      )\n",
       "    )\n",
       "    (11): InceptionC(\n",
       "      (branch1x1): BasicConv2d(\n",
       "        (conv): Conv2d(768, 192, kernel_size=(1, 1), stride=(1, 1), bias=False)\n",
       "        (bn): BatchNorm2d(192, eps=0.001, momentum=0.1, affine=True, track_running_stats=True)\n",
       "      )\n",
       "      (branch7x7_1): BasicConv2d(\n",
       "        (conv): Conv2d(768, 128, kernel_size=(1, 1), stride=(1, 1), bias=False)\n",
       "        (bn): BatchNorm2d(128, eps=0.001, momentum=0.1, affine=True, track_running_stats=True)\n",
       "      )\n",
       "      (branch7x7_2): BasicConv2d(\n",
       "        (conv): Conv2d(128, 128, kernel_size=(1, 7), stride=(1, 1), padding=(0, 3), bias=False)\n",
       "        (bn): BatchNorm2d(128, eps=0.001, momentum=0.1, affine=True, track_running_stats=True)\n",
       "      )\n",
       "      (branch7x7_3): BasicConv2d(\n",
       "        (conv): Conv2d(128, 192, kernel_size=(7, 1), stride=(1, 1), padding=(3, 0), bias=False)\n",
       "        (bn): BatchNorm2d(192, eps=0.001, momentum=0.1, affine=True, track_running_stats=True)\n",
       "      )\n",
       "      (branch7x7dbl_1): BasicConv2d(\n",
       "        (conv): Conv2d(768, 128, kernel_size=(1, 1), stride=(1, 1), bias=False)\n",
       "        (bn): BatchNorm2d(128, eps=0.001, momentum=0.1, affine=True, track_running_stats=True)\n",
       "      )\n",
       "      (branch7x7dbl_2): BasicConv2d(\n",
       "        (conv): Conv2d(128, 128, kernel_size=(7, 1), stride=(1, 1), padding=(3, 0), bias=False)\n",
       "        (bn): BatchNorm2d(128, eps=0.001, momentum=0.1, affine=True, track_running_stats=True)\n",
       "      )\n",
       "      (branch7x7dbl_3): BasicConv2d(\n",
       "        (conv): Conv2d(128, 128, kernel_size=(1, 7), stride=(1, 1), padding=(0, 3), bias=False)\n",
       "        (bn): BatchNorm2d(128, eps=0.001, momentum=0.1, affine=True, track_running_stats=True)\n",
       "      )\n",
       "      (branch7x7dbl_4): BasicConv2d(\n",
       "        (conv): Conv2d(128, 128, kernel_size=(7, 1), stride=(1, 1), padding=(3, 0), bias=False)\n",
       "        (bn): BatchNorm2d(128, eps=0.001, momentum=0.1, affine=True, track_running_stats=True)\n",
       "      )\n",
       "      (branch7x7dbl_5): BasicConv2d(\n",
       "        (conv): Conv2d(128, 192, kernel_size=(1, 7), stride=(1, 1), padding=(0, 3), bias=False)\n",
       "        (bn): BatchNorm2d(192, eps=0.001, momentum=0.1, affine=True, track_running_stats=True)\n",
       "      )\n",
       "      (branch_pool): BasicConv2d(\n",
       "        (conv): Conv2d(768, 192, kernel_size=(1, 1), stride=(1, 1), bias=False)\n",
       "        (bn): BatchNorm2d(192, eps=0.001, momentum=0.1, affine=True, track_running_stats=True)\n",
       "      )\n",
       "    )\n",
       "    (12): InceptionC(\n",
       "      (branch1x1): BasicConv2d(\n",
       "        (conv): Conv2d(768, 192, kernel_size=(1, 1), stride=(1, 1), bias=False)\n",
       "        (bn): BatchNorm2d(192, eps=0.001, momentum=0.1, affine=True, track_running_stats=True)\n",
       "      )\n",
       "      (branch7x7_1): BasicConv2d(\n",
       "        (conv): Conv2d(768, 160, kernel_size=(1, 1), stride=(1, 1), bias=False)\n",
       "        (bn): BatchNorm2d(160, eps=0.001, momentum=0.1, affine=True, track_running_stats=True)\n",
       "      )\n",
       "      (branch7x7_2): BasicConv2d(\n",
       "        (conv): Conv2d(160, 160, kernel_size=(1, 7), stride=(1, 1), padding=(0, 3), bias=False)\n",
       "        (bn): BatchNorm2d(160, eps=0.001, momentum=0.1, affine=True, track_running_stats=True)\n",
       "      )\n",
       "      (branch7x7_3): BasicConv2d(\n",
       "        (conv): Conv2d(160, 192, kernel_size=(7, 1), stride=(1, 1), padding=(3, 0), bias=False)\n",
       "        (bn): BatchNorm2d(192, eps=0.001, momentum=0.1, affine=True, track_running_stats=True)\n",
       "      )\n",
       "      (branch7x7dbl_1): BasicConv2d(\n",
       "        (conv): Conv2d(768, 160, kernel_size=(1, 1), stride=(1, 1), bias=False)\n",
       "        (bn): BatchNorm2d(160, eps=0.001, momentum=0.1, affine=True, track_running_stats=True)\n",
       "      )\n",
       "      (branch7x7dbl_2): BasicConv2d(\n",
       "        (conv): Conv2d(160, 160, kernel_size=(7, 1), stride=(1, 1), padding=(3, 0), bias=False)\n",
       "        (bn): BatchNorm2d(160, eps=0.001, momentum=0.1, affine=True, track_running_stats=True)\n",
       "      )\n",
       "      (branch7x7dbl_3): BasicConv2d(\n",
       "        (conv): Conv2d(160, 160, kernel_size=(1, 7), stride=(1, 1), padding=(0, 3), bias=False)\n",
       "        (bn): BatchNorm2d(160, eps=0.001, momentum=0.1, affine=True, track_running_stats=True)\n",
       "      )\n",
       "      (branch7x7dbl_4): BasicConv2d(\n",
       "        (conv): Conv2d(160, 160, kernel_size=(7, 1), stride=(1, 1), padding=(3, 0), bias=False)\n",
       "        (bn): BatchNorm2d(160, eps=0.001, momentum=0.1, affine=True, track_running_stats=True)\n",
       "      )\n",
       "      (branch7x7dbl_5): BasicConv2d(\n",
       "        (conv): Conv2d(160, 192, kernel_size=(1, 7), stride=(1, 1), padding=(0, 3), bias=False)\n",
       "        (bn): BatchNorm2d(192, eps=0.001, momentum=0.1, affine=True, track_running_stats=True)\n",
       "      )\n",
       "      (branch_pool): BasicConv2d(\n",
       "        (conv): Conv2d(768, 192, kernel_size=(1, 1), stride=(1, 1), bias=False)\n",
       "        (bn): BatchNorm2d(192, eps=0.001, momentum=0.1, affine=True, track_running_stats=True)\n",
       "      )\n",
       "    )\n",
       "    (13): InceptionC(\n",
       "      (branch1x1): BasicConv2d(\n",
       "        (conv): Conv2d(768, 192, kernel_size=(1, 1), stride=(1, 1), bias=False)\n",
       "        (bn): BatchNorm2d(192, eps=0.001, momentum=0.1, affine=True, track_running_stats=True)\n",
       "      )\n",
       "      (branch7x7_1): BasicConv2d(\n",
       "        (conv): Conv2d(768, 160, kernel_size=(1, 1), stride=(1, 1), bias=False)\n",
       "        (bn): BatchNorm2d(160, eps=0.001, momentum=0.1, affine=True, track_running_stats=True)\n",
       "      )\n",
       "      (branch7x7_2): BasicConv2d(\n",
       "        (conv): Conv2d(160, 160, kernel_size=(1, 7), stride=(1, 1), padding=(0, 3), bias=False)\n",
       "        (bn): BatchNorm2d(160, eps=0.001, momentum=0.1, affine=True, track_running_stats=True)\n",
       "      )\n",
       "      (branch7x7_3): BasicConv2d(\n",
       "        (conv): Conv2d(160, 192, kernel_size=(7, 1), stride=(1, 1), padding=(3, 0), bias=False)\n",
       "        (bn): BatchNorm2d(192, eps=0.001, momentum=0.1, affine=True, track_running_stats=True)\n",
       "      )\n",
       "      (branch7x7dbl_1): BasicConv2d(\n",
       "        (conv): Conv2d(768, 160, kernel_size=(1, 1), stride=(1, 1), bias=False)\n",
       "        (bn): BatchNorm2d(160, eps=0.001, momentum=0.1, affine=True, track_running_stats=True)\n",
       "      )\n",
       "      (branch7x7dbl_2): BasicConv2d(\n",
       "        (conv): Conv2d(160, 160, kernel_size=(7, 1), stride=(1, 1), padding=(3, 0), bias=False)\n",
       "        (bn): BatchNorm2d(160, eps=0.001, momentum=0.1, affine=True, track_running_stats=True)\n",
       "      )\n",
       "      (branch7x7dbl_3): BasicConv2d(\n",
       "        (conv): Conv2d(160, 160, kernel_size=(1, 7), stride=(1, 1), padding=(0, 3), bias=False)\n",
       "        (bn): BatchNorm2d(160, eps=0.001, momentum=0.1, affine=True, track_running_stats=True)\n",
       "      )\n",
       "      (branch7x7dbl_4): BasicConv2d(\n",
       "        (conv): Conv2d(160, 160, kernel_size=(7, 1), stride=(1, 1), padding=(3, 0), bias=False)\n",
       "        (bn): BatchNorm2d(160, eps=0.001, momentum=0.1, affine=True, track_running_stats=True)\n",
       "      )\n",
       "      (branch7x7dbl_5): BasicConv2d(\n",
       "        (conv): Conv2d(160, 192, kernel_size=(1, 7), stride=(1, 1), padding=(0, 3), bias=False)\n",
       "        (bn): BatchNorm2d(192, eps=0.001, momentum=0.1, affine=True, track_running_stats=True)\n",
       "      )\n",
       "      (branch_pool): BasicConv2d(\n",
       "        (conv): Conv2d(768, 192, kernel_size=(1, 1), stride=(1, 1), bias=False)\n",
       "        (bn): BatchNorm2d(192, eps=0.001, momentum=0.1, affine=True, track_running_stats=True)\n",
       "      )\n",
       "    )\n",
       "    (14): InceptionC(\n",
       "      (branch1x1): BasicConv2d(\n",
       "        (conv): Conv2d(768, 192, kernel_size=(1, 1), stride=(1, 1), bias=False)\n",
       "        (bn): BatchNorm2d(192, eps=0.001, momentum=0.1, affine=True, track_running_stats=True)\n",
       "      )\n",
       "      (branch7x7_1): BasicConv2d(\n",
       "        (conv): Conv2d(768, 192, kernel_size=(1, 1), stride=(1, 1), bias=False)\n",
       "        (bn): BatchNorm2d(192, eps=0.001, momentum=0.1, affine=True, track_running_stats=True)\n",
       "      )\n",
       "      (branch7x7_2): BasicConv2d(\n",
       "        (conv): Conv2d(192, 192, kernel_size=(1, 7), stride=(1, 1), padding=(0, 3), bias=False)\n",
       "        (bn): BatchNorm2d(192, eps=0.001, momentum=0.1, affine=True, track_running_stats=True)\n",
       "      )\n",
       "      (branch7x7_3): BasicConv2d(\n",
       "        (conv): Conv2d(192, 192, kernel_size=(7, 1), stride=(1, 1), padding=(3, 0), bias=False)\n",
       "        (bn): BatchNorm2d(192, eps=0.001, momentum=0.1, affine=True, track_running_stats=True)\n",
       "      )\n",
       "      (branch7x7dbl_1): BasicConv2d(\n",
       "        (conv): Conv2d(768, 192, kernel_size=(1, 1), stride=(1, 1), bias=False)\n",
       "        (bn): BatchNorm2d(192, eps=0.001, momentum=0.1, affine=True, track_running_stats=True)\n",
       "      )\n",
       "      (branch7x7dbl_2): BasicConv2d(\n",
       "        (conv): Conv2d(192, 192, kernel_size=(7, 1), stride=(1, 1), padding=(3, 0), bias=False)\n",
       "        (bn): BatchNorm2d(192, eps=0.001, momentum=0.1, affine=True, track_running_stats=True)\n",
       "      )\n",
       "      (branch7x7dbl_3): BasicConv2d(\n",
       "        (conv): Conv2d(192, 192, kernel_size=(1, 7), stride=(1, 1), padding=(0, 3), bias=False)\n",
       "        (bn): BatchNorm2d(192, eps=0.001, momentum=0.1, affine=True, track_running_stats=True)\n",
       "      )\n",
       "      (branch7x7dbl_4): BasicConv2d(\n",
       "        (conv): Conv2d(192, 192, kernel_size=(7, 1), stride=(1, 1), padding=(3, 0), bias=False)\n",
       "        (bn): BatchNorm2d(192, eps=0.001, momentum=0.1, affine=True, track_running_stats=True)\n",
       "      )\n",
       "      (branch7x7dbl_5): BasicConv2d(\n",
       "        (conv): Conv2d(192, 192, kernel_size=(1, 7), stride=(1, 1), padding=(0, 3), bias=False)\n",
       "        (bn): BatchNorm2d(192, eps=0.001, momentum=0.1, affine=True, track_running_stats=True)\n",
       "      )\n",
       "      (branch_pool): BasicConv2d(\n",
       "        (conv): Conv2d(768, 192, kernel_size=(1, 1), stride=(1, 1), bias=False)\n",
       "        (bn): BatchNorm2d(192, eps=0.001, momentum=0.1, affine=True, track_running_stats=True)\n",
       "      )\n",
       "    )\n",
       "    (15): InceptionD(\n",
       "      (branch3x3_1): BasicConv2d(\n",
       "        (conv): Conv2d(768, 192, kernel_size=(1, 1), stride=(1, 1), bias=False)\n",
       "        (bn): BatchNorm2d(192, eps=0.001, momentum=0.1, affine=True, track_running_stats=True)\n",
       "      )\n",
       "      (branch3x3_2): BasicConv2d(\n",
       "        (conv): Conv2d(192, 320, kernel_size=(3, 3), stride=(2, 2), bias=False)\n",
       "        (bn): BatchNorm2d(320, eps=0.001, momentum=0.1, affine=True, track_running_stats=True)\n",
       "      )\n",
       "      (branch7x7x3_1): BasicConv2d(\n",
       "        (conv): Conv2d(768, 192, kernel_size=(1, 1), stride=(1, 1), bias=False)\n",
       "        (bn): BatchNorm2d(192, eps=0.001, momentum=0.1, affine=True, track_running_stats=True)\n",
       "      )\n",
       "      (branch7x7x3_2): BasicConv2d(\n",
       "        (conv): Conv2d(192, 192, kernel_size=(1, 7), stride=(1, 1), padding=(0, 3), bias=False)\n",
       "        (bn): BatchNorm2d(192, eps=0.001, momentum=0.1, affine=True, track_running_stats=True)\n",
       "      )\n",
       "      (branch7x7x3_3): BasicConv2d(\n",
       "        (conv): Conv2d(192, 192, kernel_size=(7, 1), stride=(1, 1), padding=(3, 0), bias=False)\n",
       "        (bn): BatchNorm2d(192, eps=0.001, momentum=0.1, affine=True, track_running_stats=True)\n",
       "      )\n",
       "      (branch7x7x3_4): BasicConv2d(\n",
       "        (conv): Conv2d(192, 192, kernel_size=(3, 3), stride=(2, 2), bias=False)\n",
       "        (bn): BatchNorm2d(192, eps=0.001, momentum=0.1, affine=True, track_running_stats=True)\n",
       "      )\n",
       "    )\n",
       "    (16): InceptionE(\n",
       "      (branch1x1): BasicConv2d(\n",
       "        (conv): Conv2d(1280, 320, kernel_size=(1, 1), stride=(1, 1), bias=False)\n",
       "        (bn): BatchNorm2d(320, eps=0.001, momentum=0.1, affine=True, track_running_stats=True)\n",
       "      )\n",
       "      (branch3x3_1): BasicConv2d(\n",
       "        (conv): Conv2d(1280, 384, kernel_size=(1, 1), stride=(1, 1), bias=False)\n",
       "        (bn): BatchNorm2d(384, eps=0.001, momentum=0.1, affine=True, track_running_stats=True)\n",
       "      )\n",
       "      (branch3x3_2a): BasicConv2d(\n",
       "        (conv): Conv2d(384, 384, kernel_size=(1, 3), stride=(1, 1), padding=(0, 1), bias=False)\n",
       "        (bn): BatchNorm2d(384, eps=0.001, momentum=0.1, affine=True, track_running_stats=True)\n",
       "      )\n",
       "      (branch3x3_2b): BasicConv2d(\n",
       "        (conv): Conv2d(384, 384, kernel_size=(3, 1), stride=(1, 1), padding=(1, 0), bias=False)\n",
       "        (bn): BatchNorm2d(384, eps=0.001, momentum=0.1, affine=True, track_running_stats=True)\n",
       "      )\n",
       "      (branch3x3dbl_1): BasicConv2d(\n",
       "        (conv): Conv2d(1280, 448, kernel_size=(1, 1), stride=(1, 1), bias=False)\n",
       "        (bn): BatchNorm2d(448, eps=0.001, momentum=0.1, affine=True, track_running_stats=True)\n",
       "      )\n",
       "      (branch3x3dbl_2): BasicConv2d(\n",
       "        (conv): Conv2d(448, 384, kernel_size=(3, 3), stride=(1, 1), padding=(1, 1), bias=False)\n",
       "        (bn): BatchNorm2d(384, eps=0.001, momentum=0.1, affine=True, track_running_stats=True)\n",
       "      )\n",
       "      (branch3x3dbl_3a): BasicConv2d(\n",
       "        (conv): Conv2d(384, 384, kernel_size=(1, 3), stride=(1, 1), padding=(0, 1), bias=False)\n",
       "        (bn): BatchNorm2d(384, eps=0.001, momentum=0.1, affine=True, track_running_stats=True)\n",
       "      )\n",
       "      (branch3x3dbl_3b): BasicConv2d(\n",
       "        (conv): Conv2d(384, 384, kernel_size=(3, 1), stride=(1, 1), padding=(1, 0), bias=False)\n",
       "        (bn): BatchNorm2d(384, eps=0.001, momentum=0.1, affine=True, track_running_stats=True)\n",
       "      )\n",
       "      (branch_pool): BasicConv2d(\n",
       "        (conv): Conv2d(1280, 192, kernel_size=(1, 1), stride=(1, 1), bias=False)\n",
       "        (bn): BatchNorm2d(192, eps=0.001, momentum=0.1, affine=True, track_running_stats=True)\n",
       "      )\n",
       "    )\n",
       "    (17): InceptionE(\n",
       "      (branch1x1): BasicConv2d(\n",
       "        (conv): Conv2d(2048, 320, kernel_size=(1, 1), stride=(1, 1), bias=False)\n",
       "        (bn): BatchNorm2d(320, eps=0.001, momentum=0.1, affine=True, track_running_stats=True)\n",
       "      )\n",
       "      (branch3x3_1): BasicConv2d(\n",
       "        (conv): Conv2d(2048, 384, kernel_size=(1, 1), stride=(1, 1), bias=False)\n",
       "        (bn): BatchNorm2d(384, eps=0.001, momentum=0.1, affine=True, track_running_stats=True)\n",
       "      )\n",
       "      (branch3x3_2a): BasicConv2d(\n",
       "        (conv): Conv2d(384, 384, kernel_size=(1, 3), stride=(1, 1), padding=(0, 1), bias=False)\n",
       "        (bn): BatchNorm2d(384, eps=0.001, momentum=0.1, affine=True, track_running_stats=True)\n",
       "      )\n",
       "      (branch3x3_2b): BasicConv2d(\n",
       "        (conv): Conv2d(384, 384, kernel_size=(3, 1), stride=(1, 1), padding=(1, 0), bias=False)\n",
       "        (bn): BatchNorm2d(384, eps=0.001, momentum=0.1, affine=True, track_running_stats=True)\n",
       "      )\n",
       "      (branch3x3dbl_1): BasicConv2d(\n",
       "        (conv): Conv2d(2048, 448, kernel_size=(1, 1), stride=(1, 1), bias=False)\n",
       "        (bn): BatchNorm2d(448, eps=0.001, momentum=0.1, affine=True, track_running_stats=True)\n",
       "      )\n",
       "      (branch3x3dbl_2): BasicConv2d(\n",
       "        (conv): Conv2d(448, 384, kernel_size=(3, 3), stride=(1, 1), padding=(1, 1), bias=False)\n",
       "        (bn): BatchNorm2d(384, eps=0.001, momentum=0.1, affine=True, track_running_stats=True)\n",
       "      )\n",
       "      (branch3x3dbl_3a): BasicConv2d(\n",
       "        (conv): Conv2d(384, 384, kernel_size=(1, 3), stride=(1, 1), padding=(0, 1), bias=False)\n",
       "        (bn): BatchNorm2d(384, eps=0.001, momentum=0.1, affine=True, track_running_stats=True)\n",
       "      )\n",
       "      (branch3x3dbl_3b): BasicConv2d(\n",
       "        (conv): Conv2d(384, 384, kernel_size=(3, 1), stride=(1, 1), padding=(1, 0), bias=False)\n",
       "        (bn): BatchNorm2d(384, eps=0.001, momentum=0.1, affine=True, track_running_stats=True)\n",
       "      )\n",
       "      (branch_pool): BasicConv2d(\n",
       "        (conv): Conv2d(2048, 192, kernel_size=(1, 1), stride=(1, 1), bias=False)\n",
       "        (bn): BatchNorm2d(192, eps=0.001, momentum=0.1, affine=True, track_running_stats=True)\n",
       "      )\n",
       "    )\n",
       "  )\n",
       "  (avgpool): AdaptiveMaxPool2d(output_size=(1, 1))\n",
       "  (drop): Dropout(p=0.2, inplace=False)\n",
       "  (ffn): Sequential(\n",
       "    (0): Linear(in_features=2048, out_features=512, bias=True)\n",
       "    (1): ReLU()\n",
       "    (2): Linear(in_features=512, out_features=128, bias=True)\n",
       "    (3): ReLU()\n",
       "  )\n",
       "  (atten): Linear(in_features=128, out_features=1, bias=False)\n",
       "  (cl): Linear(in_features=128, out_features=2, bias=True)\n",
       ")"
      ]
     },
     "execution_count": 91,
     "metadata": {},
     "output_type": "execute_result"
    }
   ],
   "source": [
    "model"
   ]
  },
  {
   "cell_type": "code",
   "execution_count": 92,
   "metadata": {},
   "outputs": [
    {
     "name": "stdout",
     "output_type": "stream",
     "text": [
      "24,949,706 total parameters.\n",
      "1,115,138 training parameters.\n"
     ]
    }
   ],
   "source": [
    "total_params = sum(p.numel() for p in model.parameters())\n",
    "print(f\"{total_params:,} total parameters.\")\n",
    "total_trainable_params = sum(p.numel() for p in model.parameters() if p.requires_grad)\n",
    "print(f\"{total_trainable_params:,} training parameters.\")"
   ]
  },
  {
   "cell_type": "code",
   "execution_count": 93,
   "metadata": {},
   "outputs": [],
   "source": [
    "from sklearn.utils.class_weight import compute_class_weight\n",
    "\n",
    "class_weights=compute_class_weight(class_weight='balanced', classes=np.unique(dm.train_data['label']), y=dm.train_data['label'])\n",
    "class_weights=torch.tensor(class_weights,dtype=torch.float).to(device)"
   ]
  },
  {
   "cell_type": "code",
   "execution_count": 94,
   "metadata": {},
   "outputs": [
    {
     "name": "stdout",
     "output_type": "stream",
     "text": [
      "Tue Apr 26 08:53:01 2022       \n",
      "+-----------------------------------------------------------------------------+\n",
      "| NVIDIA-SMI 465.19.01    Driver Version: 465.19.01    CUDA Version: 11.3     |\n",
      "|-------------------------------+----------------------+----------------------+\n",
      "| GPU  Name        Persistence-M| Bus-Id        Disp.A | Volatile Uncorr. ECC |\n",
      "| Fan  Temp  Perf  Pwr:Usage/Cap|         Memory-Usage | GPU-Util  Compute M. |\n",
      "|                               |                      |               MIG M. |\n",
      "|===============================+======================+======================|\n",
      "|   0  NVIDIA GeForce ...  Off  | 00000000:5E:00.0 Off |                  N/A |\n",
      "| 34%   58C    P2    72W / 250W |   7182MiB / 11019MiB |     19%      Default |\n",
      "|                               |                      |                  N/A |\n",
      "+-------------------------------+----------------------+----------------------+\n",
      "|   1  NVIDIA GeForce ...  Off  | 00000000:86:00.0 Off |                  N/A |\n",
      "| 46%   64C    P2   205W / 250W |   7861MiB / 11019MiB |     74%      Default |\n",
      "|                               |                      |                  N/A |\n",
      "+-------------------------------+----------------------+----------------------+\n",
      "                                                                               \n",
      "+-----------------------------------------------------------------------------+\n",
      "| Processes:                                                                  |\n",
      "|  GPU   GI   CI        PID   Type   Process name                  GPU Memory |\n",
      "|        ID   ID                                                   Usage      |\n",
      "|=============================================================================|\n",
      "|    0   N/A  N/A   3295888      C   ...da3/envs/AI_DA/bin/python     3449MiB |\n",
      "|    0   N/A  N/A   3301977      C   ...da3/envs/AI_DA/bin/python     2697MiB |\n",
      "|    0   N/A  N/A   3306309      C   ...da3/envs/AI_DA/bin/python     1033MiB |\n",
      "|    1   N/A  N/A    429695      C   python                           3493MiB |\n",
      "|    1   N/A  N/A   3312555      C   python3                          4365MiB |\n",
      "+-----------------------------------------------------------------------------+\n"
     ]
    }
   ],
   "source": [
    "!nvidia-smi"
   ]
  },
  {
   "cell_type": "code",
   "execution_count": null,
   "metadata": {
    "colab": {
     "base_uri": "https://localhost:8080/",
     "height": 927
    },
    "id": "7mSKvEYdVLGV",
    "outputId": "304f54d4-de09-4cfb-81a8-453bf339bcdc"
   },
   "outputs": [
    {
     "name": "stdout",
     "output_type": "stream",
     "text": [
      "24,949,706 total parameters.\n",
      "1,115,138 training parameters.\n",
      "Epoch 0 of 30\n",
      "Epoch 0 Step 99 ave_loss 0.8169\n",
      "Epoch 0 Step 199 ave_loss 0.6989\n",
      "Epoch 0 Step 299 ave_loss 0.6858\n",
      "Epoch 0 Step 399 ave_loss 0.6919\n",
      "Epoch 0 Step 499 ave_loss 0.6882\n",
      "Epoch 0 Step 599 ave_loss 0.6894\n",
      "Epoch 0 Step 699 ave_loss 0.6922\n",
      "Epoch 0 Step 799 ave_loss 0.6918\n",
      "Epoch 0 Step 899 ave_loss 0.6833\n",
      "[[ 728 1690]\n",
      " [1417 4145]]\n"
     ]
    },
    {
     "name": "stderr",
     "output_type": "stream",
     "text": [
      "/home/nghiatl/anaconda3/envs/AI_DA/lib/python3.10/site-packages/sklearn/metrics/_classification.py:1318: UndefinedMetricWarning: Precision and F-score are ill-defined and being set to 0.0 in labels with no predicted samples. Use `zero_division` parameter to control this behavior.\n",
      "  _warn_prf(average, modifier, msg_start, len(result))\n",
      "/home/nghiatl/anaconda3/envs/AI_DA/lib/python3.10/site-packages/sklearn/metrics/_classification.py:1318: UndefinedMetricWarning: Precision and F-score are ill-defined and being set to 0.0 in labels with no predicted samples. Use `zero_division` parameter to control this behavior.\n",
      "  _warn_prf(average, modifier, msg_start, len(result))\n",
      "/home/nghiatl/anaconda3/envs/AI_DA/lib/python3.10/site-packages/sklearn/metrics/_classification.py:1318: UndefinedMetricWarning: Precision and F-score are ill-defined and being set to 0.0 in labels with no predicted samples. Use `zero_division` parameter to control this behavior.\n",
      "  _warn_prf(average, modifier, msg_start, len(result))\n",
      "/home/nghiatl/anaconda3/envs/AI_DA/lib/python3.10/site-packages/sklearn/metrics/_classification.py:1318: UndefinedMetricWarning: Precision and F-score are ill-defined and being set to 0.0 in labels with no predicted samples. Use `zero_division` parameter to control this behavior.\n",
      "  _warn_prf(average, modifier, msg_start, len(result))\n",
      "/home/nghiatl/anaconda3/envs/AI_DA/lib/python3.10/site-packages/sklearn/metrics/_classification.py:1318: UndefinedMetricWarning: Precision and F-score are ill-defined and being set to 0.0 in labels with no predicted samples. Use `zero_division` parameter to control this behavior.\n",
      "  _warn_prf(average, modifier, msg_start, len(result))\n",
      "/home/nghiatl/anaconda3/envs/AI_DA/lib/python3.10/site-packages/sklearn/metrics/_classification.py:1318: UndefinedMetricWarning: Precision and F-score are ill-defined and being set to 0.0 in labels with no predicted samples. Use `zero_division` parameter to control this behavior.\n",
      "  _warn_prf(average, modifier, msg_start, len(result))\n"
     ]
    },
    {
     "name": "stdout",
     "output_type": "stream",
     "text": [
      "              precision    recall  f1-score   support\n",
      "\n",
      "         0.0       0.00      0.00      0.00       303\n",
      "         1.0       0.70      1.00      0.82       695\n",
      "\n",
      "    accuracy                           0.70       998\n",
      "   macro avg       0.35      0.50      0.41       998\n",
      "weighted avg       0.48      0.70      0.57       998\n",
      "\n",
      "[[  0 303]\n",
      " [  0 695]]\n",
      "Train acc 0.5232363592458353\n",
      "Train Loss: 0.7033\n",
      "Val Loss: 0.6919\n",
      "Val Acc: 0.4105\n",
      "Better ver saved\n",
      "Saving....my_checkpoint_incept_attention_seed_84_1e-3_drop02.pth.tar\n",
      "Better ver saved\n",
      "Saving....my_checkpoint_incept_attention_seed_84_f1_1e-3_drop02.pth.tar\n",
      "Epoch 1 of 30\n",
      "Epoch 1 Step 99 ave_loss 0.6893\n",
      "Epoch 1 Step 199 ave_loss 0.6925\n",
      "Epoch 1 Step 299 ave_loss 0.6928\n",
      "Epoch 1 Step 399 ave_loss 0.6905\n",
      "Epoch 1 Step 499 ave_loss 0.6902\n",
      "Epoch 1 Step 599 ave_loss 0.6937\n",
      "Epoch 1 Step 699 ave_loss 0.6904\n",
      "Epoch 1 Step 799 ave_loss 0.6909\n",
      "Epoch 1 Step 899 ave_loss 0.6943\n",
      "[[  29 2389]\n",
      " [  60 5502]]\n"
     ]
    },
    {
     "name": "stderr",
     "output_type": "stream",
     "text": [
      "/home/nghiatl/anaconda3/envs/AI_DA/lib/python3.10/site-packages/sklearn/metrics/_classification.py:1318: UndefinedMetricWarning: Precision and F-score are ill-defined and being set to 0.0 in labels with no predicted samples. Use `zero_division` parameter to control this behavior.\n",
      "  _warn_prf(average, modifier, msg_start, len(result))\n",
      "/home/nghiatl/anaconda3/envs/AI_DA/lib/python3.10/site-packages/sklearn/metrics/_classification.py:1318: UndefinedMetricWarning: Precision and F-score are ill-defined and being set to 0.0 in labels with no predicted samples. Use `zero_division` parameter to control this behavior.\n",
      "  _warn_prf(average, modifier, msg_start, len(result))\n",
      "/home/nghiatl/anaconda3/envs/AI_DA/lib/python3.10/site-packages/sklearn/metrics/_classification.py:1318: UndefinedMetricWarning: Precision and F-score are ill-defined and being set to 0.0 in labels with no predicted samples. Use `zero_division` parameter to control this behavior.\n",
      "  _warn_prf(average, modifier, msg_start, len(result))\n",
      "/home/nghiatl/anaconda3/envs/AI_DA/lib/python3.10/site-packages/sklearn/metrics/_classification.py:1318: UndefinedMetricWarning: Precision and F-score are ill-defined and being set to 0.0 in labels with no predicted samples. Use `zero_division` parameter to control this behavior.\n",
      "  _warn_prf(average, modifier, msg_start, len(result))\n",
      "/home/nghiatl/anaconda3/envs/AI_DA/lib/python3.10/site-packages/sklearn/metrics/_classification.py:1318: UndefinedMetricWarning: Precision and F-score are ill-defined and being set to 0.0 in labels with no predicted samples. Use `zero_division` parameter to control this behavior.\n",
      "  _warn_prf(average, modifier, msg_start, len(result))\n",
      "/home/nghiatl/anaconda3/envs/AI_DA/lib/python3.10/site-packages/sklearn/metrics/_classification.py:1318: UndefinedMetricWarning: Precision and F-score are ill-defined and being set to 0.0 in labels with no predicted samples. Use `zero_division` parameter to control this behavior.\n",
      "  _warn_prf(average, modifier, msg_start, len(result))\n"
     ]
    },
    {
     "name": "stdout",
     "output_type": "stream",
     "text": [
      "              precision    recall  f1-score   support\n",
      "\n",
      "         0.0       0.00      0.00      0.00       303\n",
      "         1.0       0.70      1.00      0.82       695\n",
      "\n",
      "    accuracy                           0.70       998\n",
      "   macro avg       0.35      0.50      0.41       998\n",
      "weighted avg       0.48      0.70      0.57       998\n",
      "\n",
      "[[  0 303]\n",
      " [  0 695]]\n",
      "Train acc 0.42054702048713904\n",
      "Train Loss: 0.6921\n",
      "Val Loss: 0.6919\n",
      "Val Acc: 0.4105\n",
      "Better ver saved\n",
      "Saving....my_checkpoint_incept_attention_seed_84_f1_1e-3_drop02.pth.tar\n",
      "INFO: Early stopping counter 1 of 5\n",
      "Epoch 2 of 30\n",
      "Epoch 2 Step 99 ave_loss 0.6914\n",
      "Epoch 2 Step 199 ave_loss 0.6923\n",
      "Epoch 2 Step 299 ave_loss 0.6895\n",
      "Epoch 2 Step 399 ave_loss 0.6944\n",
      "Epoch 2 Step 499 ave_loss 0.6928\n",
      "Epoch 2 Step 599 ave_loss 0.6937\n",
      "Epoch 2 Step 699 ave_loss 0.6925\n",
      "Epoch 2 Step 799 ave_loss 0.6919\n",
      "Epoch 2 Step 899 ave_loss 0.6867\n"
     ]
    },
    {
     "name": "stderr",
     "output_type": "stream",
     "text": [
      "/home/nghiatl/anaconda3/envs/AI_DA/lib/python3.10/site-packages/sklearn/metrics/_classification.py:1318: UndefinedMetricWarning: Precision and F-score are ill-defined and being set to 0.0 in labels with no predicted samples. Use `zero_division` parameter to control this behavior.\n",
      "  _warn_prf(average, modifier, msg_start, len(result))\n",
      "/home/nghiatl/anaconda3/envs/AI_DA/lib/python3.10/site-packages/sklearn/metrics/_classification.py:1318: UndefinedMetricWarning: Precision and F-score are ill-defined and being set to 0.0 in labels with no predicted samples. Use `zero_division` parameter to control this behavior.\n",
      "  _warn_prf(average, modifier, msg_start, len(result))\n",
      "/home/nghiatl/anaconda3/envs/AI_DA/lib/python3.10/site-packages/sklearn/metrics/_classification.py:1318: UndefinedMetricWarning: Precision and F-score are ill-defined and being set to 0.0 in labels with no predicted samples. Use `zero_division` parameter to control this behavior.\n",
      "  _warn_prf(average, modifier, msg_start, len(result))\n",
      "/home/nghiatl/anaconda3/envs/AI_DA/lib/python3.10/site-packages/sklearn/metrics/_classification.py:1318: UndefinedMetricWarning: Precision and F-score are ill-defined and being set to 0.0 in labels with no predicted samples. Use `zero_division` parameter to control this behavior.\n",
      "  _warn_prf(average, modifier, msg_start, len(result))\n",
      "/home/nghiatl/anaconda3/envs/AI_DA/lib/python3.10/site-packages/sklearn/metrics/_classification.py:1318: UndefinedMetricWarning: Precision and F-score are ill-defined and being set to 0.0 in labels with no predicted samples. Use `zero_division` parameter to control this behavior.\n",
      "  _warn_prf(average, modifier, msg_start, len(result))\n",
      "/home/nghiatl/anaconda3/envs/AI_DA/lib/python3.10/site-packages/sklearn/metrics/_classification.py:1318: UndefinedMetricWarning: Precision and F-score are ill-defined and being set to 0.0 in labels with no predicted samples. Use `zero_division` parameter to control this behavior.\n",
      "  _warn_prf(average, modifier, msg_start, len(result))\n"
     ]
    },
    {
     "name": "stdout",
     "output_type": "stream",
     "text": [
      "[[   0 2418]\n",
      " [   0 5562]]\n"
     ]
    },
    {
     "name": "stderr",
     "output_type": "stream",
     "text": [
      "/home/nghiatl/anaconda3/envs/AI_DA/lib/python3.10/site-packages/sklearn/metrics/_classification.py:1318: UndefinedMetricWarning: Precision and F-score are ill-defined and being set to 0.0 in labels with no predicted samples. Use `zero_division` parameter to control this behavior.\n",
      "  _warn_prf(average, modifier, msg_start, len(result))\n",
      "/home/nghiatl/anaconda3/envs/AI_DA/lib/python3.10/site-packages/sklearn/metrics/_classification.py:1318: UndefinedMetricWarning: Precision and F-score are ill-defined and being set to 0.0 in labels with no predicted samples. Use `zero_division` parameter to control this behavior.\n",
      "  _warn_prf(average, modifier, msg_start, len(result))\n",
      "/home/nghiatl/anaconda3/envs/AI_DA/lib/python3.10/site-packages/sklearn/metrics/_classification.py:1318: UndefinedMetricWarning: Precision and F-score are ill-defined and being set to 0.0 in labels with no predicted samples. Use `zero_division` parameter to control this behavior.\n",
      "  _warn_prf(average, modifier, msg_start, len(result))\n",
      "/home/nghiatl/anaconda3/envs/AI_DA/lib/python3.10/site-packages/sklearn/metrics/_classification.py:1318: UndefinedMetricWarning: Precision and F-score are ill-defined and being set to 0.0 in labels with no predicted samples. Use `zero_division` parameter to control this behavior.\n",
      "  _warn_prf(average, modifier, msg_start, len(result))\n",
      "/home/nghiatl/anaconda3/envs/AI_DA/lib/python3.10/site-packages/sklearn/metrics/_classification.py:1318: UndefinedMetricWarning: Precision and F-score are ill-defined and being set to 0.0 in labels with no predicted samples. Use `zero_division` parameter to control this behavior.\n",
      "  _warn_prf(average, modifier, msg_start, len(result))\n",
      "/home/nghiatl/anaconda3/envs/AI_DA/lib/python3.10/site-packages/sklearn/metrics/_classification.py:1318: UndefinedMetricWarning: Precision and F-score are ill-defined and being set to 0.0 in labels with no predicted samples. Use `zero_division` parameter to control this behavior.\n",
      "  _warn_prf(average, modifier, msg_start, len(result))\n"
     ]
    },
    {
     "name": "stdout",
     "output_type": "stream",
     "text": [
      "              precision    recall  f1-score   support\n",
      "\n",
      "         0.0       0.00      0.00      0.00       303\n",
      "         1.0       0.70      1.00      0.82       695\n",
      "\n",
      "    accuracy                           0.70       998\n",
      "   macro avg       0.35      0.50      0.41       998\n",
      "weighted avg       0.48      0.70      0.57       998\n",
      "\n",
      "[[  0 303]\n",
      " [  0 695]]\n",
      "Epoch 00003: reducing learning rate of group 0 to 1.0000e-04.\n",
      "Train acc 0.4107221976074435\n",
      "Train Loss: 0.6918\n",
      "Val Loss: 0.6921\n",
      "Val Acc: 0.4105\n",
      "Better ver saved\n",
      "Saving....my_checkpoint_incept_attention_seed_84_f1_1e-3_drop02.pth.tar\n",
      "INFO: Early stopping counter 2 of 5\n",
      "Epoch 3 of 30\n",
      "Epoch 3 Step 99 ave_loss 0.6943\n",
      "Epoch 3 Step 199 ave_loss 0.6923\n",
      "Epoch 3 Step 299 ave_loss 0.6920\n",
      "Epoch 3 Step 399 ave_loss 0.6931\n",
      "Epoch 3 Step 499 ave_loss 0.6905\n",
      "Epoch 3 Step 599 ave_loss 0.6898\n",
      "Epoch 3 Step 699 ave_loss 0.6906\n",
      "Epoch 3 Step 799 ave_loss 0.6905\n",
      "Epoch 3 Step 899 ave_loss 0.6917\n"
     ]
    },
    {
     "name": "stderr",
     "output_type": "stream",
     "text": [
      "/home/nghiatl/anaconda3/envs/AI_DA/lib/python3.10/site-packages/sklearn/metrics/_classification.py:1318: UndefinedMetricWarning: Precision and F-score are ill-defined and being set to 0.0 in labels with no predicted samples. Use `zero_division` parameter to control this behavior.\n",
      "  _warn_prf(average, modifier, msg_start, len(result))\n",
      "/home/nghiatl/anaconda3/envs/AI_DA/lib/python3.10/site-packages/sklearn/metrics/_classification.py:1318: UndefinedMetricWarning: Precision and F-score are ill-defined and being set to 0.0 in labels with no predicted samples. Use `zero_division` parameter to control this behavior.\n",
      "  _warn_prf(average, modifier, msg_start, len(result))\n",
      "/home/nghiatl/anaconda3/envs/AI_DA/lib/python3.10/site-packages/sklearn/metrics/_classification.py:1318: UndefinedMetricWarning: Precision and F-score are ill-defined and being set to 0.0 in labels with no predicted samples. Use `zero_division` parameter to control this behavior.\n",
      "  _warn_prf(average, modifier, msg_start, len(result))\n",
      "/home/nghiatl/anaconda3/envs/AI_DA/lib/python3.10/site-packages/sklearn/metrics/_classification.py:1318: UndefinedMetricWarning: Precision and F-score are ill-defined and being set to 0.0 in labels with no predicted samples. Use `zero_division` parameter to control this behavior.\n",
      "  _warn_prf(average, modifier, msg_start, len(result))\n",
      "/home/nghiatl/anaconda3/envs/AI_DA/lib/python3.10/site-packages/sklearn/metrics/_classification.py:1318: UndefinedMetricWarning: Precision and F-score are ill-defined and being set to 0.0 in labels with no predicted samples. Use `zero_division` parameter to control this behavior.\n",
      "  _warn_prf(average, modifier, msg_start, len(result))\n",
      "/home/nghiatl/anaconda3/envs/AI_DA/lib/python3.10/site-packages/sklearn/metrics/_classification.py:1318: UndefinedMetricWarning: Precision and F-score are ill-defined and being set to 0.0 in labels with no predicted samples. Use `zero_division` parameter to control this behavior.\n",
      "  _warn_prf(average, modifier, msg_start, len(result))\n"
     ]
    },
    {
     "name": "stdout",
     "output_type": "stream",
     "text": [
      "[[   0 2418]\n",
      " [   0 5562]]\n"
     ]
    },
    {
     "name": "stderr",
     "output_type": "stream",
     "text": [
      "/home/nghiatl/anaconda3/envs/AI_DA/lib/python3.10/site-packages/sklearn/metrics/_classification.py:1318: UndefinedMetricWarning: Precision and F-score are ill-defined and being set to 0.0 in labels with no predicted samples. Use `zero_division` parameter to control this behavior.\n",
      "  _warn_prf(average, modifier, msg_start, len(result))\n",
      "/home/nghiatl/anaconda3/envs/AI_DA/lib/python3.10/site-packages/sklearn/metrics/_classification.py:1318: UndefinedMetricWarning: Precision and F-score are ill-defined and being set to 0.0 in labels with no predicted samples. Use `zero_division` parameter to control this behavior.\n",
      "  _warn_prf(average, modifier, msg_start, len(result))\n",
      "/home/nghiatl/anaconda3/envs/AI_DA/lib/python3.10/site-packages/sklearn/metrics/_classification.py:1318: UndefinedMetricWarning: Precision and F-score are ill-defined and being set to 0.0 in labels with no predicted samples. Use `zero_division` parameter to control this behavior.\n",
      "  _warn_prf(average, modifier, msg_start, len(result))\n",
      "/home/nghiatl/anaconda3/envs/AI_DA/lib/python3.10/site-packages/sklearn/metrics/_classification.py:1318: UndefinedMetricWarning: Precision and F-score are ill-defined and being set to 0.0 in labels with no predicted samples. Use `zero_division` parameter to control this behavior.\n",
      "  _warn_prf(average, modifier, msg_start, len(result))\n",
      "/home/nghiatl/anaconda3/envs/AI_DA/lib/python3.10/site-packages/sklearn/metrics/_classification.py:1318: UndefinedMetricWarning: Precision and F-score are ill-defined and being set to 0.0 in labels with no predicted samples. Use `zero_division` parameter to control this behavior.\n",
      "  _warn_prf(average, modifier, msg_start, len(result))\n",
      "/home/nghiatl/anaconda3/envs/AI_DA/lib/python3.10/site-packages/sklearn/metrics/_classification.py:1318: UndefinedMetricWarning: Precision and F-score are ill-defined and being set to 0.0 in labels with no predicted samples. Use `zero_division` parameter to control this behavior.\n",
      "  _warn_prf(average, modifier, msg_start, len(result))\n"
     ]
    },
    {
     "name": "stdout",
     "output_type": "stream",
     "text": [
      "              precision    recall  f1-score   support\n",
      "\n",
      "         0.0       0.00      0.00      0.00       303\n",
      "         1.0       0.70      1.00      0.82       695\n",
      "\n",
      "    accuracy                           0.70       998\n",
      "   macro avg       0.35      0.50      0.41       998\n",
      "weighted avg       0.48      0.70      0.57       998\n",
      "\n",
      "[[  0 303]\n",
      " [  0 695]]\n",
      "Train acc 0.4107221976074435\n",
      "Train Loss: 0.6916\n",
      "Val Loss: 0.6920\n",
      "Val Acc: 0.4105\n",
      "Better ver saved\n",
      "Saving....my_checkpoint_incept_attention_seed_84_f1_1e-3_drop02.pth.tar\n",
      "INFO: Early stopping counter 3 of 5\n",
      "Epoch 4 of 30\n",
      "Epoch 4 Step 99 ave_loss 0.6884\n",
      "Epoch 4 Step 199 ave_loss 0.6943\n",
      "Epoch 4 Step 299 ave_loss 0.6940\n",
      "Epoch 4 Step 399 ave_loss 0.6897\n",
      "Epoch 4 Step 499 ave_loss 0.6904\n",
      "Epoch 4 Step 599 ave_loss 0.6901\n",
      "Epoch 4 Step 699 ave_loss 0.6863\n",
      "Epoch 4 Step 799 ave_loss 0.6907\n",
      "Epoch 4 Step 899 ave_loss 0.6856\n"
     ]
    },
    {
     "name": "stderr",
     "output_type": "stream",
     "text": [
      "/home/nghiatl/anaconda3/envs/AI_DA/lib/python3.10/site-packages/sklearn/metrics/_classification.py:1318: UndefinedMetricWarning: Precision and F-score are ill-defined and being set to 0.0 in labels with no predicted samples. Use `zero_division` parameter to control this behavior.\n",
      "  _warn_prf(average, modifier, msg_start, len(result))\n",
      "/home/nghiatl/anaconda3/envs/AI_DA/lib/python3.10/site-packages/sklearn/metrics/_classification.py:1318: UndefinedMetricWarning: Precision and F-score are ill-defined and being set to 0.0 in labels with no predicted samples. Use `zero_division` parameter to control this behavior.\n",
      "  _warn_prf(average, modifier, msg_start, len(result))\n",
      "/home/nghiatl/anaconda3/envs/AI_DA/lib/python3.10/site-packages/sklearn/metrics/_classification.py:1318: UndefinedMetricWarning: Precision and F-score are ill-defined and being set to 0.0 in labels with no predicted samples. Use `zero_division` parameter to control this behavior.\n",
      "  _warn_prf(average, modifier, msg_start, len(result))\n",
      "/home/nghiatl/anaconda3/envs/AI_DA/lib/python3.10/site-packages/sklearn/metrics/_classification.py:1318: UndefinedMetricWarning: Precision and F-score are ill-defined and being set to 0.0 in labels with no predicted samples. Use `zero_division` parameter to control this behavior.\n",
      "  _warn_prf(average, modifier, msg_start, len(result))\n",
      "/home/nghiatl/anaconda3/envs/AI_DA/lib/python3.10/site-packages/sklearn/metrics/_classification.py:1318: UndefinedMetricWarning: Precision and F-score are ill-defined and being set to 0.0 in labels with no predicted samples. Use `zero_division` parameter to control this behavior.\n",
      "  _warn_prf(average, modifier, msg_start, len(result))\n",
      "/home/nghiatl/anaconda3/envs/AI_DA/lib/python3.10/site-packages/sklearn/metrics/_classification.py:1318: UndefinedMetricWarning: Precision and F-score are ill-defined and being set to 0.0 in labels with no predicted samples. Use `zero_division` parameter to control this behavior.\n",
      "  _warn_prf(average, modifier, msg_start, len(result))\n"
     ]
    },
    {
     "name": "stdout",
     "output_type": "stream",
     "text": [
      "[[   0 2418]\n",
      " [   0 5562]]\n"
     ]
    },
    {
     "name": "stderr",
     "output_type": "stream",
     "text": [
      "/home/nghiatl/anaconda3/envs/AI_DA/lib/python3.10/site-packages/sklearn/metrics/_classification.py:1318: UndefinedMetricWarning: Precision and F-score are ill-defined and being set to 0.0 in labels with no predicted samples. Use `zero_division` parameter to control this behavior.\n",
      "  _warn_prf(average, modifier, msg_start, len(result))\n",
      "/home/nghiatl/anaconda3/envs/AI_DA/lib/python3.10/site-packages/sklearn/metrics/_classification.py:1318: UndefinedMetricWarning: Precision and F-score are ill-defined and being set to 0.0 in labels with no predicted samples. Use `zero_division` parameter to control this behavior.\n",
      "  _warn_prf(average, modifier, msg_start, len(result))\n",
      "/home/nghiatl/anaconda3/envs/AI_DA/lib/python3.10/site-packages/sklearn/metrics/_classification.py:1318: UndefinedMetricWarning: Precision and F-score are ill-defined and being set to 0.0 in labels with no predicted samples. Use `zero_division` parameter to control this behavior.\n",
      "  _warn_prf(average, modifier, msg_start, len(result))\n",
      "/home/nghiatl/anaconda3/envs/AI_DA/lib/python3.10/site-packages/sklearn/metrics/_classification.py:1318: UndefinedMetricWarning: Precision and F-score are ill-defined and being set to 0.0 in labels with no predicted samples. Use `zero_division` parameter to control this behavior.\n",
      "  _warn_prf(average, modifier, msg_start, len(result))\n",
      "/home/nghiatl/anaconda3/envs/AI_DA/lib/python3.10/site-packages/sklearn/metrics/_classification.py:1318: UndefinedMetricWarning: Precision and F-score are ill-defined and being set to 0.0 in labels with no predicted samples. Use `zero_division` parameter to control this behavior.\n",
      "  _warn_prf(average, modifier, msg_start, len(result))\n",
      "/home/nghiatl/anaconda3/envs/AI_DA/lib/python3.10/site-packages/sklearn/metrics/_classification.py:1318: UndefinedMetricWarning: Precision and F-score are ill-defined and being set to 0.0 in labels with no predicted samples. Use `zero_division` parameter to control this behavior.\n",
      "  _warn_prf(average, modifier, msg_start, len(result))\n"
     ]
    },
    {
     "name": "stdout",
     "output_type": "stream",
     "text": [
      "              precision    recall  f1-score   support\n",
      "\n",
      "         0.0       0.00      0.00      0.00       303\n",
      "         1.0       0.70      1.00      0.82       695\n",
      "\n",
      "    accuracy                           0.70       998\n",
      "   macro avg       0.35      0.50      0.41       998\n",
      "weighted avg       0.48      0.70      0.57       998\n",
      "\n",
      "[[  0 303]\n",
      " [  0 695]]\n",
      "Epoch 00005: reducing learning rate of group 0 to 1.0000e-05.\n",
      "Train acc 0.4107221976074435\n",
      "Train Loss: 0.6895\n",
      "Val Loss: 0.6810\n",
      "Val Acc: 0.4105\n",
      "Better ver saved\n",
      "Saving....my_checkpoint_incept_attention_seed_84_1e-3_drop02.pth.tar\n",
      "Better ver saved\n",
      "Saving....my_checkpoint_incept_attention_seed_84_f1_1e-3_drop02.pth.tar\n",
      "Epoch 5 of 30\n",
      "Epoch 5 Step 99 ave_loss 0.6842\n",
      "Epoch 5 Step 199 ave_loss 0.6831\n",
      "Epoch 5 Step 299 ave_loss 0.6811\n"
     ]
    }
   ],
   "source": [
    "from torch.optim import lr_scheduler\n",
    "\n",
    "train_loss_list=[]\n",
    "epoch_list=[]\n",
    "val_loss_list=[]\n",
    "val_f1_list=[]\n",
    "train_f1_list=[]\n",
    "\n",
    "\n",
    "#define model\n",
    "model.to(device)\n",
    "total_params = sum(p.numel() for p in model.parameters())\n",
    "print(f\"{total_params:,} total parameters.\")\n",
    "total_trainable_params = sum(p.numel() for p in model.parameters() if p.requires_grad)\n",
    "print(f\"{total_trainable_params:,} training parameters.\")\n",
    "# define hyper\n",
    "# grouped_params = [\n",
    "#     {\"params\": [p for n, p in roberta_params], \"lr\": 1e-5},\n",
    "#     # {\"params\": [p for n, p in classifier_params], \"lr\": 3e-3}\n",
    "# ]\n",
    "# optimizer = torch.optim.Adam([\n",
    "#         {'params': model.BERT.lstm.parameters()},  \n",
    "#         {'params': model.incept.flat.parameters()}, \n",
    "#         {'params': model.incept.avgpool.parameters()},  \n",
    "#         {'params': model.dense.parameters()},       \n",
    "#         {'params': model.cl.parameters()},       \n",
    "#         {'params': model.BERT.PhoBERT.parameters(), 'lr': 1e-5},\n",
    "#         {'params': model.incept.incept.parameters(), 'lr': 1e-5}\n",
    "#     ], lr=1e-3)\n",
    "optimizer = torch.optim.Adam(model.parameters(), lr=1e-3)\n",
    "#training\n",
    "# def training(model, optimizer):\n",
    "# define hyper\n",
    "criterion = nn.CrossEntropyLoss(weight=class_weights)\n",
    "# optimizer = torch.optim.SGD(model.parameters(), lr=0.001, momentum=0.9, weight_decay=5e-4)\n",
    "epochs = 30\n",
    "lr_scheduler = LRScheduler(optimizer)\n",
    "early_stopping = EarlyStopping()\n",
    "min_loss = np.Inf\n",
    "max_f1 = 0\n",
    "\n",
    "for epoch in range(epochs):\n",
    "  print(f\"Epoch {epoch} of {epochs}\")\n",
    "  train_epoch_loss, train_ac = fit(\n",
    "        model, dm, criterion, optimizer, epoch\n",
    "    )\n",
    "  val_epoch_loss, val_epoch_ac = validation(\n",
    "        model, dm, criterion\n",
    "    )\n",
    "\n",
    "  lr_scheduler(val_epoch_ac)\n",
    "\n",
    "  print('Train acc', train_ac)\n",
    "  print(f\"Train Loss: {train_epoch_loss:.4f}\")\n",
    "  print(f'Val Loss: {val_epoch_loss:.4f}')\n",
    "  print(f'Val Acc: {val_epoch_ac:.4f}')\n",
    "    \n",
    "  train_loss_list.append(train_epoch_loss)\n",
    "  train_f1_list.append(train_ac)\n",
    "  val_loss_list.append(val_epoch_loss)\n",
    "  val_f1_list.append(val_epoch_ac)\n",
    "  epoch_list.append(epoch)\n",
    "    \n",
    "  checkpoint ={'state_dict': model.state_dict(), 'optimizer': optimizer.state_dict(), 'epoch': epoch, 'loss':val_epoch_loss }\n",
    "  if (min_loss >= val_epoch_loss):\n",
    "      print('Better ver saved')\n",
    "      min_loss = val_epoch_loss\n",
    "      save_checkpoint(checkpoint)\n",
    "        \n",
    "  if (val_epoch_ac >= max_f1):\n",
    "      checkpoint ={'state_dict': model.state_dict(), 'optimizer': optimizer.state_dict(), 'epoch': epoch, 'loss': val_epoch_loss, \"f1\": val_epoch_ac}\n",
    "      print('Better ver saved')\n",
    "      max_f1 = val_epoch_ac\n",
    "      save_checkpoint1(checkpoint)\n",
    "    \n",
    "  early_stopping(val_epoch_loss)\n",
    "  if early_stopping.early_stop:\n",
    "      break\n",
    "\n",
    "testing(model, dm)"
   ]
  },
  {
   "cell_type": "code",
   "execution_count": 79,
   "metadata": {
    "id": "avdea5H8fkHR"
   },
   "outputs": [
    {
     "name": "stdout",
     "output_type": "stream",
     "text": [
      "cuda:1\n"
     ]
    }
   ],
   "source": [
    "# training(model, optimizer)\n",
    "print(next(model.parameters()).device)"
   ]
  },
  {
   "cell_type": "code",
   "execution_count": 89,
   "metadata": {},
   "outputs": [],
   "source": [
    "def show_graph(train_accu, eval_accu, epoch_list, type='F1'):\n",
    "    plt.plot(epoch_list,train_accu ,'-o')\n",
    "    plt.plot(epoch_list,eval_accu,'-o')\n",
    "    plt.xlabel('epoch')\n",
    "    plt.ylabel(type)\n",
    "    plt.legend(['Train','Valid'])\n",
    "    plt.title('Train vs Valid '+type)\n",
    "\n",
    "    plt.show()"
   ]
  },
  {
   "cell_type": "code",
   "execution_count": 90,
   "metadata": {},
   "outputs": [
    {
     "data": {
      "image/png": "[encoded data removed]",
      "text/plain": [
       "<Figure size 432x288 with 1 Axes>"
      ]
     },
     "metadata": {
      "needs_background": "light"
     },
     "output_type": "display_data"
    }
   ],
   "source": [
    "# freeze inception seed 25 1e-3 maxpool\n",
    "show_graph(train_f1_list, val_f1_list, epoch_list)"
   ]
  },
  {
   "cell_type": "code",
   "execution_count": 88,
   "metadata": {},
   "outputs": [
    {
     "data": {
      "image/png": "[encoded data removed]",
      "text/plain": [
       "<Figure size 432x288 with 1 Axes>"
      ]
     },
     "metadata": {
      "needs_background": "light"
     },
     "output_type": "display_data"
    }
   ],
   "source": [
    "# freeze inception seed 84 1e-3\n",
    "show_graph(train_f1_list, val_f1_list, epoch_list)"
   ]
  },
  {
   "cell_type": "code",
   "execution_count": 96,
   "metadata": {},
   "outputs": [
    {
     "data": {
      "image/png": "[encoded data removed]",
      "text/plain": [
       "<Figure size 432x288 with 1 Axes>"
      ]
     },
     "metadata": {
      "needs_background": "light"
     },
     "output_type": "display_data"
    }
   ],
   "source": [
    "# freeze inception seed 84\n",
    "show_graph(train_f1_list, val_f1_list, epoch_list)"
   ]
  },
  {
   "cell_type": "code",
   "execution_count": 88,
   "metadata": {},
   "outputs": [
    {
     "data": {
      "image/png": "[encoded data removed]",
      "text/plain": [
       "<Figure size 432x288 with 1 Axes>"
      ]
     },
     "metadata": {
      "needs_background": "light"
     },
     "output_type": "display_data"
    }
   ],
   "source": [
    "# freeze inception seed 25 1e-3\n",
    "show_graph(train_f1_list, val_f1_list, epoch_list)"
   ]
  },
  {
   "cell_type": "code",
   "execution_count": 85,
   "metadata": {},
   "outputs": [
    {
     "data": {
      "image/png": "[encoded data removed]",
      "text/plain": [
       "<Figure size 432x288 with 1 Axes>"
      ]
     },
     "metadata": {
      "needs_background": "light"
     },
     "output_type": "display_data"
    }
   ],
   "source": [
    "# freeze inception 66\n",
    "show_graph(train_f1_list, val_f1_list, epoch_list)"
   ]
  },
  {
   "cell_type": "code",
   "execution_count": 80,
   "metadata": {},
   "outputs": [
    {
     "data": {
      "image/png": "[encoded data removed]",
      "text/plain": [
       "<Figure size 432x288 with 1 Axes>"
      ]
     },
     "metadata": {
      "needs_background": "light"
     },
     "output_type": "display_data"
    }
   ],
   "source": [
    "# freeze inception\n",
    "show_graph(train_f1_list, val_f1_list, epoch_list)"
   ]
  },
  {
   "cell_type": "code",
   "execution_count": 84,
   "metadata": {},
   "outputs": [
    {
     "data": {
      "image/png": "[encoded data removed]",
      "text/plain": [
       "<Figure size 432x288 with 1 Axes>"
      ]
     },
     "metadata": {
      "needs_background": "light"
     },
     "output_type": "display_data"
    }
   ],
   "source": [
    "# freeze inception\n",
    "show_graph(train_f1_list, val_f1_list, epoch_list)"
   ]
  },
  {
   "cell_type": "code",
   "execution_count": 91,
   "metadata": {},
   "outputs": [
    {
     "data": {
      "image/png": "[encoded data removed]",
      "text/plain": [
       "<Figure size 432x288 with 1 Axes>"
      ]
     },
     "metadata": {
      "needs_background": "light"
     },
     "output_type": "display_data"
    }
   ],
   "source": [
    "# freeze inception seed 25 1e-3 maxpool\n",
    "show_graph(train_loss_list, val_loss_list, epoch_list, 'loss')"
   ]
  },
  {
   "cell_type": "code",
   "execution_count": 89,
   "metadata": {},
   "outputs": [
    {
     "data": {
      "image/png": "[encoded data removed]",
      "text/plain": [
       "<Figure size 432x288 with 1 Axes>"
      ]
     },
     "metadata": {
      "needs_background": "light"
     },
     "output_type": "display_data"
    }
   ],
   "source": [
    "# freeze inception seed 84 1e-3\n",
    "show_graph(train_loss_list, val_loss_list, epoch_list, 'loss')"
   ]
  },
  {
   "cell_type": "code",
   "execution_count": 97,
   "metadata": {},
   "outputs": [
    {
     "data": {
      "image/png": "[encoded data removed]",
      "text/plain": [
       "<Figure size 432x288 with 1 Axes>"
      ]
     },
     "metadata": {
      "needs_background": "light"
     },
     "output_type": "display_data"
    }
   ],
   "source": [
    "# freeze inception seed 84\n",
    "show_graph(train_loss_list, val_loss_list, epoch_list, 'loss')"
   ]
  },
  {
   "cell_type": "code",
   "execution_count": 89,
   "metadata": {},
   "outputs": [
    {
     "data": {
      "image/png": "[encoded data removed]",
      "text/plain": [
       "<Figure size 432x288 with 1 Axes>"
      ]
     },
     "metadata": {
      "needs_background": "light"
     },
     "output_type": "display_data"
    }
   ],
   "source": [
    "# freeze inception 25 1e-3\n",
    "show_graph(train_loss_list, val_loss_list, epoch_list, 'loss')"
   ]
  },
  {
   "cell_type": "code",
   "execution_count": 86,
   "metadata": {},
   "outputs": [
    {
     "data": {
      "image/png": "[encoded data removed]",
      "text/plain": [
       "<Figure size 432x288 with 1 Axes>"
      ]
     },
     "metadata": {
      "needs_background": "light"
     },
     "output_type": "display_data"
    }
   ],
   "source": [
    "# freeze inception 66\n",
    "show_graph(train_loss_list, val_loss_list, epoch_list, 'loss')"
   ]
  },
  {
   "cell_type": "code",
   "execution_count": 81,
   "metadata": {},
   "outputs": [
    {
     "data": {
      "image/png": "[encoded data removed]",
      "text/plain": [
       "<Figure size 432x288 with 1 Axes>"
      ]
     },
     "metadata": {
      "needs_background": "light"
     },
     "output_type": "display_data"
    }
   ],
   "source": [
    "# freeze inception\n",
    "show_graph(train_loss_list, val_loss_list, epoch_list, 'loss')"
   ]
  },
  {
   "cell_type": "code",
   "execution_count": 78,
   "metadata": {},
   "outputs": [
    {
     "data": {
      "text/html": [
       "\n",
       "      <iframe id=\"tensorboard-frame-8577eb1924770d3\" width=\"100%\" height=\"800\" frameborder=\"0\">\n",
       "      </iframe>\n",
       "      <script>\n",
       "        (function() {\n",
       "          const frame = document.getElementById(\"tensorboard-frame-8577eb1924770d3\");\n",
       "          const url = new URL(\"/\", window.location);\n",
       "          const port = 6006;\n",
       "          if (port) {\n",
       "            url.port = port;\n",
       "          }\n",
       "          frame.src = url;\n",
       "        })();\n",
       "      </script>\n",
       "    "
      ],
      "text/plain": [
       "<IPython.core.display.HTML object>"
      ]
     },
     "metadata": {},
     "output_type": "display_data"
    }
   ],
   "source": [
    "%load_ext tensorboard\n",
    "%tensorboard --logdir=runs"
   ]
  },
  {
   "cell_type": "code",
   "execution_count": 76,
   "metadata": {
    "colab": {
     "base_uri": "https://localhost:8080/"
    },
    "id": "NZWVPRfjiSU8",
    "outputId": "f79cb692-35f3-42c9-8832-f8e211302236"
   },
   "outputs": [
    {
     "name": "stdout",
     "output_type": "stream",
     "text": [
      "159,621,451 total parameters.\n",
      "788,611 training parameters.\n",
      "Epoch 0 of 10\n",
      "Epoch 0 Step 79 ave_loss 0.6103\n",
      "Epoch 0 Step 159 ave_loss 0.6434\n",
      "Epoch 0 Step 239 ave_loss 0.6054\n",
      "Epoch 0 Step 319 ave_loss 0.5624\n",
      "Epoch 0 Step 399 ave_loss 0.5728\n",
      "Epoch 0 Step 479 ave_loss 0.6950\n",
      "Epoch 0 Step 559 ave_loss 0.6405\n",
      "Epoch 0 Step 639 ave_loss 0.6236\n",
      "Epoch 0 Step 719 ave_loss 0.6085\n",
      "Epoch 0 Step 799 ave_loss 0.5860\n",
      "Epoch 0 Step 879 ave_loss 0.6133\n",
      "Epoch 0 Step 959 ave_loss 0.6295\n",
      "Epoch 0 Step 1039 ave_loss 0.5906\n",
      "[[1527  209  199]\n",
      " [  83 3772  550]\n",
      " [ 208 1035 1217]]\n",
      "Train acc 0.7404545454545455\n",
      "              precision    recall  f1-score   support\n",
      "\n",
      "         0.0       0.87      0.81      0.84       242\n",
      "         1.0       0.82      0.79      0.81       551\n",
      "         2.0       0.59      0.65      0.62       308\n",
      "\n",
      "    accuracy                           0.76      1101\n",
      "   macro avg       0.76      0.75      0.75      1101\n",
      "weighted avg       0.77      0.76      0.76      1101\n",
      "\n",
      "[[195  16  31]\n",
      " [  4 438 109]\n",
      " [ 26  81 201]]\n",
      "Train Loss: 0.6176\n",
      "Val Loss: 0.5953\n",
      "Val Acc: 0.7575\n",
      "Better ver saved\n",
      "Saving....my_checkpoint_multi_img_bt_8_mrTrong_af.pth.tar\n",
      "Epoch 1 of 10\n",
      "Epoch 1 Step 79 ave_loss 0.6438\n",
      "Epoch 1 Step 159 ave_loss 0.6021\n",
      "Epoch 1 Step 239 ave_loss 0.6490\n",
      "Epoch 1 Step 319 ave_loss 0.5659\n",
      "Epoch 1 Step 399 ave_loss 0.6289\n",
      "Epoch 1 Step 479 ave_loss 0.5826\n",
      "Epoch 1 Step 559 ave_loss 0.6227\n",
      "Epoch 1 Step 639 ave_loss 0.6257\n",
      "Epoch 1 Step 719 ave_loss 0.6102\n",
      "Epoch 1 Step 799 ave_loss 0.6560\n",
      "Epoch 1 Step 879 ave_loss 0.6113\n",
      "Epoch 1 Step 959 ave_loss 0.5917\n",
      "Epoch 1 Step 1039 ave_loss 0.5980\n",
      "[[1534  206  195]\n",
      " [  77 3771  557]\n",
      " [ 215 1007 1238]]\n",
      "Train acc 0.7435227272727273\n",
      "              precision    recall  f1-score   support\n",
      "\n",
      "         0.0       0.79      0.87      0.83       242\n",
      "         1.0       0.78      0.84      0.81       551\n",
      "         2.0       0.63      0.50      0.56       308\n",
      "\n",
      "    accuracy                           0.75      1101\n",
      "   macro avg       0.73      0.74      0.73      1101\n",
      "weighted avg       0.74      0.75      0.74      1101\n",
      "\n",
      "[[211  18  13]\n",
      " [ 12 462  77]\n",
      " [ 44 111 153]]\n",
      "INFO: Early stopping counter 1 of 5\n",
      "Train Loss: 0.6155\n",
      "Val Loss: 0.6006\n",
      "Val Acc: 0.7502\n",
      "Epoch 2 of 10\n",
      "Epoch 2 Step 79 ave_loss 0.6299\n",
      "Epoch 2 Step 159 ave_loss 0.5784\n",
      "Epoch 2 Step 239 ave_loss 0.6020\n",
      "Epoch 2 Step 319 ave_loss 0.6129\n",
      "Epoch 2 Step 399 ave_loss 0.5612\n",
      "Epoch 2 Step 479 ave_loss 0.5767\n",
      "Epoch 2 Step 559 ave_loss 0.6108\n",
      "Epoch 2 Step 639 ave_loss 0.5958\n",
      "Epoch 2 Step 719 ave_loss 0.6200\n",
      "Epoch 2 Step 799 ave_loss 0.6600\n",
      "Epoch 2 Step 879 ave_loss 0.5871\n",
      "Epoch 2 Step 959 ave_loss 0.6201\n",
      "Epoch 2 Step 1039 ave_loss 0.5900\n",
      "[[1541  190  204]\n",
      " [  78 3789  538]\n",
      " [ 219  958 1283]]\n",
      "Train acc 0.7514772727272727\n",
      "              precision    recall  f1-score   support\n",
      "\n",
      "         0.0       0.80      0.85      0.83       242\n",
      "         1.0       0.83      0.77      0.80       551\n",
      "         2.0       0.62      0.67      0.64       308\n",
      "\n",
      "    accuracy                           0.76      1101\n",
      "   macro avg       0.75      0.76      0.76      1101\n",
      "weighted avg       0.77      0.76      0.76      1101\n",
      "\n",
      "[[206  14  22]\n",
      " [ 20 424 107]\n",
      " [ 31  70 207]]\n",
      "INFO: Early stopping counter 2 of 5\n",
      "Train Loss: 0.6038\n",
      "Val Loss: 0.6233\n",
      "Val Acc: 0.7602\n",
      "Epoch 3 of 10\n",
      "Epoch 3 Step 79 ave_loss 0.5620\n",
      "Epoch 3 Step 159 ave_loss 0.5141\n",
      "Epoch 3 Step 239 ave_loss 0.6330\n",
      "Epoch 3 Step 319 ave_loss 0.5899\n",
      "Epoch 3 Step 399 ave_loss 0.6407\n",
      "Epoch 3 Step 479 ave_loss 0.5533\n",
      "Epoch 3 Step 559 ave_loss 0.5710\n",
      "Epoch 3 Step 639 ave_loss 0.5880\n",
      "Epoch 3 Step 719 ave_loss 0.6290\n",
      "Epoch 3 Step 799 ave_loss 0.6138\n",
      "Epoch 3 Step 879 ave_loss 0.5620\n",
      "Epoch 3 Step 959 ave_loss 0.5483\n",
      "Epoch 3 Step 1039 ave_loss 0.5937\n",
      "[[1552  189  194]\n",
      " [  75 3798  532]\n",
      " [ 197  935 1328]]\n",
      "Train acc 0.7588636363636364\n",
      "              precision    recall  f1-score   support\n",
      "\n",
      "         0.0       0.81      0.86      0.83       242\n",
      "         1.0       0.84      0.74      0.78       551\n",
      "         2.0       0.59      0.69      0.64       308\n",
      "\n",
      "    accuracy                           0.75      1101\n",
      "   macro avg       0.75      0.76      0.75      1101\n",
      "weighted avg       0.76      0.75      0.75      1101\n",
      "\n",
      "[[208  13  21]\n",
      " [ 19 405 127]\n",
      " [ 30  64 214]]\n",
      "INFO: Early stopping counter 3 of 5\n",
      "Train Loss: 0.5888\n",
      "Val Loss: 0.6307\n",
      "Val Acc: 0.7511\n",
      "Epoch 4 of 10\n",
      "Epoch 4 Step 79 ave_loss 0.5642\n",
      "Epoch 4 Step 159 ave_loss 0.5861\n",
      "Epoch 4 Step 239 ave_loss 0.5943\n",
      "Epoch 4 Step 319 ave_loss 0.5441\n",
      "Epoch 4 Step 399 ave_loss 0.5450\n",
      "Epoch 4 Step 479 ave_loss 0.5401\n",
      "Epoch 4 Step 559 ave_loss 0.5602\n",
      "Epoch 4 Step 639 ave_loss 0.5879\n",
      "Epoch 4 Step 719 ave_loss 0.6250\n",
      "Epoch 4 Step 799 ave_loss 0.6052\n",
      "Epoch 4 Step 879 ave_loss 0.5926\n",
      "Epoch 4 Step 959 ave_loss 0.6005\n",
      "Epoch 4 Step 1039 ave_loss 0.5603\n",
      "[[1585  158  192]\n",
      " [  70 3827  508]\n",
      " [ 195  927 1338]]\n",
      "Train acc 0.7670454545454546\n",
      "              precision    recall  f1-score   support\n",
      "\n",
      "         0.0       0.83      0.85      0.84       242\n",
      "         1.0       0.75      0.89      0.81       551\n",
      "         2.0       0.65      0.43      0.52       308\n",
      "\n",
      "    accuracy                           0.75      1101\n",
      "   macro avg       0.74      0.72      0.72      1101\n",
      "weighted avg       0.74      0.75      0.74      1101\n",
      "\n",
      "[[205  19  18]\n",
      " [  8 488  55]\n",
      " [ 33 142 133]]\n",
      "Epoch 00005: reducing learning rate of group 0 to 1.0000e-04.\n",
      "Epoch 00005: reducing learning rate of group 1 to 1.0000e-04.\n",
      "Epoch 00005: reducing learning rate of group 2 to 1.0000e-04.\n",
      "Epoch 00005: reducing learning rate of group 3 to 1.0000e-04.\n",
      "Epoch 00005: reducing learning rate of group 4 to 1.0000e-04.\n",
      "Epoch 00005: reducing learning rate of group 5 to 1.0000e-06.\n",
      "Epoch 00005: reducing learning rate of group 6 to 1.0000e-06.\n",
      "INFO: Early stopping counter 4 of 5\n",
      "Train Loss: 0.5762\n",
      "Val Loss: 0.6014\n",
      "Val Acc: 0.7502\n",
      "Epoch 5 of 10\n",
      "Epoch 5 Step 79 ave_loss 0.5268\n",
      "Epoch 5 Step 159 ave_loss 0.4770\n",
      "Epoch 5 Step 239 ave_loss 0.4931\n",
      "Epoch 5 Step 319 ave_loss 0.5689\n",
      "Epoch 5 Step 399 ave_loss 0.5075\n",
      "Epoch 5 Step 479 ave_loss 0.5384\n",
      "Epoch 5 Step 559 ave_loss 0.5497\n",
      "Epoch 5 Step 639 ave_loss 0.5393\n",
      "Epoch 5 Step 719 ave_loss 0.4720\n",
      "Epoch 5 Step 799 ave_loss 0.4583\n",
      "Epoch 5 Step 879 ave_loss 0.5129\n",
      "Epoch 5 Step 959 ave_loss 0.4838\n",
      "Epoch 5 Step 1039 ave_loss 0.5404\n",
      "[[1605  160  170]\n",
      " [  57 3910  438]\n",
      " [ 160  847 1453]]\n",
      "Train acc 0.7918181818181819\n",
      "              precision    recall  f1-score   support\n",
      "\n",
      "         0.0       0.86      0.83      0.84       242\n",
      "         1.0       0.78      0.84      0.81       551\n",
      "         2.0       0.61      0.53      0.57       308\n",
      "\n",
      "    accuracy                           0.75      1101\n",
      "   macro avg       0.75      0.74      0.74      1101\n",
      "weighted avg       0.75      0.75      0.75      1101\n",
      "\n",
      "[[201  19  22]\n",
      " [  5 465  81]\n",
      " [ 29 115 164]]\n",
      "Train Loss: 0.5141\n",
      "Val Loss: 0.5851\n",
      "Val Acc: 0.7539\n",
      "Better ver saved\n",
      "Saving....my_checkpoint_multi_img_bt_8_mrTrong_af.pth.tar\n",
      "Epoch 6 of 10\n",
      "Epoch 6 Step 79 ave_loss 0.5057\n",
      "Epoch 6 Step 159 ave_loss 0.4608\n",
      "Epoch 6 Step 239 ave_loss 0.4978\n",
      "Epoch 6 Step 319 ave_loss 0.5500\n",
      "Epoch 6 Step 399 ave_loss 0.4425\n",
      "Epoch 6 Step 479 ave_loss 0.4933\n",
      "Epoch 6 Step 559 ave_loss 0.4988\n",
      "Epoch 6 Step 639 ave_loss 0.5122\n",
      "Epoch 6 Step 719 ave_loss 0.5254\n",
      "Epoch 6 Step 799 ave_loss 0.5464\n",
      "Epoch 6 Step 879 ave_loss 0.4775\n",
      "Epoch 6 Step 959 ave_loss 0.4838\n",
      "Epoch 6 Step 1039 ave_loss 0.5112\n",
      "[[1595  171  169]\n",
      " [  47 3933  425]\n",
      " [ 154  820 1486]]\n",
      "Train acc 0.7970454545454545\n",
      "              precision    recall  f1-score   support\n",
      "\n",
      "         0.0       0.85      0.84      0.84       242\n",
      "         1.0       0.78      0.84      0.81       551\n",
      "         2.0       0.62      0.54      0.58       308\n",
      "\n",
      "    accuracy                           0.75      1101\n",
      "   macro avg       0.75      0.74      0.74      1101\n",
      "weighted avg       0.75      0.75      0.75      1101\n",
      "\n",
      "[[203  19  20]\n",
      " [  7 461  83]\n",
      " [ 29 112 167]]\n",
      "Epoch 00007: reducing learning rate of group 0 to 1.0000e-05.\n",
      "Epoch 00007: reducing learning rate of group 1 to 1.0000e-05.\n",
      "Epoch 00007: reducing learning rate of group 2 to 1.0000e-05.\n",
      "Epoch 00007: reducing learning rate of group 3 to 1.0000e-05.\n",
      "Epoch 00007: reducing learning rate of group 4 to 1.0000e-05.\n",
      "INFO: Early stopping counter 1 of 5\n",
      "Train Loss: 0.5019\n",
      "Val Loss: 0.5921\n",
      "Val Acc: 0.7548\n",
      "Epoch 7 of 10\n",
      "Epoch 7 Step 79 ave_loss 0.4879\n"
     ]
    },
    {
     "name": "stdout",
     "output_type": "stream",
     "text": [
      "Epoch 7 Step 159 ave_loss 0.5261\n",
      "Epoch 7 Step 239 ave_loss 0.4442\n",
      "Epoch 7 Step 319 ave_loss 0.4988\n",
      "Epoch 7 Step 399 ave_loss 0.5274\n",
      "Epoch 7 Step 479 ave_loss 0.4470\n",
      "Epoch 7 Step 559 ave_loss 0.4833\n",
      "Epoch 7 Step 639 ave_loss 0.4785\n",
      "Epoch 7 Step 719 ave_loss 0.5302\n",
      "Epoch 7 Step 799 ave_loss 0.5249\n",
      "Epoch 7 Step 879 ave_loss 0.5057\n",
      "Epoch 7 Step 959 ave_loss 0.4883\n",
      "Epoch 7 Step 1039 ave_loss 0.5043\n",
      "[[1595  166  174]\n",
      " [  38 3950  417]\n",
      " [ 133  816 1511]]\n",
      "Train acc 0.8018181818181818\n",
      "              precision    recall  f1-score   support\n",
      "\n",
      "         0.0       0.85      0.84      0.85       242\n",
      "         1.0       0.77      0.84      0.80       551\n",
      "         2.0       0.61      0.51      0.56       308\n",
      "\n",
      "    accuracy                           0.75      1101\n",
      "   macro avg       0.74      0.73      0.74      1101\n",
      "weighted avg       0.74      0.75      0.74      1101\n",
      "\n",
      "[[204  19  19]\n",
      " [  7 464  80]\n",
      " [ 29 121 158]]\n",
      "INFO: Early stopping counter 2 of 5\n",
      "Train Loss: 0.4928\n",
      "Val Loss: 0.5912\n",
      "Val Acc: 0.7502\n",
      "Epoch 8 of 10\n",
      "Epoch 8 Step 79 ave_loss 0.4964\n",
      "Epoch 8 Step 159 ave_loss 0.4806\n",
      "Epoch 8 Step 239 ave_loss 0.5190\n",
      "Epoch 8 Step 319 ave_loss 0.4891\n",
      "Epoch 8 Step 399 ave_loss 0.5033\n",
      "Epoch 8 Step 479 ave_loss 0.4670\n",
      "Epoch 8 Step 559 ave_loss 0.5159\n",
      "Epoch 8 Step 639 ave_loss 0.5037\n",
      "Epoch 8 Step 719 ave_loss 0.5015\n",
      "Epoch 8 Step 799 ave_loss 0.5088\n",
      "Epoch 8 Step 879 ave_loss 0.4557\n",
      "Epoch 8 Step 959 ave_loss 0.4756\n",
      "Epoch 8 Step 1039 ave_loss 0.4571\n",
      "[[1612  147  176]\n",
      " [  38 3945  422]\n",
      " [ 146  810 1504]]\n",
      "Train acc 0.8023863636363636\n",
      "              precision    recall  f1-score   support\n",
      "\n",
      "         0.0       0.84      0.84      0.84       242\n",
      "         1.0       0.77      0.83      0.80       551\n",
      "         2.0       0.62      0.53      0.57       308\n",
      "\n",
      "    accuracy                           0.75      1101\n",
      "   macro avg       0.74      0.74      0.74      1101\n",
      "weighted avg       0.74      0.75      0.75      1101\n",
      "\n",
      "[[204  19  19]\n",
      " [  8 460  83]\n",
      " [ 30 115 163]]\n",
      "Epoch 00009: reducing learning rate of group 0 to 1.0000e-06.\n",
      "Epoch 00009: reducing learning rate of group 1 to 1.0000e-06.\n",
      "Epoch 00009: reducing learning rate of group 2 to 1.0000e-06.\n",
      "Epoch 00009: reducing learning rate of group 3 to 1.0000e-06.\n",
      "Epoch 00009: reducing learning rate of group 4 to 1.0000e-06.\n",
      "INFO: Early stopping counter 3 of 5\n",
      "Train Loss: 0.4888\n",
      "Val Loss: 0.5910\n",
      "Val Acc: 0.7511\n",
      "Epoch 9 of 10\n",
      "Epoch 9 Step 79 ave_loss 0.4542\n",
      "Epoch 9 Step 159 ave_loss 0.5402\n",
      "Epoch 9 Step 239 ave_loss 0.5157\n",
      "Epoch 9 Step 319 ave_loss 0.4821\n",
      "Epoch 9 Step 399 ave_loss 0.4996\n",
      "Epoch 9 Step 479 ave_loss 0.4781\n",
      "Epoch 9 Step 559 ave_loss 0.4586\n",
      "Epoch 9 Step 639 ave_loss 0.4814\n",
      "Epoch 9 Step 719 ave_loss 0.4620\n",
      "Epoch 9 Step 799 ave_loss 0.4075\n",
      "Epoch 9 Step 879 ave_loss 0.5437\n",
      "Epoch 9 Step 959 ave_loss 0.4934\n",
      "Epoch 9 Step 1039 ave_loss 0.5139\n",
      "[[1608  160  167]\n",
      " [  50 3936  419]\n",
      " [ 147  787 1526]]\n",
      "Train acc 0.803409090909091\n",
      "              precision    recall  f1-score   support\n",
      "\n",
      "         0.0       0.85      0.84      0.85       242\n",
      "         1.0       0.78      0.84      0.81       551\n",
      "         2.0       0.63      0.53      0.58       308\n",
      "\n",
      "    accuracy                           0.76      1101\n",
      "   macro avg       0.75      0.74      0.74      1101\n",
      "weighted avg       0.75      0.76      0.75      1101\n",
      "\n",
      "[[204  19  19]\n",
      " [  7 465  79]\n",
      " [ 29 115 164]]\n",
      "INFO: Early stopping counter 4 of 5\n",
      "Train Loss: 0.4874\n",
      "Val Loss: 0.5902\n",
      "Val Acc: 0.7566\n",
      "test               precision    recall  f1-score   support\n",
      "\n",
      "         0.0       0.80      0.76      0.78       242\n",
      "         1.0       0.77      0.86      0.82       551\n",
      "         2.0       0.62      0.51      0.56       307\n",
      "\n",
      "    accuracy                           0.74      1100\n",
      "   macro avg       0.73      0.71      0.72      1100\n",
      "weighted avg       0.73      0.74      0.73      1100\n",
      "\n",
      "test_ac 0.740909090909091\n",
      "Confusion [[183  23  36]\n",
      " [ 14 476  61]\n",
      " [ 33 118 156]]\n",
      "Macro_f1 0.7158783597023671\n"
     ]
    }
   ],
   "source": [
    "epochs = 10\n",
    "model = freeze(model)\n",
    "total_params = sum(p.numel() for p in model.parameters())\n",
    "print(f\"{total_params:,} total parameters.\")\n",
    "total_trainable_params = sum(p.numel() for p in model.parameters() if p.requires_grad)\n",
    "print(f\"{total_trainable_params:,} training parameters.\")\n",
    "\n",
    "lr_scheduler = LRScheduler(optimizer)\n",
    "early_stopping = EarlyStopping()\n",
    "early_stopping(checkpoint['loss'])\n",
    "criterion = nn.CrossEntropyLoss()\n",
    "min_loss = checkpoint['loss']\n",
    "\n",
    "\n",
    "for epoch in range(epochs):\n",
    "  print(f\"Epoch {epoch} of {epochs}\")\n",
    "  train_epoch_loss = fit(\n",
    "        model, dm, criterion, optimizer, epoch\n",
    "    )\n",
    "  val_epoch_loss, val_epoch_ac = validation(\n",
    "        model, dm, criterion\n",
    "    )\n",
    "  writer.flush()\n",
    "  lr_scheduler(val_epoch_ac)\n",
    "\n",
    "  early_stopping(val_epoch_loss)\n",
    "  if early_stopping.early_stop:\n",
    "      break\n",
    "  print(f\"Train Loss: {train_epoch_loss:.4f}\")\n",
    "  print(f'Val Loss: {val_epoch_loss:.4f}')\n",
    "  print(f'Val Acc: {val_epoch_ac:.4f}')\n",
    "\n",
    "  checkpoint ={'state_dict': model.state_dict(), 'optimizer': optimizer.state_dict(), 'epoch': epoch, 'loss':val_epoch_loss }\n",
    "  if (min_loss >= val_epoch_loss):\n",
    "      print('Better ver saved')\n",
    "      min_loss = val_epoch_loss\n",
    "      save_checkpoint(checkpoint)\n",
    "\n",
    "testing(model, dm)"
   ]
  },
  {
   "cell_type": "code",
   "execution_count": 92,
   "metadata": {},
   "outputs": [
    {
     "data": {
      "text/plain": [
       "6607"
      ]
     },
     "execution_count": 92,
     "metadata": {},
     "output_type": "execute_result"
    }
   ],
   "source": [
    "import gc\n",
    "del model \n",
    "gc.collect()"
   ]
  },
  {
   "cell_type": "code",
   "execution_count": 97,
   "metadata": {},
   "outputs": [],
   "source": [
    "torch.cuda.empty_cache()"
   ]
  },
  {
   "cell_type": "code",
   "execution_count": 77,
   "metadata": {
    "colab": {
     "base_uri": "https://localhost:8080/"
    },
    "id": "KZ1CVGaDdnXX",
    "outputId": "2be27769-a799-40e1-9bf7-a3524561c637"
   },
   "outputs": [
    {
     "name": "stderr",
     "output_type": "stream",
     "text": [
      "Some weights of the model checkpoint at vinai/phobert-base were not used when initializing RobertaModel: ['lm_head.dense.bias', 'lm_head.layer_norm.bias', 'lm_head.decoder.weight', 'lm_head.dense.weight', 'lm_head.layer_norm.weight', 'lm_head.bias', 'lm_head.decoder.bias']\n",
      "- This IS expected if you are initializing RobertaModel from the checkpoint of a model trained on another task or with another architecture (e.g. initializing a BertForSequenceClassification model from a BertForPreTraining model).\n",
      "- This IS NOT expected if you are initializing RobertaModel from the checkpoint of a model that you expect to be exactly identical (initializing a BertForSequenceClassification model from a BertForSequenceClassification model).\n"
     ]
    },
    {
     "name": "stdout",
     "output_type": "stream",
     "text": [
      "3\n"
     ]
    }
   ],
   "source": [
    "PATH = \"my_checkpoint_attention_seed_84_1e-3.pth.tar\"\n",
    "checkpoint = torch.load(PATH, map_location=device)\n",
    "model = Concatmodal()\n",
    "model.load_state_dict(checkpoint['state_dict'])\n",
    "model.to(device)\n",
    "print(checkpoint['epoch'])"
   ]
  },
  {
   "cell_type": "code",
   "execution_count": 97,
   "metadata": {},
   "outputs": [
    {
     "name": "stdout",
     "output_type": "stream",
     "text": [
      "test               precision    recall  f1-score   support\n",
      "\n",
      "         0.0       0.93      0.89      0.91       302\n",
      "         1.0       0.95      0.97      0.96       695\n",
      "\n",
      "    accuracy                           0.95       997\n",
      "   macro avg       0.94      0.93      0.94       997\n",
      "weighted avg       0.95      0.95      0.95       997\n",
      "\n",
      "test_ac 0.9488465396188566\n",
      "Confusion [[270  32]\n",
      " [ 19 676]]\n",
      "Macro_f1 0.9386774533179445\n"
     ]
    }
   ],
   "source": [
    "#f1\n",
    "testing(model, dm)"
   ]
  },
  {
   "cell_type": "code",
   "execution_count": 78,
   "metadata": {},
   "outputs": [
    {
     "name": "stdout",
     "output_type": "stream",
     "text": [
      "test               precision    recall  f1-score   support\n",
      "\n",
      "         0.0       0.90      0.92      0.91       302\n",
      "         1.0       0.96      0.96      0.96       695\n",
      "\n",
      "    accuracy                           0.94       997\n",
      "   macro avg       0.93      0.94      0.93       997\n",
      "weighted avg       0.94      0.94      0.94       997\n",
      "\n",
      "test_ac 0.9438314944834504\n",
      "Confusion [[277  25]\n",
      " [ 31 664]]\n",
      "Macro_f1 0.9338671467829053\n"
     ]
    }
   ],
   "source": [
    "#valloss\n",
    "testing(model, dm)"
   ]
  },
  {
   "cell_type": "code",
   "execution_count": 75,
   "metadata": {
    "id": "oegFhN6sJeRV"
   },
   "outputs": [],
   "source": [
    "optimizer = torch.optim.Adam([\n",
    "        {'params': model.BERT.lstm.parameters()},  \n",
    "        {'params': model.incept.flat.parameters()}, \n",
    "        {'params': model.incept.avgpool.parameters()},  \n",
    "        {'params': model.dense.parameters()},       \n",
    "        {'params': model.cl.parameters()},       \n",
    "        {'params': model.BERT.PhoBERT.parameters(), 'lr': 1e-5},\n",
    "        {'params': model.incept.incept.parameters(), 'lr': 1e-5}\n",
    "    ], lr=1e-3)\n",
    "optimizer.load_state_dict(checkpoint['optimizer'])"
   ]
  },
  {
   "cell_type": "code",
   "execution_count": null,
   "metadata": {
    "id": "R1VyLADEpnFs"
   },
   "outputs": [],
   "source": [
    "import cv2\n",
    "def plot(model):\n",
    "  model.eval()\n",
    "  test_preds = torch.tensor([], device=device)\n",
    "  test_labels = torch.tensor([], device = device)\n",
    "  test_text = []\n",
    "  test_img = []\n",
    "\n",
    "  soft_m = nn.Softmax(dim=-1)\n",
    "  with torch.no_grad():\n",
    "    for i, (texts, images, labels) in enumerate(dm.test_dataloader()):\n",
    "        labels = labels.to(device)\n",
    "\n",
    "        outputs = model(images, texts)\n",
    "\n",
    "        output_scores = soft_m(outputs)\n",
    "        predictions = torch.argmax(output_scores, dim=-1)\n",
    "\n",
    "        test_preds = torch.cat((test_preds, predictions), dim=0)\n",
    "        test_labels = torch.cat((test_labels, labels), dim=0)\n",
    "        for t in texts:\n",
    "          test_text.append(t) \n",
    "        for i in images:\n",
    "          test_img.append(i) \n",
    "\n",
    "    \n",
    "    test_preds = test_preds.cpu().numpy()\n",
    "    test_labels = test_labels.cpu().numpy()\n",
    "  i = 1\n",
    "  plt.figure(figsize=(40,40))\n",
    "  print(len(test_labels))\n",
    "  for image, actual_label, label, text in zip(test_img, test_labels, test_preds, test_text):\n",
    "\n",
    "      if (actual_label == label):\n",
    "\n",
    "        plt.subplot(4,4,i)\n",
    "        i+=1\n",
    "        # image = cv2.cvtColor(image, cv2.COLOR_BGR2RGB)\n",
    "        # image = cv2.cvtColor(image, cv2.COLOR_BGR2GRAY)\n",
    "        image = T.ToPILImage()(image).convert(\"RGB\")\n",
    "        plt.imshow(image)\n",
    "        plt.axis('off')\n",
    "        plt.title(\"Text: {}...\\n Actual: {}\\n Predicted: {}\".format(text[:30], actual_label, label))\n",
    "        # plt.xlabel(text)\n",
    "      else:\n",
    "        pass\n",
    "      if (i==17):\n",
    "        break;\n",
    "  plt.savefig('res_freeze_af20epoch.png', bbox_inches='tight')\n",
    "  plt.show()\n",
    "  \n",
    "\n",
    "plot(model)\n"
   ]
  },
  {
   "cell_type": "code",
   "execution_count": 98,
   "metadata": {},
   "outputs": [],
   "source": [
    "torch.cuda.empty_cache()"
   ]
  },
  {
   "cell_type": "code",
   "execution_count": 96,
   "metadata": {},
   "outputs": [
    {
     "name": "stdout",
     "output_type": "stream",
     "text": [
      "Fri Apr 22 09:11:15 2022       \n",
      "+-----------------------------------------------------------------------------+\n",
      "| NVIDIA-SMI 465.19.01    Driver Version: 465.19.01    CUDA Version: 11.3     |\n",
      "|-------------------------------+----------------------+----------------------+\n",
      "| GPU  Name        Persistence-M| Bus-Id        Disp.A | Volatile Uncorr. ECC |\n",
      "| Fan  Temp  Perf  Pwr:Usage/Cap|         Memory-Usage | GPU-Util  Compute M. |\n",
      "|                               |                      |               MIG M. |\n",
      "|===============================+======================+======================|\n",
      "|   0  NVIDIA GeForce ...  Off  | 00000000:5E:00.0 Off |                  N/A |\n",
      "| 66%   74C    P2   198W / 250W |  10884MiB / 11019MiB |     81%      Default |\n",
      "|                               |                      |                  N/A |\n",
      "+-------------------------------+----------------------+----------------------+\n",
      "|   1  NVIDIA GeForce ...  Off  | 00000000:86:00.0 Off |                  N/A |\n",
      "| 57%   65C    P2   186W / 250W |   8499MiB / 11019MiB |     79%      Default |\n",
      "|                               |                      |                  N/A |\n",
      "+-------------------------------+----------------------+----------------------+\n",
      "                                                                               \n",
      "+-----------------------------------------------------------------------------+\n",
      "| Processes:                                                                  |\n",
      "|  GPU   GI   CI        PID   Type   Process name                  GPU Memory |\n",
      "|        ID   ID                                                   Usage      |\n",
      "|=============================================================================|\n",
      "|    0   N/A  N/A   3491022      C   ...da3/envs/AI_DA/bin/python     3293MiB |\n",
      "|    0   N/A  N/A   3491707      C   python3                          4367MiB |\n",
      "|    0   N/A  N/A   3544540      C   ...da3/envs/AI_DA/bin/python     3221MiB |\n",
      "|    1   N/A  N/A    429695      C   python                           3493MiB |\n",
      "|    1   N/A  N/A   3481015      C   python3                          5003MiB |\n",
      "+-----------------------------------------------------------------------------+\n"
     ]
    }
   ],
   "source": [
    "!nvidia-smi"
   ]
  },
  {
   "cell_type": "markdown",
   "metadata": {
    "id": "hBUVnSf-_ht0"
   },
   "source": [
    "# Multimodal"
   ]
  },
  {
   "cell_type": "code",
   "execution_count": null,
   "metadata": {
    "id": "8dlaSCOAxb0i"
   },
   "outputs": [],
   "source": [
    "from sklearn.metrics import roc_auc_score, classification_report, accuracy_score\n",
    "\n",
    "class Multimodal(pl.LightningModule):\n",
    "  def __init__(self, lr_multi, lr_classifier):\n",
    "    super(Multimodal,self).__init__()\n",
    "    self.loss_module = nn.CrossEntropyLoss()\n",
    "    self.BERT = Bert_Lstm()\n",
    "    self.incept = Inception()\n",
    "    self.dense = nn.Linear(256,256)\n",
    "    self.cl = nn.Linear(256,3)\n",
    "    self.bpe_path = \"/content/drive/MyDrive/NLP/PhoBERT_base_transformers/bpe.codes\"\n",
    "    self.vocab_path = \"/content/drive/MyDrive/NLP/PhoBERT_base_transformers/dict.txt\"\n",
    "    self.lr_multi = lr_multi\n",
    "    self.lr_classifier = lr_classifier\n",
    "\n",
    "    # self.model = self._build_model()\n",
    "    # self.trainer_params = self._get_trainer_params()\n",
    "\n",
    "  def forward(self, image, texts, labels=None):\n",
    "    inputs = tokenize_data(texts, self.vocab_path, self.bpe_path)\n",
    "    # b_labels = None\n",
    "    # b_labels = labels.to(self.device)\n",
    "\n",
    "    for key in inputs:\n",
    "        inputs[key] = inputs[key].to(self.device)\n",
    "    image = image.to(self.device)\n",
    "\n",
    "    fea1 = self.BERT(inputs)\n",
    "    fea2 = self.incept(image)\n",
    "    cat = torch.cat((fea1, fea2), 1)\n",
    "    out = self.cl(cat)\n",
    "\n",
    "    return out\n",
    "  \n",
    "  def configure_optimizers(self):\n",
    "    roberta_params = self.BERT.parameters()\n",
    "    inception_params = self.incept.parameters()\n",
    "    dense_params = self.dense.parameters()\n",
    "    classifier_params = self.cl.parameters()\n",
    "\n",
    "    # for n,p in classifier_params:\n",
    "    #   print(n,p)\n",
    "\n",
    "    # grouped_params = [\n",
    "    #     {\"params\": roberta_params, \"lr\": self.lr_multi},\n",
    "    #     {\"params\": inception_params, \"lr\": self.lr_multi},\n",
    "    #     {\"params\": dense_params, \"lr\": self.lr_multi},\n",
    "    #     {\"params\": classifier_params, \"lr\": self.lr_classifier}\n",
    "    # ]\n",
    "    # optimizer = torch.optim.AdamW(\n",
    "    #     grouped_params\n",
    "    # )\n",
    "    optimizer = torch.optim.AdamW(\n",
    "              self.parameters(), \n",
    "              lr = 0.001\n",
    "          )\n",
    "\n",
    "    scheduler = torch.optim.lr_scheduler.StepLR(optimizer, step_size=1000, gamma=0.98)\n",
    "  \n",
    "\n",
    "\n",
    "  def training_step(self, batch, batch_idx):\n",
    "    texts, images, labels = batch\n",
    "    preds = self(images, texts, labels)\n",
    "    labels = labels.to(self.device)\n",
    "\n",
    "    loss = self.loss_module(preds, labels)\n",
    "\n",
    "    return loss\n",
    "  \n",
    "  def validation_step(self, batch, batch_idx):\n",
    "    texts, images, labels = batch\n",
    "    logits = self(images, texts, labels)\n",
    "\n",
    "    loss = self.loss_module(logits, labels)\n",
    "    output_scores = torch.softmax(logits, dim=-1)\n",
    "\n",
    "    return loss, output_scores, labels\n",
    "\n",
    "  def validation_epoch_end(self, validation_step_outputs):\n",
    "    val_preds = torch.tensor([], device=self.device)\n",
    "    val_scores = torch.tensor([], device=self.device)\n",
    "    val_labels = torch.tensor([], device=self.device)\n",
    "    val_loss = 0\n",
    "    total_item = 0\n",
    "\n",
    "    for idx, item in enumerate(validation_step_outputs):\n",
    "        loss, output_scores, labels = item\n",
    "\n",
    "        predictions = torch.argmax(output_scores, dim=-1)\n",
    "        val_preds = torch.cat((val_preds, predictions), dim=0)\n",
    "        val_scores = torch.cat((val_scores, output_scores[:, 1]), dim=0)\n",
    "        val_labels = torch.cat((val_labels, labels), dim=0)\n",
    "\n",
    "        val_loss += loss\n",
    "        total_item += 1\n",
    "\n",
    "    # print(\"VAL PREDS\", val_preds.shape)\n",
    "    # print(\"VAL SCORES\", val_scores.shape)\n",
    "    # print(\"VAL LABELS\", val_labels.shape)\n",
    "    val_preds = val_preds.cpu().numpy()\n",
    "    val_scores = val_scores.cpu().numpy()\n",
    "    val_labels = val_labels.cpu().numpy()\n",
    "\n",
    "    # reports = classification_report(val_labels, val_preds, output_dict=True)\n",
    "    print(\"VAL PREDS\", val_preds)\n",
    "    print(\"VAL LABELS\", val_labels)\n",
    "    print(\"VAL SCORES\", val_scores)\n",
    "    # try:\n",
    "    #     auc = roc_auc_score(val_labels, val_scores)\n",
    "    # except Exception as e:\n",
    "    #     print(e)\n",
    "    #     print(\"Cannot calculate AUC. Default to 0\")\n",
    "    #     auc = 0\n",
    "    accuracy = accuracy_score(val_labels, val_preds)\n",
    "\n",
    "    print(classification_report(val_labels, val_preds))\n",
    "\n",
    "    self.log(\"loss/val\", val_loss)\n",
    "    # self.log(\"auc/val\", auc)\n",
    "    self.log(\"accuracy/val\", accuracy)\n",
    "    # self.log(\"precision/val\", reports[\"weighted avg\"][\"precision\"])\n",
    "    # self.log(\"recall/val\", reports[\"weighted avg\"][\"recall\"])\n",
    "    # self.log(\"f1/val\", reports[\"weighted avg\"][\"f1-score\"])\n",
    "\n",
    "\n"
   ]
  },
  {
   "cell_type": "code",
   "execution_count": null,
   "metadata": {
    "id": "E1RPu7-B7wWu"
   },
   "outputs": [],
   "source": [
    "# trainer = pl.Trainer(\n",
    "#     fast_dev_run=True,\n",
    "# )\n",
    "# multi = Multimodal(lr_multi=1e-5, lr_classifier=3e-3)\n",
    "# dm = SentimentDataModule(data_df)\n",
    "# trainer.fit(multi, dm)\n"
   ]
  },
  {
   "cell_type": "code",
   "execution_count": null,
   "metadata": {
    "colab": {
     "base_uri": "https://localhost:8080/",
     "height": 1000,
     "referenced_widgets": [
      "a93f05a257d5421eb2c72efcdac8fcd3",
      "16559060dd074447bf5e27134b4870ae",
      "8d8bf547e78f461da79bb4e3e8449335",
      "2d90f769f9a748899fd536bc215e0902",
      "83e93a1ba3f24f96ac5ea9107e160a9e",
      "664ccebe5b894806a2c84d633e107f38",
      "81d26020a9784869b593de58ca922404",
      "2132d76e642e4cbaaabf71e032d0fb8b",
      "1f0e5ebe496b45ec97082f2bb666a82e",
      "02eca356512546b1954a563bc988d6b5",
      "7939b8ff88a940028fb77f2bd715db87",
      "9aad7677f25b4c85abc0e6edb7b9212d",
      "fff7e36afcae4a3a81e5b40705c21519",
      "e47ffdaa9228458182c11c9ba945e33d",
      "c4c4bae04bad46dea96a97dc5a7d8d0d",
      "460e2a8033f04d4fbd9109254d2dfb73",
      "f7947613432143f98f2f714598d25dfd",
      "bb16f7ad93f34d12babc320869e1413b",
      "ba20e1bc66e94c829e2a46dd5d6a3483",
      "31d14a5ec28640d8acf64959fb4a5aa8",
      "b860941628094b5c8720672f5ebb3f3d",
      "93b193607ebd4e758cfc04a19b9dd2d6"
     ]
    },
    "id": "f9_mXDl3znZO",
    "outputId": "0605ceaf-c20f-4bfd-e5cc-d55755bf15e0"
   },
   "outputs": [
    {
     "name": "stderr",
     "output_type": "stream",
     "text": [
      "Using 16bit native Automatic Mixed Precision (AMP)\n",
      "GPU available: True, used: True\n",
      "TPU available: False, using: 0 TPU cores\n",
      "IPU available: False, using: 0 IPUs\n",
      "/usr/local/lib/python3.7/dist-packages/pytorch_lightning/core/datamodule.py:470: LightningDeprecationWarning: DataModule.setup has already been called, so it will not be called again. In v1.6 this behavior will change to always call DataModule.setup.\n",
      "  f\"DataModule.{name} has already been called, so it will not be called again. \"\n",
      "LOCAL_RANK: 0 - CUDA_VISIBLE_DEVICES: [0]\n",
      "/usr/local/lib/python3.7/dist-packages/pytorch_lightning/trainer/optimizers.py:39: UserWarning: `LightningModule.configure_optimizers` returned `None`, this fit will run with no optimizer\n",
      "  UserWarning,\n",
      "Missing logger folder: /content/drive/MyDrive/Colab Notebooks/Multimodal/tb_logs/default\n",
      "\n",
      "  | Name        | Type             | Params\n",
      "-------------------------------------------------\n",
      "0 | loss_module | CrossEntropyLoss | 0     \n",
      "1 | BERT        | Bert_Lstm        | 135 M \n",
      "2 | incept      | Inception        | 24.1 M\n",
      "3 | dense       | Linear           | 65.8 K\n",
      "4 | cl          | Linear           | 771   \n",
      "-------------------------------------------------\n",
      "159 M     Trainable params\n",
      "0         Non-trainable params\n",
      "159 M     Total params\n",
      "319.243   Total estimated model params size (MB)\n"
     ]
    },
    {
     "data": {
      "application/vnd.jupyter.widget-view+json": {
       "model_id": "a93f05a257d5421eb2c72efcdac8fcd3",
       "version_major": 2,
       "version_minor": 0
      },
      "text/plain": [
       "Validation sanity check: 0it [00:00, ?it/s]"
      ]
     },
     "metadata": {},
     "output_type": "display_data"
    },
    {
     "name": "stdout",
     "output_type": "stream",
     "text": [
      "VAL PREDS [2. 2. 2. 2. 2. 2. 2. 2. 2. 2. 1. 2. 2. 2. 2. 2. 2. 0. 2. 2. 2. 2. 2. 2.\n",
      " 2. 2. 2. 1. 2. 2. 2. 2.]\n",
      "VAL LABELS [1. 2. 0. 0. 2. 2. 2. 2. 0. 2. 1. 0. 1. 1. 1. 1. 0. 2. 2. 1. 2. 1. 1. 2.\n",
      " 1. 2. 2. 2. 1. 2. 0. 1.]\n",
      "VAL SCORES [0.2503872  0.25511816 0.33502465 0.233994   0.2737939  0.30235466\n",
      " 0.30597535 0.28478307 0.34449401 0.28433585 0.3386114  0.24622746\n",
      " 0.2953767  0.28849763 0.32898384 0.27177638 0.2833459  0.30263612\n",
      " 0.31047884 0.24584286 0.32877764 0.25412712 0.20685947 0.29209316\n",
      " 0.30371505 0.292875   0.31025544 0.36505568 0.30896547 0.29549003\n",
      " 0.30231565 0.30986333]\n",
      "              precision    recall  f1-score   support\n",
      "\n",
      "         0.0       0.00      0.00      0.00         6\n",
      "         1.0       0.50      0.08      0.14        12\n",
      "         2.0       0.41      0.86      0.56        14\n",
      "\n",
      "    accuracy                           0.41        32\n",
      "   macro avg       0.30      0.31      0.23        32\n",
      "weighted avg       0.37      0.41      0.30        32\n",
      "\n"
     ]
    },
    {
     "data": {
      "application/vnd.jupyter.widget-view+json": {
       "model_id": "9aad7677f25b4c85abc0e6edb7b9212d",
       "version_major": 2,
       "version_minor": 0
      },
      "text/plain": [
       "Training: 0it [00:00, ?it/s]"
      ]
     },
     "metadata": {},
     "output_type": "display_data"
    },
    {
     "ename": "AssertionError",
     "evalue": "ignored",
     "output_type": "error",
     "traceback": [
      "\u001b[0;31m---------------------------------------------------------------------------\u001b[0m",
      "\u001b[0;31mAssertionError\u001b[0m                            Traceback (most recent call last)",
      "\u001b[0;32m<ipython-input-48-a151cafc1a4d>\u001b[0m in \u001b[0;36m<module>\u001b[0;34m()\u001b[0m\n\u001b[1;32m     26\u001b[0m \u001b[0;34m\u001b[0m\u001b[0m\n\u001b[1;32m     27\u001b[0m \u001b[0mdm\u001b[0m\u001b[0;34m.\u001b[0m\u001b[0msetup\u001b[0m\u001b[0;34m(\u001b[0m\u001b[0mstage\u001b[0m\u001b[0;34m=\u001b[0m\u001b[0;34m\"fit\"\u001b[0m\u001b[0;34m)\u001b[0m\u001b[0;34m\u001b[0m\u001b[0;34m\u001b[0m\u001b[0m\n\u001b[0;32m---> 28\u001b[0;31m \u001b[0mtrainer\u001b[0m\u001b[0;34m.\u001b[0m\u001b[0mfit\u001b[0m\u001b[0;34m(\u001b[0m\u001b[0mmulti\u001b[0m\u001b[0;34m,\u001b[0m \u001b[0mdm\u001b[0m\u001b[0;34m)\u001b[0m\u001b[0;34m\u001b[0m\u001b[0;34m\u001b[0m\u001b[0m\n\u001b[0m",
      "\u001b[0;32m/usr/local/lib/python3.7/dist-packages/pytorch_lightning/trainer/trainer.py\u001b[0m in \u001b[0;36mfit\u001b[0;34m(self, model, train_dataloaders, val_dataloaders, datamodule, train_dataloader, ckpt_path)\u001b[0m\n\u001b[1;32m    737\u001b[0m             \u001b[0mtrain_dataloaders\u001b[0m \u001b[0;34m=\u001b[0m \u001b[0mtrain_dataloader\u001b[0m\u001b[0;34m\u001b[0m\u001b[0;34m\u001b[0m\u001b[0m\n\u001b[1;32m    738\u001b[0m         self._call_and_handle_interrupt(\n\u001b[0;32m--> 739\u001b[0;31m             \u001b[0mself\u001b[0m\u001b[0;34m.\u001b[0m\u001b[0m_fit_impl\u001b[0m\u001b[0;34m,\u001b[0m \u001b[0mmodel\u001b[0m\u001b[0;34m,\u001b[0m \u001b[0mtrain_dataloaders\u001b[0m\u001b[0;34m,\u001b[0m \u001b[0mval_dataloaders\u001b[0m\u001b[0;34m,\u001b[0m \u001b[0mdatamodule\u001b[0m\u001b[0;34m,\u001b[0m \u001b[0mckpt_path\u001b[0m\u001b[0;34m\u001b[0m\u001b[0;34m\u001b[0m\u001b[0m\n\u001b[0m\u001b[1;32m    740\u001b[0m         )\n\u001b[1;32m    741\u001b[0m \u001b[0;34m\u001b[0m\u001b[0m\n",
      "\u001b[0;32m/usr/local/lib/python3.7/dist-packages/pytorch_lightning/trainer/trainer.py\u001b[0m in \u001b[0;36m_call_and_handle_interrupt\u001b[0;34m(self, trainer_fn, *args, **kwargs)\u001b[0m\n\u001b[1;32m    681\u001b[0m         \"\"\"\n\u001b[1;32m    682\u001b[0m         \u001b[0;32mtry\u001b[0m\u001b[0;34m:\u001b[0m\u001b[0;34m\u001b[0m\u001b[0;34m\u001b[0m\u001b[0m\n\u001b[0;32m--> 683\u001b[0;31m             \u001b[0;32mreturn\u001b[0m \u001b[0mtrainer_fn\u001b[0m\u001b[0;34m(\u001b[0m\u001b[0;34m*\u001b[0m\u001b[0margs\u001b[0m\u001b[0;34m,\u001b[0m \u001b[0;34m**\u001b[0m\u001b[0mkwargs\u001b[0m\u001b[0;34m)\u001b[0m\u001b[0;34m\u001b[0m\u001b[0;34m\u001b[0m\u001b[0m\n\u001b[0m\u001b[1;32m    684\u001b[0m         \u001b[0;31m# TODO: treat KeyboardInterrupt as BaseException (delete the code below) in v1.7\u001b[0m\u001b[0;34m\u001b[0m\u001b[0;34m\u001b[0m\u001b[0;34m\u001b[0m\u001b[0m\n\u001b[1;32m    685\u001b[0m         \u001b[0;32mexcept\u001b[0m \u001b[0mKeyboardInterrupt\u001b[0m \u001b[0;32mas\u001b[0m \u001b[0mexception\u001b[0m\u001b[0;34m:\u001b[0m\u001b[0;34m\u001b[0m\u001b[0;34m\u001b[0m\u001b[0m\n",
      "\u001b[0;32m/usr/local/lib/python3.7/dist-packages/pytorch_lightning/trainer/trainer.py\u001b[0m in \u001b[0;36m_fit_impl\u001b[0;34m(self, model, train_dataloaders, val_dataloaders, datamodule, ckpt_path)\u001b[0m\n\u001b[1;32m    771\u001b[0m         \u001b[0;31m# TODO: ckpt_path only in v1.7\u001b[0m\u001b[0;34m\u001b[0m\u001b[0;34m\u001b[0m\u001b[0;34m\u001b[0m\u001b[0m\n\u001b[1;32m    772\u001b[0m         \u001b[0mckpt_path\u001b[0m \u001b[0;34m=\u001b[0m \u001b[0mckpt_path\u001b[0m \u001b[0;32mor\u001b[0m \u001b[0mself\u001b[0m\u001b[0;34m.\u001b[0m\u001b[0mresume_from_checkpoint\u001b[0m\u001b[0;34m\u001b[0m\u001b[0;34m\u001b[0m\u001b[0m\n\u001b[0;32m--> 773\u001b[0;31m         \u001b[0mself\u001b[0m\u001b[0;34m.\u001b[0m\u001b[0m_run\u001b[0m\u001b[0;34m(\u001b[0m\u001b[0mmodel\u001b[0m\u001b[0;34m,\u001b[0m \u001b[0mckpt_path\u001b[0m\u001b[0;34m=\u001b[0m\u001b[0mckpt_path\u001b[0m\u001b[0;34m)\u001b[0m\u001b[0;34m\u001b[0m\u001b[0;34m\u001b[0m\u001b[0m\n\u001b[0m\u001b[1;32m    774\u001b[0m \u001b[0;34m\u001b[0m\u001b[0m\n\u001b[1;32m    775\u001b[0m         \u001b[0;32massert\u001b[0m \u001b[0mself\u001b[0m\u001b[0;34m.\u001b[0m\u001b[0mstate\u001b[0m\u001b[0;34m.\u001b[0m\u001b[0mstopped\u001b[0m\u001b[0;34m\u001b[0m\u001b[0;34m\u001b[0m\u001b[0m\n",
      "\u001b[0;32m/usr/local/lib/python3.7/dist-packages/pytorch_lightning/trainer/trainer.py\u001b[0m in \u001b[0;36m_run\u001b[0;34m(self, model, ckpt_path)\u001b[0m\n\u001b[1;32m   1193\u001b[0m \u001b[0;34m\u001b[0m\u001b[0m\n\u001b[1;32m   1194\u001b[0m         \u001b[0;31m# dispatch `start_training` or `start_evaluating` or `start_predicting`\u001b[0m\u001b[0;34m\u001b[0m\u001b[0;34m\u001b[0m\u001b[0;34m\u001b[0m\u001b[0m\n\u001b[0;32m-> 1195\u001b[0;31m         \u001b[0mself\u001b[0m\u001b[0;34m.\u001b[0m\u001b[0m_dispatch\u001b[0m\u001b[0;34m(\u001b[0m\u001b[0;34m)\u001b[0m\u001b[0;34m\u001b[0m\u001b[0;34m\u001b[0m\u001b[0m\n\u001b[0m\u001b[1;32m   1196\u001b[0m \u001b[0;34m\u001b[0m\u001b[0m\n\u001b[1;32m   1197\u001b[0m         \u001b[0;31m# plugin will finalized fitting (e.g. ddp_spawn will load trained model)\u001b[0m\u001b[0;34m\u001b[0m\u001b[0;34m\u001b[0m\u001b[0;34m\u001b[0m\u001b[0m\n",
      "\u001b[0;32m/usr/local/lib/python3.7/dist-packages/pytorch_lightning/trainer/trainer.py\u001b[0m in \u001b[0;36m_dispatch\u001b[0;34m(self)\u001b[0m\n\u001b[1;32m   1273\u001b[0m             \u001b[0mself\u001b[0m\u001b[0;34m.\u001b[0m\u001b[0mtraining_type_plugin\u001b[0m\u001b[0;34m.\u001b[0m\u001b[0mstart_predicting\u001b[0m\u001b[0;34m(\u001b[0m\u001b[0mself\u001b[0m\u001b[0;34m)\u001b[0m\u001b[0;34m\u001b[0m\u001b[0;34m\u001b[0m\u001b[0m\n\u001b[1;32m   1274\u001b[0m         \u001b[0;32melse\u001b[0m\u001b[0;34m:\u001b[0m\u001b[0;34m\u001b[0m\u001b[0;34m\u001b[0m\u001b[0m\n\u001b[0;32m-> 1275\u001b[0;31m             \u001b[0mself\u001b[0m\u001b[0;34m.\u001b[0m\u001b[0mtraining_type_plugin\u001b[0m\u001b[0;34m.\u001b[0m\u001b[0mstart_training\u001b[0m\u001b[0;34m(\u001b[0m\u001b[0mself\u001b[0m\u001b[0;34m)\u001b[0m\u001b[0;34m\u001b[0m\u001b[0;34m\u001b[0m\u001b[0m\n\u001b[0m\u001b[1;32m   1276\u001b[0m \u001b[0;34m\u001b[0m\u001b[0m\n\u001b[1;32m   1277\u001b[0m     \u001b[0;32mdef\u001b[0m \u001b[0mrun_stage\u001b[0m\u001b[0;34m(\u001b[0m\u001b[0mself\u001b[0m\u001b[0;34m)\u001b[0m\u001b[0;34m:\u001b[0m\u001b[0;34m\u001b[0m\u001b[0;34m\u001b[0m\u001b[0m\n",
      "\u001b[0;32m/usr/local/lib/python3.7/dist-packages/pytorch_lightning/plugins/training_type/training_type_plugin.py\u001b[0m in \u001b[0;36mstart_training\u001b[0;34m(self, trainer)\u001b[0m\n\u001b[1;32m    200\u001b[0m     \u001b[0;32mdef\u001b[0m \u001b[0mstart_training\u001b[0m\u001b[0;34m(\u001b[0m\u001b[0mself\u001b[0m\u001b[0;34m,\u001b[0m \u001b[0mtrainer\u001b[0m\u001b[0;34m:\u001b[0m \u001b[0;34m\"pl.Trainer\"\u001b[0m\u001b[0;34m)\u001b[0m \u001b[0;34m->\u001b[0m \u001b[0;32mNone\u001b[0m\u001b[0;34m:\u001b[0m\u001b[0;34m\u001b[0m\u001b[0;34m\u001b[0m\u001b[0m\n\u001b[1;32m    201\u001b[0m         \u001b[0;31m# double dispatch to initiate the training loop\u001b[0m\u001b[0;34m\u001b[0m\u001b[0;34m\u001b[0m\u001b[0;34m\u001b[0m\u001b[0m\n\u001b[0;32m--> 202\u001b[0;31m         \u001b[0mself\u001b[0m\u001b[0;34m.\u001b[0m\u001b[0m_results\u001b[0m \u001b[0;34m=\u001b[0m \u001b[0mtrainer\u001b[0m\u001b[0;34m.\u001b[0m\u001b[0mrun_stage\u001b[0m\u001b[0;34m(\u001b[0m\u001b[0;34m)\u001b[0m\u001b[0;34m\u001b[0m\u001b[0;34m\u001b[0m\u001b[0m\n\u001b[0m\u001b[1;32m    203\u001b[0m \u001b[0;34m\u001b[0m\u001b[0m\n\u001b[1;32m    204\u001b[0m     \u001b[0;32mdef\u001b[0m \u001b[0mstart_evaluating\u001b[0m\u001b[0;34m(\u001b[0m\u001b[0mself\u001b[0m\u001b[0;34m,\u001b[0m \u001b[0mtrainer\u001b[0m\u001b[0;34m:\u001b[0m \u001b[0;34m\"pl.Trainer\"\u001b[0m\u001b[0;34m)\u001b[0m \u001b[0;34m->\u001b[0m \u001b[0;32mNone\u001b[0m\u001b[0;34m:\u001b[0m\u001b[0;34m\u001b[0m\u001b[0;34m\u001b[0m\u001b[0m\n",
      "\u001b[0;32m/usr/local/lib/python3.7/dist-packages/pytorch_lightning/trainer/trainer.py\u001b[0m in \u001b[0;36mrun_stage\u001b[0;34m(self)\u001b[0m\n\u001b[1;32m   1283\u001b[0m         \u001b[0;32mif\u001b[0m \u001b[0mself\u001b[0m\u001b[0;34m.\u001b[0m\u001b[0mpredicting\u001b[0m\u001b[0;34m:\u001b[0m\u001b[0;34m\u001b[0m\u001b[0;34m\u001b[0m\u001b[0m\n\u001b[1;32m   1284\u001b[0m             \u001b[0;32mreturn\u001b[0m \u001b[0mself\u001b[0m\u001b[0;34m.\u001b[0m\u001b[0m_run_predict\u001b[0m\u001b[0;34m(\u001b[0m\u001b[0;34m)\u001b[0m\u001b[0;34m\u001b[0m\u001b[0;34m\u001b[0m\u001b[0m\n\u001b[0;32m-> 1285\u001b[0;31m         \u001b[0;32mreturn\u001b[0m \u001b[0mself\u001b[0m\u001b[0;34m.\u001b[0m\u001b[0m_run_train\u001b[0m\u001b[0;34m(\u001b[0m\u001b[0;34m)\u001b[0m\u001b[0;34m\u001b[0m\u001b[0;34m\u001b[0m\u001b[0m\n\u001b[0m\u001b[1;32m   1286\u001b[0m \u001b[0;34m\u001b[0m\u001b[0m\n\u001b[1;32m   1287\u001b[0m     \u001b[0;32mdef\u001b[0m \u001b[0m_pre_training_routine\u001b[0m\u001b[0;34m(\u001b[0m\u001b[0mself\u001b[0m\u001b[0;34m)\u001b[0m\u001b[0;34m:\u001b[0m\u001b[0;34m\u001b[0m\u001b[0;34m\u001b[0m\u001b[0m\n",
      "\u001b[0;32m/usr/local/lib/python3.7/dist-packages/pytorch_lightning/trainer/trainer.py\u001b[0m in \u001b[0;36m_run_train\u001b[0;34m(self)\u001b[0m\n\u001b[1;32m   1313\u001b[0m         \u001b[0mself\u001b[0m\u001b[0;34m.\u001b[0m\u001b[0mfit_loop\u001b[0m\u001b[0;34m.\u001b[0m\u001b[0mtrainer\u001b[0m \u001b[0;34m=\u001b[0m \u001b[0mself\u001b[0m\u001b[0;34m\u001b[0m\u001b[0;34m\u001b[0m\u001b[0m\n\u001b[1;32m   1314\u001b[0m         \u001b[0;32mwith\u001b[0m \u001b[0mtorch\u001b[0m\u001b[0;34m.\u001b[0m\u001b[0mautograd\u001b[0m\u001b[0;34m.\u001b[0m\u001b[0mset_detect_anomaly\u001b[0m\u001b[0;34m(\u001b[0m\u001b[0mself\u001b[0m\u001b[0;34m.\u001b[0m\u001b[0m_detect_anomaly\u001b[0m\u001b[0;34m)\u001b[0m\u001b[0;34m:\u001b[0m\u001b[0;34m\u001b[0m\u001b[0;34m\u001b[0m\u001b[0m\n\u001b[0;32m-> 1315\u001b[0;31m             \u001b[0mself\u001b[0m\u001b[0;34m.\u001b[0m\u001b[0mfit_loop\u001b[0m\u001b[0;34m.\u001b[0m\u001b[0mrun\u001b[0m\u001b[0;34m(\u001b[0m\u001b[0;34m)\u001b[0m\u001b[0;34m\u001b[0m\u001b[0;34m\u001b[0m\u001b[0m\n\u001b[0m\u001b[1;32m   1316\u001b[0m \u001b[0;34m\u001b[0m\u001b[0m\n\u001b[1;32m   1317\u001b[0m     \u001b[0;32mdef\u001b[0m \u001b[0m_run_evaluate\u001b[0m\u001b[0;34m(\u001b[0m\u001b[0mself\u001b[0m\u001b[0;34m)\u001b[0m \u001b[0;34m->\u001b[0m \u001b[0m_EVALUATE_OUTPUT\u001b[0m\u001b[0;34m:\u001b[0m\u001b[0;34m\u001b[0m\u001b[0;34m\u001b[0m\u001b[0m\n",
      "\u001b[0;32m/usr/local/lib/python3.7/dist-packages/pytorch_lightning/loops/base.py\u001b[0m in \u001b[0;36mrun\u001b[0;34m(self, *args, **kwargs)\u001b[0m\n\u001b[1;32m    143\u001b[0m             \u001b[0;32mtry\u001b[0m\u001b[0;34m:\u001b[0m\u001b[0;34m\u001b[0m\u001b[0;34m\u001b[0m\u001b[0m\n\u001b[1;32m    144\u001b[0m                 \u001b[0mself\u001b[0m\u001b[0;34m.\u001b[0m\u001b[0mon_advance_start\u001b[0m\u001b[0;34m(\u001b[0m\u001b[0;34m*\u001b[0m\u001b[0margs\u001b[0m\u001b[0;34m,\u001b[0m \u001b[0;34m**\u001b[0m\u001b[0mkwargs\u001b[0m\u001b[0;34m)\u001b[0m\u001b[0;34m\u001b[0m\u001b[0;34m\u001b[0m\u001b[0m\n\u001b[0;32m--> 145\u001b[0;31m                 \u001b[0mself\u001b[0m\u001b[0;34m.\u001b[0m\u001b[0madvance\u001b[0m\u001b[0;34m(\u001b[0m\u001b[0;34m*\u001b[0m\u001b[0margs\u001b[0m\u001b[0;34m,\u001b[0m \u001b[0;34m**\u001b[0m\u001b[0mkwargs\u001b[0m\u001b[0;34m)\u001b[0m\u001b[0;34m\u001b[0m\u001b[0;34m\u001b[0m\u001b[0m\n\u001b[0m\u001b[1;32m    146\u001b[0m                 \u001b[0mself\u001b[0m\u001b[0;34m.\u001b[0m\u001b[0mon_advance_end\u001b[0m\u001b[0;34m(\u001b[0m\u001b[0;34m)\u001b[0m\u001b[0;34m\u001b[0m\u001b[0;34m\u001b[0m\u001b[0m\n\u001b[1;32m    147\u001b[0m                 \u001b[0mself\u001b[0m\u001b[0;34m.\u001b[0m\u001b[0mrestarting\u001b[0m \u001b[0;34m=\u001b[0m \u001b[0;32mFalse\u001b[0m\u001b[0;34m\u001b[0m\u001b[0;34m\u001b[0m\u001b[0m\n",
      "\u001b[0;32m/usr/local/lib/python3.7/dist-packages/pytorch_lightning/loops/fit_loop.py\u001b[0m in \u001b[0;36madvance\u001b[0;34m(self)\u001b[0m\n\u001b[1;32m    232\u001b[0m \u001b[0;34m\u001b[0m\u001b[0m\n\u001b[1;32m    233\u001b[0m         \u001b[0;32mwith\u001b[0m \u001b[0mself\u001b[0m\u001b[0;34m.\u001b[0m\u001b[0mtrainer\u001b[0m\u001b[0;34m.\u001b[0m\u001b[0mprofiler\u001b[0m\u001b[0;34m.\u001b[0m\u001b[0mprofile\u001b[0m\u001b[0;34m(\u001b[0m\u001b[0;34m\"run_training_epoch\"\u001b[0m\u001b[0;34m)\u001b[0m\u001b[0;34m:\u001b[0m\u001b[0;34m\u001b[0m\u001b[0;34m\u001b[0m\u001b[0m\n\u001b[0;32m--> 234\u001b[0;31m             \u001b[0mself\u001b[0m\u001b[0;34m.\u001b[0m\u001b[0mepoch_loop\u001b[0m\u001b[0;34m.\u001b[0m\u001b[0mrun\u001b[0m\u001b[0;34m(\u001b[0m\u001b[0mdata_fetcher\u001b[0m\u001b[0;34m)\u001b[0m\u001b[0;34m\u001b[0m\u001b[0;34m\u001b[0m\u001b[0m\n\u001b[0m\u001b[1;32m    235\u001b[0m \u001b[0;34m\u001b[0m\u001b[0m\n\u001b[1;32m    236\u001b[0m             \u001b[0;31m# the global step is manually decreased here due to backwards compatibility with existing loggers\u001b[0m\u001b[0;34m\u001b[0m\u001b[0;34m\u001b[0m\u001b[0;34m\u001b[0m\u001b[0m\n",
      "\u001b[0;32m/usr/local/lib/python3.7/dist-packages/pytorch_lightning/loops/base.py\u001b[0m in \u001b[0;36mrun\u001b[0;34m(self, *args, **kwargs)\u001b[0m\n\u001b[1;32m    143\u001b[0m             \u001b[0;32mtry\u001b[0m\u001b[0;34m:\u001b[0m\u001b[0;34m\u001b[0m\u001b[0;34m\u001b[0m\u001b[0m\n\u001b[1;32m    144\u001b[0m                 \u001b[0mself\u001b[0m\u001b[0;34m.\u001b[0m\u001b[0mon_advance_start\u001b[0m\u001b[0;34m(\u001b[0m\u001b[0;34m*\u001b[0m\u001b[0margs\u001b[0m\u001b[0;34m,\u001b[0m \u001b[0;34m**\u001b[0m\u001b[0mkwargs\u001b[0m\u001b[0;34m)\u001b[0m\u001b[0;34m\u001b[0m\u001b[0;34m\u001b[0m\u001b[0m\n\u001b[0;32m--> 145\u001b[0;31m                 \u001b[0mself\u001b[0m\u001b[0;34m.\u001b[0m\u001b[0madvance\u001b[0m\u001b[0;34m(\u001b[0m\u001b[0;34m*\u001b[0m\u001b[0margs\u001b[0m\u001b[0;34m,\u001b[0m \u001b[0;34m**\u001b[0m\u001b[0mkwargs\u001b[0m\u001b[0;34m)\u001b[0m\u001b[0;34m\u001b[0m\u001b[0;34m\u001b[0m\u001b[0m\n\u001b[0m\u001b[1;32m    146\u001b[0m                 \u001b[0mself\u001b[0m\u001b[0;34m.\u001b[0m\u001b[0mon_advance_end\u001b[0m\u001b[0;34m(\u001b[0m\u001b[0;34m)\u001b[0m\u001b[0;34m\u001b[0m\u001b[0;34m\u001b[0m\u001b[0m\n\u001b[1;32m    147\u001b[0m                 \u001b[0mself\u001b[0m\u001b[0;34m.\u001b[0m\u001b[0mrestarting\u001b[0m \u001b[0;34m=\u001b[0m \u001b[0;32mFalse\u001b[0m\u001b[0;34m\u001b[0m\u001b[0;34m\u001b[0m\u001b[0m\n",
      "\u001b[0;32m/usr/local/lib/python3.7/dist-packages/pytorch_lightning/loops/epoch/training_epoch_loop.py\u001b[0m in \u001b[0;36madvance\u001b[0;34m(self, *args, **kwargs)\u001b[0m\n\u001b[1;32m    191\u001b[0m \u001b[0;34m\u001b[0m\u001b[0m\n\u001b[1;32m    192\u001b[0m             \u001b[0;32mwith\u001b[0m \u001b[0mself\u001b[0m\u001b[0;34m.\u001b[0m\u001b[0mtrainer\u001b[0m\u001b[0;34m.\u001b[0m\u001b[0mprofiler\u001b[0m\u001b[0;34m.\u001b[0m\u001b[0mprofile\u001b[0m\u001b[0;34m(\u001b[0m\u001b[0;34m\"run_training_batch\"\u001b[0m\u001b[0;34m)\u001b[0m\u001b[0;34m:\u001b[0m\u001b[0;34m\u001b[0m\u001b[0;34m\u001b[0m\u001b[0m\n\u001b[0;32m--> 193\u001b[0;31m                 \u001b[0mbatch_output\u001b[0m \u001b[0;34m=\u001b[0m \u001b[0mself\u001b[0m\u001b[0;34m.\u001b[0m\u001b[0mbatch_loop\u001b[0m\u001b[0;34m.\u001b[0m\u001b[0mrun\u001b[0m\u001b[0;34m(\u001b[0m\u001b[0mbatch\u001b[0m\u001b[0;34m,\u001b[0m \u001b[0mbatch_idx\u001b[0m\u001b[0;34m)\u001b[0m\u001b[0;34m\u001b[0m\u001b[0;34m\u001b[0m\u001b[0m\n\u001b[0m\u001b[1;32m    194\u001b[0m \u001b[0;34m\u001b[0m\u001b[0m\n\u001b[1;32m    195\u001b[0m         \u001b[0mself\u001b[0m\u001b[0;34m.\u001b[0m\u001b[0mbatch_progress\u001b[0m\u001b[0;34m.\u001b[0m\u001b[0mincrement_processed\u001b[0m\u001b[0;34m(\u001b[0m\u001b[0;34m)\u001b[0m\u001b[0;34m\u001b[0m\u001b[0;34m\u001b[0m\u001b[0m\n",
      "\u001b[0;32m/usr/local/lib/python3.7/dist-packages/pytorch_lightning/loops/base.py\u001b[0m in \u001b[0;36mrun\u001b[0;34m(self, *args, **kwargs)\u001b[0m\n\u001b[1;32m    143\u001b[0m             \u001b[0;32mtry\u001b[0m\u001b[0;34m:\u001b[0m\u001b[0;34m\u001b[0m\u001b[0;34m\u001b[0m\u001b[0m\n\u001b[1;32m    144\u001b[0m                 \u001b[0mself\u001b[0m\u001b[0;34m.\u001b[0m\u001b[0mon_advance_start\u001b[0m\u001b[0;34m(\u001b[0m\u001b[0;34m*\u001b[0m\u001b[0margs\u001b[0m\u001b[0;34m,\u001b[0m \u001b[0;34m**\u001b[0m\u001b[0mkwargs\u001b[0m\u001b[0;34m)\u001b[0m\u001b[0;34m\u001b[0m\u001b[0;34m\u001b[0m\u001b[0m\n\u001b[0;32m--> 145\u001b[0;31m                 \u001b[0mself\u001b[0m\u001b[0;34m.\u001b[0m\u001b[0madvance\u001b[0m\u001b[0;34m(\u001b[0m\u001b[0;34m*\u001b[0m\u001b[0margs\u001b[0m\u001b[0;34m,\u001b[0m \u001b[0;34m**\u001b[0m\u001b[0mkwargs\u001b[0m\u001b[0;34m)\u001b[0m\u001b[0;34m\u001b[0m\u001b[0;34m\u001b[0m\u001b[0m\n\u001b[0m\u001b[1;32m    146\u001b[0m                 \u001b[0mself\u001b[0m\u001b[0;34m.\u001b[0m\u001b[0mon_advance_end\u001b[0m\u001b[0;34m(\u001b[0m\u001b[0;34m)\u001b[0m\u001b[0;34m\u001b[0m\u001b[0;34m\u001b[0m\u001b[0m\n\u001b[1;32m    147\u001b[0m                 \u001b[0mself\u001b[0m\u001b[0;34m.\u001b[0m\u001b[0mrestarting\u001b[0m \u001b[0;34m=\u001b[0m \u001b[0;32mFalse\u001b[0m\u001b[0;34m\u001b[0m\u001b[0;34m\u001b[0m\u001b[0m\n",
      "\u001b[0;32m/usr/local/lib/python3.7/dist-packages/pytorch_lightning/loops/batch/training_batch_loop.py\u001b[0m in \u001b[0;36madvance\u001b[0;34m(self, batch, batch_idx)\u001b[0m\n\u001b[1;32m     86\u001b[0m         \u001b[0;32mif\u001b[0m \u001b[0mself\u001b[0m\u001b[0;34m.\u001b[0m\u001b[0mtrainer\u001b[0m\u001b[0;34m.\u001b[0m\u001b[0mlightning_module\u001b[0m\u001b[0;34m.\u001b[0m\u001b[0mautomatic_optimization\u001b[0m\u001b[0;34m:\u001b[0m\u001b[0;34m\u001b[0m\u001b[0;34m\u001b[0m\u001b[0m\n\u001b[1;32m     87\u001b[0m             \u001b[0moptimizers\u001b[0m \u001b[0;34m=\u001b[0m \u001b[0m_get_active_optimizers\u001b[0m\u001b[0;34m(\u001b[0m\u001b[0mself\u001b[0m\u001b[0;34m.\u001b[0m\u001b[0mtrainer\u001b[0m\u001b[0;34m.\u001b[0m\u001b[0moptimizers\u001b[0m\u001b[0;34m,\u001b[0m \u001b[0mself\u001b[0m\u001b[0;34m.\u001b[0m\u001b[0mtrainer\u001b[0m\u001b[0;34m.\u001b[0m\u001b[0moptimizer_frequencies\u001b[0m\u001b[0;34m,\u001b[0m \u001b[0mbatch_idx\u001b[0m\u001b[0;34m)\u001b[0m\u001b[0;34m\u001b[0m\u001b[0;34m\u001b[0m\u001b[0m\n\u001b[0;32m---> 88\u001b[0;31m             \u001b[0moutputs\u001b[0m \u001b[0;34m=\u001b[0m \u001b[0mself\u001b[0m\u001b[0;34m.\u001b[0m\u001b[0moptimizer_loop\u001b[0m\u001b[0;34m.\u001b[0m\u001b[0mrun\u001b[0m\u001b[0;34m(\u001b[0m\u001b[0msplit_batch\u001b[0m\u001b[0;34m,\u001b[0m \u001b[0moptimizers\u001b[0m\u001b[0;34m,\u001b[0m \u001b[0mbatch_idx\u001b[0m\u001b[0;34m)\u001b[0m\u001b[0;34m\u001b[0m\u001b[0;34m\u001b[0m\u001b[0m\n\u001b[0m\u001b[1;32m     89\u001b[0m         \u001b[0;32melse\u001b[0m\u001b[0;34m:\u001b[0m\u001b[0;34m\u001b[0m\u001b[0;34m\u001b[0m\u001b[0m\n\u001b[1;32m     90\u001b[0m             \u001b[0moutputs\u001b[0m \u001b[0;34m=\u001b[0m \u001b[0mself\u001b[0m\u001b[0;34m.\u001b[0m\u001b[0mmanual_loop\u001b[0m\u001b[0;34m.\u001b[0m\u001b[0mrun\u001b[0m\u001b[0;34m(\u001b[0m\u001b[0msplit_batch\u001b[0m\u001b[0;34m,\u001b[0m \u001b[0mbatch_idx\u001b[0m\u001b[0;34m)\u001b[0m\u001b[0;34m\u001b[0m\u001b[0;34m\u001b[0m\u001b[0m\n",
      "\u001b[0;32m/usr/local/lib/python3.7/dist-packages/pytorch_lightning/loops/base.py\u001b[0m in \u001b[0;36mrun\u001b[0;34m(self, *args, **kwargs)\u001b[0m\n\u001b[1;32m    143\u001b[0m             \u001b[0;32mtry\u001b[0m\u001b[0;34m:\u001b[0m\u001b[0;34m\u001b[0m\u001b[0;34m\u001b[0m\u001b[0m\n\u001b[1;32m    144\u001b[0m                 \u001b[0mself\u001b[0m\u001b[0;34m.\u001b[0m\u001b[0mon_advance_start\u001b[0m\u001b[0;34m(\u001b[0m\u001b[0;34m*\u001b[0m\u001b[0margs\u001b[0m\u001b[0;34m,\u001b[0m \u001b[0;34m**\u001b[0m\u001b[0mkwargs\u001b[0m\u001b[0;34m)\u001b[0m\u001b[0;34m\u001b[0m\u001b[0;34m\u001b[0m\u001b[0m\n\u001b[0;32m--> 145\u001b[0;31m                 \u001b[0mself\u001b[0m\u001b[0;34m.\u001b[0m\u001b[0madvance\u001b[0m\u001b[0;34m(\u001b[0m\u001b[0;34m*\u001b[0m\u001b[0margs\u001b[0m\u001b[0;34m,\u001b[0m \u001b[0;34m**\u001b[0m\u001b[0mkwargs\u001b[0m\u001b[0;34m)\u001b[0m\u001b[0;34m\u001b[0m\u001b[0;34m\u001b[0m\u001b[0m\n\u001b[0m\u001b[1;32m    146\u001b[0m                 \u001b[0mself\u001b[0m\u001b[0;34m.\u001b[0m\u001b[0mon_advance_end\u001b[0m\u001b[0;34m(\u001b[0m\u001b[0;34m)\u001b[0m\u001b[0;34m\u001b[0m\u001b[0;34m\u001b[0m\u001b[0m\n\u001b[1;32m    147\u001b[0m                 \u001b[0mself\u001b[0m\u001b[0;34m.\u001b[0m\u001b[0mrestarting\u001b[0m \u001b[0;34m=\u001b[0m \u001b[0;32mFalse\u001b[0m\u001b[0;34m\u001b[0m\u001b[0;34m\u001b[0m\u001b[0m\n",
      "\u001b[0;32m/usr/local/lib/python3.7/dist-packages/pytorch_lightning/loops/optimization/optimizer_loop.py\u001b[0m in \u001b[0;36madvance\u001b[0;34m(self, batch, *args, **kwargs)\u001b[0m\n\u001b[1;32m    217\u001b[0m             \u001b[0mself\u001b[0m\u001b[0;34m.\u001b[0m\u001b[0m_batch_idx\u001b[0m\u001b[0;34m,\u001b[0m\u001b[0;34m\u001b[0m\u001b[0;34m\u001b[0m\u001b[0m\n\u001b[1;32m    218\u001b[0m             \u001b[0mself\u001b[0m\u001b[0;34m.\u001b[0m\u001b[0m_optimizers\u001b[0m\u001b[0;34m[\u001b[0m\u001b[0mself\u001b[0m\u001b[0;34m.\u001b[0m\u001b[0moptim_progress\u001b[0m\u001b[0;34m.\u001b[0m\u001b[0moptimizer_position\u001b[0m\u001b[0;34m]\u001b[0m\u001b[0;34m,\u001b[0m\u001b[0;34m\u001b[0m\u001b[0;34m\u001b[0m\u001b[0m\n\u001b[0;32m--> 219\u001b[0;31m             \u001b[0mself\u001b[0m\u001b[0;34m.\u001b[0m\u001b[0moptimizer_idx\u001b[0m\u001b[0;34m,\u001b[0m\u001b[0;34m\u001b[0m\u001b[0;34m\u001b[0m\u001b[0m\n\u001b[0m\u001b[1;32m    220\u001b[0m         )\n\u001b[1;32m    221\u001b[0m         \u001b[0;32mif\u001b[0m \u001b[0mresult\u001b[0m\u001b[0;34m.\u001b[0m\u001b[0mloss\u001b[0m \u001b[0;32mis\u001b[0m \u001b[0;32mnot\u001b[0m \u001b[0;32mNone\u001b[0m\u001b[0;34m:\u001b[0m\u001b[0;34m\u001b[0m\u001b[0;34m\u001b[0m\u001b[0m\n",
      "\u001b[0;32m/usr/local/lib/python3.7/dist-packages/pytorch_lightning/loops/optimization/optimizer_loop.py\u001b[0m in \u001b[0;36m_run_optimization\u001b[0;34m(self, split_batch, batch_idx, optimizer, opt_idx)\u001b[0m\n\u001b[1;32m    264\u001b[0m         \u001b[0;31m# gradient update with accumulated gradients\u001b[0m\u001b[0;34m\u001b[0m\u001b[0;34m\u001b[0m\u001b[0;34m\u001b[0m\u001b[0m\n\u001b[1;32m    265\u001b[0m         \u001b[0;32melse\u001b[0m\u001b[0;34m:\u001b[0m\u001b[0;34m\u001b[0m\u001b[0;34m\u001b[0m\u001b[0m\n\u001b[0;32m--> 266\u001b[0;31m             \u001b[0mself\u001b[0m\u001b[0;34m.\u001b[0m\u001b[0m_optimizer_step\u001b[0m\u001b[0;34m(\u001b[0m\u001b[0moptimizer\u001b[0m\u001b[0;34m,\u001b[0m \u001b[0mopt_idx\u001b[0m\u001b[0;34m,\u001b[0m \u001b[0mbatch_idx\u001b[0m\u001b[0;34m,\u001b[0m \u001b[0mclosure\u001b[0m\u001b[0;34m)\u001b[0m\u001b[0;34m\u001b[0m\u001b[0;34m\u001b[0m\u001b[0m\n\u001b[0m\u001b[1;32m    267\u001b[0m \u001b[0;34m\u001b[0m\u001b[0m\n\u001b[1;32m    268\u001b[0m         \u001b[0mresult\u001b[0m \u001b[0;34m=\u001b[0m \u001b[0mclosure\u001b[0m\u001b[0;34m.\u001b[0m\u001b[0mconsume_result\u001b[0m\u001b[0;34m(\u001b[0m\u001b[0;34m)\u001b[0m\u001b[0;34m\u001b[0m\u001b[0;34m\u001b[0m\u001b[0m\n",
      "\u001b[0;32m/usr/local/lib/python3.7/dist-packages/pytorch_lightning/loops/optimization/optimizer_loop.py\u001b[0m in \u001b[0;36m_optimizer_step\u001b[0;34m(self, optimizer, opt_idx, batch_idx, train_step_and_backward_closure)\u001b[0m\n\u001b[1;32m    384\u001b[0m             \u001b[0mon_tpu\u001b[0m\u001b[0;34m=\u001b[0m\u001b[0;34m(\u001b[0m\u001b[0mself\u001b[0m\u001b[0;34m.\u001b[0m\u001b[0mtrainer\u001b[0m\u001b[0;34m.\u001b[0m\u001b[0m_device_type\u001b[0m \u001b[0;34m==\u001b[0m \u001b[0mDeviceType\u001b[0m\u001b[0;34m.\u001b[0m\u001b[0mTPU\u001b[0m \u001b[0;32mand\u001b[0m \u001b[0m_TPU_AVAILABLE\u001b[0m\u001b[0;34m)\u001b[0m\u001b[0;34m,\u001b[0m\u001b[0;34m\u001b[0m\u001b[0;34m\u001b[0m\u001b[0m\n\u001b[1;32m    385\u001b[0m             \u001b[0musing_native_amp\u001b[0m\u001b[0;34m=\u001b[0m\u001b[0;34m(\u001b[0m\u001b[0mself\u001b[0m\u001b[0;34m.\u001b[0m\u001b[0mtrainer\u001b[0m\u001b[0;34m.\u001b[0m\u001b[0mamp_backend\u001b[0m \u001b[0;32mis\u001b[0m \u001b[0;32mnot\u001b[0m \u001b[0;32mNone\u001b[0m \u001b[0;32mand\u001b[0m \u001b[0mself\u001b[0m\u001b[0;34m.\u001b[0m\u001b[0mtrainer\u001b[0m\u001b[0;34m.\u001b[0m\u001b[0mamp_backend\u001b[0m \u001b[0;34m==\u001b[0m \u001b[0mAMPType\u001b[0m\u001b[0;34m.\u001b[0m\u001b[0mNATIVE\u001b[0m\u001b[0;34m)\u001b[0m\u001b[0;34m,\u001b[0m\u001b[0;34m\u001b[0m\u001b[0;34m\u001b[0m\u001b[0m\n\u001b[0;32m--> 386\u001b[0;31m             \u001b[0musing_lbfgs\u001b[0m\u001b[0;34m=\u001b[0m\u001b[0mis_lbfgs\u001b[0m\u001b[0;34m,\u001b[0m\u001b[0;34m\u001b[0m\u001b[0;34m\u001b[0m\u001b[0m\n\u001b[0m\u001b[1;32m    387\u001b[0m         )\n\u001b[1;32m    388\u001b[0m \u001b[0;34m\u001b[0m\u001b[0m\n",
      "\u001b[0;32m/usr/local/lib/python3.7/dist-packages/pytorch_lightning/core/lightning.py\u001b[0m in \u001b[0;36moptimizer_step\u001b[0;34m(self, epoch, batch_idx, optimizer, optimizer_idx, optimizer_closure, on_tpu, using_native_amp, using_lbfgs)\u001b[0m\n\u001b[1;32m   1650\u001b[0m \u001b[0;34m\u001b[0m\u001b[0m\n\u001b[1;32m   1651\u001b[0m         \"\"\"\n\u001b[0;32m-> 1652\u001b[0;31m         \u001b[0moptimizer\u001b[0m\u001b[0;34m.\u001b[0m\u001b[0mstep\u001b[0m\u001b[0;34m(\u001b[0m\u001b[0mclosure\u001b[0m\u001b[0;34m=\u001b[0m\u001b[0moptimizer_closure\u001b[0m\u001b[0;34m)\u001b[0m\u001b[0;34m\u001b[0m\u001b[0;34m\u001b[0m\u001b[0m\n\u001b[0m\u001b[1;32m   1653\u001b[0m \u001b[0;34m\u001b[0m\u001b[0m\n\u001b[1;32m   1654\u001b[0m     \u001b[0;32mdef\u001b[0m \u001b[0moptimizer_zero_grad\u001b[0m\u001b[0;34m(\u001b[0m\u001b[0mself\u001b[0m\u001b[0;34m,\u001b[0m \u001b[0mepoch\u001b[0m\u001b[0;34m:\u001b[0m \u001b[0mint\u001b[0m\u001b[0;34m,\u001b[0m \u001b[0mbatch_idx\u001b[0m\u001b[0;34m:\u001b[0m \u001b[0mint\u001b[0m\u001b[0;34m,\u001b[0m \u001b[0moptimizer\u001b[0m\u001b[0;34m:\u001b[0m \u001b[0mOptimizer\u001b[0m\u001b[0;34m,\u001b[0m \u001b[0moptimizer_idx\u001b[0m\u001b[0;34m:\u001b[0m \u001b[0mint\u001b[0m\u001b[0;34m)\u001b[0m\u001b[0;34m:\u001b[0m\u001b[0;34m\u001b[0m\u001b[0;34m\u001b[0m\u001b[0m\n",
      "\u001b[0;32m/usr/local/lib/python3.7/dist-packages/pytorch_lightning/core/optimizer.py\u001b[0m in \u001b[0;36mstep\u001b[0;34m(self, closure, **kwargs)\u001b[0m\n\u001b[1;32m    162\u001b[0m         \u001b[0;32massert\u001b[0m \u001b[0mtrainer\u001b[0m \u001b[0;32mis\u001b[0m \u001b[0;32mnot\u001b[0m \u001b[0;32mNone\u001b[0m\u001b[0;34m\u001b[0m\u001b[0;34m\u001b[0m\u001b[0m\n\u001b[1;32m    163\u001b[0m         \u001b[0;32mwith\u001b[0m \u001b[0mtrainer\u001b[0m\u001b[0;34m.\u001b[0m\u001b[0mprofiler\u001b[0m\u001b[0;34m.\u001b[0m\u001b[0mprofile\u001b[0m\u001b[0;34m(\u001b[0m\u001b[0mprofiler_action\u001b[0m\u001b[0;34m)\u001b[0m\u001b[0;34m:\u001b[0m\u001b[0;34m\u001b[0m\u001b[0;34m\u001b[0m\u001b[0m\n\u001b[0;32m--> 164\u001b[0;31m             \u001b[0mtrainer\u001b[0m\u001b[0;34m.\u001b[0m\u001b[0maccelerator\u001b[0m\u001b[0;34m.\u001b[0m\u001b[0moptimizer_step\u001b[0m\u001b[0;34m(\u001b[0m\u001b[0mself\u001b[0m\u001b[0;34m.\u001b[0m\u001b[0m_optimizer\u001b[0m\u001b[0;34m,\u001b[0m \u001b[0mself\u001b[0m\u001b[0;34m.\u001b[0m\u001b[0m_optimizer_idx\u001b[0m\u001b[0;34m,\u001b[0m \u001b[0mclosure\u001b[0m\u001b[0;34m,\u001b[0m \u001b[0;34m**\u001b[0m\u001b[0mkwargs\u001b[0m\u001b[0;34m)\u001b[0m\u001b[0;34m\u001b[0m\u001b[0;34m\u001b[0m\u001b[0m\n\u001b[0m",
      "\u001b[0;32m/usr/local/lib/python3.7/dist-packages/pytorch_lightning/accelerators/accelerator.py\u001b[0m in \u001b[0;36moptimizer_step\u001b[0;34m(self, optimizer, opt_idx, closure, model, **kwargs)\u001b[0m\n\u001b[1;32m    334\u001b[0m         \"\"\"\n\u001b[1;32m    335\u001b[0m         \u001b[0mmodel\u001b[0m \u001b[0;34m=\u001b[0m \u001b[0mmodel\u001b[0m \u001b[0;32mor\u001b[0m \u001b[0mself\u001b[0m\u001b[0;34m.\u001b[0m\u001b[0mlightning_module\u001b[0m\u001b[0;34m\u001b[0m\u001b[0;34m\u001b[0m\u001b[0m\n\u001b[0;32m--> 336\u001b[0;31m         \u001b[0mself\u001b[0m\u001b[0;34m.\u001b[0m\u001b[0mprecision_plugin\u001b[0m\u001b[0;34m.\u001b[0m\u001b[0moptimizer_step\u001b[0m\u001b[0;34m(\u001b[0m\u001b[0mmodel\u001b[0m\u001b[0;34m,\u001b[0m \u001b[0moptimizer\u001b[0m\u001b[0;34m,\u001b[0m \u001b[0mopt_idx\u001b[0m\u001b[0;34m,\u001b[0m \u001b[0mclosure\u001b[0m\u001b[0;34m,\u001b[0m \u001b[0;34m**\u001b[0m\u001b[0mkwargs\u001b[0m\u001b[0;34m)\u001b[0m\u001b[0;34m\u001b[0m\u001b[0;34m\u001b[0m\u001b[0m\n\u001b[0m\u001b[1;32m    337\u001b[0m \u001b[0;34m\u001b[0m\u001b[0m\n\u001b[1;32m    338\u001b[0m     \u001b[0;32mdef\u001b[0m \u001b[0moptimizer_zero_grad\u001b[0m\u001b[0;34m(\u001b[0m\u001b[0mself\u001b[0m\u001b[0;34m,\u001b[0m \u001b[0mcurrent_epoch\u001b[0m\u001b[0;34m:\u001b[0m \u001b[0mint\u001b[0m\u001b[0;34m,\u001b[0m \u001b[0mbatch_idx\u001b[0m\u001b[0;34m:\u001b[0m \u001b[0mint\u001b[0m\u001b[0;34m,\u001b[0m \u001b[0moptimizer\u001b[0m\u001b[0;34m:\u001b[0m \u001b[0mOptimizer\u001b[0m\u001b[0;34m,\u001b[0m \u001b[0mopt_idx\u001b[0m\u001b[0;34m:\u001b[0m \u001b[0mint\u001b[0m\u001b[0;34m)\u001b[0m \u001b[0;34m->\u001b[0m \u001b[0;32mNone\u001b[0m\u001b[0;34m:\u001b[0m\u001b[0;34m\u001b[0m\u001b[0;34m\u001b[0m\u001b[0m\n",
      "\u001b[0;32m/usr/local/lib/python3.7/dist-packages/pytorch_lightning/plugins/precision/native_amp.py\u001b[0m in \u001b[0;36moptimizer_step\u001b[0;34m(self, model, optimizer, optimizer_idx, closure, **kwargs)\u001b[0m\n\u001b[1;32m     91\u001b[0m         \u001b[0;32mif\u001b[0m \u001b[0;32mnot\u001b[0m \u001b[0misinstance\u001b[0m\u001b[0;34m(\u001b[0m\u001b[0mmodel\u001b[0m\u001b[0;34m,\u001b[0m \u001b[0mpl\u001b[0m\u001b[0;34m.\u001b[0m\u001b[0mLightningModule\u001b[0m\u001b[0;34m)\u001b[0m \u001b[0;32mor\u001b[0m \u001b[0;32mnot\u001b[0m \u001b[0mmodel\u001b[0m\u001b[0;34m.\u001b[0m\u001b[0mautomatic_optimization\u001b[0m \u001b[0;32mor\u001b[0m \u001b[0;32mnot\u001b[0m \u001b[0mskipped_backward\u001b[0m\u001b[0;34m:\u001b[0m\u001b[0;34m\u001b[0m\u001b[0;34m\u001b[0m\u001b[0m\n\u001b[1;32m     92\u001b[0m             \u001b[0;31m# note: the scaler will skip the `optimizer.step` if nonfinite gradients are found\u001b[0m\u001b[0;34m\u001b[0m\u001b[0;34m\u001b[0m\u001b[0;34m\u001b[0m\u001b[0m\n\u001b[0;32m---> 93\u001b[0;31m             \u001b[0mself\u001b[0m\u001b[0;34m.\u001b[0m\u001b[0mscaler\u001b[0m\u001b[0;34m.\u001b[0m\u001b[0mstep\u001b[0m\u001b[0;34m(\u001b[0m\u001b[0moptimizer\u001b[0m\u001b[0;34m,\u001b[0m \u001b[0;34m**\u001b[0m\u001b[0mkwargs\u001b[0m\u001b[0;34m)\u001b[0m\u001b[0;34m\u001b[0m\u001b[0;34m\u001b[0m\u001b[0m\n\u001b[0m\u001b[1;32m     94\u001b[0m             \u001b[0mself\u001b[0m\u001b[0;34m.\u001b[0m\u001b[0mscaler\u001b[0m\u001b[0;34m.\u001b[0m\u001b[0mupdate\u001b[0m\u001b[0;34m(\u001b[0m\u001b[0;34m)\u001b[0m\u001b[0;34m\u001b[0m\u001b[0;34m\u001b[0m\u001b[0m\n\u001b[1;32m     95\u001b[0m \u001b[0;34m\u001b[0m\u001b[0m\n",
      "\u001b[0;32m/usr/local/lib/python3.7/dist-packages/torch/cuda/amp/grad_scaler.py\u001b[0m in \u001b[0;36mstep\u001b[0;34m(self, optimizer, *args, **kwargs)\u001b[0m\n\u001b[1;32m    334\u001b[0m             \u001b[0mself\u001b[0m\u001b[0;34m.\u001b[0m\u001b[0munscale_\u001b[0m\u001b[0;34m(\u001b[0m\u001b[0moptimizer\u001b[0m\u001b[0;34m)\u001b[0m\u001b[0;34m\u001b[0m\u001b[0;34m\u001b[0m\u001b[0m\n\u001b[1;32m    335\u001b[0m \u001b[0;34m\u001b[0m\u001b[0m\n\u001b[0;32m--> 336\u001b[0;31m         \u001b[0;32massert\u001b[0m \u001b[0mlen\u001b[0m\u001b[0;34m(\u001b[0m\u001b[0moptimizer_state\u001b[0m\u001b[0;34m[\u001b[0m\u001b[0;34m\"found_inf_per_device\"\u001b[0m\u001b[0;34m]\u001b[0m\u001b[0;34m)\u001b[0m \u001b[0;34m>\u001b[0m \u001b[0;36m0\u001b[0m\u001b[0;34m,\u001b[0m \u001b[0;34m\"No inf checks were recorded for this optimizer.\"\u001b[0m\u001b[0;34m\u001b[0m\u001b[0;34m\u001b[0m\u001b[0m\n\u001b[0m\u001b[1;32m    337\u001b[0m \u001b[0;34m\u001b[0m\u001b[0m\n\u001b[1;32m    338\u001b[0m         \u001b[0mretval\u001b[0m \u001b[0;34m=\u001b[0m \u001b[0mself\u001b[0m\u001b[0;34m.\u001b[0m\u001b[0m_maybe_opt_step\u001b[0m\u001b[0;34m(\u001b[0m\u001b[0moptimizer\u001b[0m\u001b[0;34m,\u001b[0m \u001b[0moptimizer_state\u001b[0m\u001b[0;34m,\u001b[0m \u001b[0;34m*\u001b[0m\u001b[0margs\u001b[0m\u001b[0;34m,\u001b[0m \u001b[0;34m**\u001b[0m\u001b[0mkwargs\u001b[0m\u001b[0;34m)\u001b[0m\u001b[0;34m\u001b[0m\u001b[0;34m\u001b[0m\u001b[0m\n",
      "\u001b[0;31mAssertionError\u001b[0m: No inf checks were recorded for this optimizer."
     ]
    }
   ],
   "source": [
    "from pytorch_lightning import loggers as pl_loggers\n",
    "from pytorch_lightning.callbacks import EarlyStopping, ModelCheckpoint\n",
    "\n",
    "torch.manual_seed(123)\n",
    "\n",
    "tb_logger = pl_loggers.TensorBoardLogger('/content/drive/MyDrive/Colab Notebooks/Multimodal/tb_logs/')\n",
    "\n",
    "trainer = pl.Trainer(\n",
    "    min_epochs=1,\n",
    "    max_epochs=5,\n",
    "    gpus=1,\n",
    "    precision=16,\n",
    "    val_check_interval=0.5,\n",
    "    # check_val_every_n_epoch=1,\n",
    "    callbacks=[\n",
    "      ModelCheckpoint(\n",
    "          dirpath='/content/drive/MyDrive/Colab Notebooks/Multimodal/ckpt',\n",
    "          save_top_k=3,\n",
    "          monitor='f1/val',\n",
    "      ), \n",
    "      EarlyStopping('f1/val', patience=5)\n",
    "    ],\n",
    "    fast_dev_run=False,\n",
    "    logger=tb_logger\n",
    ")\n",
    "\n",
    "dm.setup(stage=\"fit\")\n",
    "trainer.fit(multi, dm)"
   ]
  },
  {
   "cell_type": "code",
   "execution_count": null,
   "metadata": {
    "id": "8YFA9dl3Lkw2"
   },
   "outputs": [],
   "source": [
    "# multi"
   ]
  },
  {
   "cell_type": "code",
   "execution_count": null,
   "metadata": {
    "id": "sWmHn9ggNLfQ"
   },
   "outputs": [],
   "source": [
    "# from sklearn.metrics import roc_auc_score, classification_report, accuracy_score\n",
    "\n",
    "\n",
    "# class Concatmodal(nn.Module):\n",
    "#   def __init__(self, lr_multi, lr_classifier):\n",
    "#     super(Concatmodal,self).__init__()\n",
    "#     self.loss_module = nn.CrossEntropyLoss()\n",
    "#     self.BERT = Bert_Lstm()\n",
    "#     self.incept = Inception()\n",
    "#     self.dense = nn.Linear(256,256)\n",
    "#     self.cl = nn.Linear(256,3)\n",
    "#     self.bpe_path = \"/content/drive/MyDrive/NLP/PhoBERT_base_transformers/bpe.codes\"\n",
    "#     self.vocab_path = \"/content/drive/MyDrive/NLP/PhoBERT_base_transformers/dict.txt\"\n",
    "#     self.lr_multi = lr_multi\n",
    "#     self.lr_classifier = lr_classifier\n",
    "  \n",
    "#   def forward(self, image, texts, labels=None):\n",
    "#     inputs = tokenize_data(texts, self.vocab_path, self.bpe_path)\n",
    "#     # b_labels = None\n",
    "#     # b_labels = labels.to(self.device)\n",
    "\n",
    "#     for key in inputs:\n",
    "#         inputs[key] = inputs[key].to(self.device)\n",
    "#     image = image.to(self.device)\n",
    "\n",
    "#     fea1 = self.BERT(inputs)\n",
    "#     fea2 = self.incept(image)\n",
    "#     cat = torch.cat((fea1, fea2), 1)\n",
    "#     out = self.cl(cat)\n",
    "\n",
    "#     return out\n",
    "  \n",
    "\n",
    "# class Multimodal(pl.LightningModule):\n",
    "#   def __init__(self, lr_multi, lr_classifier):\n",
    "#     super(Multimodal,self).__init__()\n",
    "#     # self.loss_module = nn.CrossEntropyLoss()\n",
    "#     # self.BERT = Bert_Lstm()\n",
    "#     # self.incept = Inception()\n",
    "#     # self.dense = nn.Linear(256,256)\n",
    "#     # self.cl = nn.Linear(256,3)\n",
    "#     # self.bpe_path = \"/content/drive/MyDrive/NLP/PhoBERT_base_transformers/bpe.codes\"\n",
    "#     # self.vocab_path = \"/content/drive/MyDrive/NLP/PhoBERT_base_transformers/dict.txt\"\n",
    "#     self.lr_multi = lr_multi\n",
    "#     self.lr_classifier = lr_classifier\n",
    "\n",
    "#     self.model = self._build_model()\n",
    "#     # self.trainer_params = self._get_trainer_params()\n",
    "\n",
    "#   def forward(self, image, texts, labels=None):\n",
    "#     # inputs = tokenize_data(texts, self.vocab_path, self.bpe_path)\n",
    "#     # # b_labels = None\n",
    "#     # # b_labels = labels.to(self.device)\n",
    "\n",
    "#     # for key in inputs:\n",
    "#     #     inputs[key] = inputs[key].to(self.device)\n",
    "#     # image = image.to(self.device)\n",
    "\n",
    "#     # fea1 = self.BERT(inputs)\n",
    "#     # fea2 = self.incept(image)\n",
    "#     # cat = torch.cat((fea1, fea2), 1)\n",
    "#     # out = self.model(cat)\n",
    "\n",
    "#     return self.model(image, texts)\n",
    "  \n",
    "#   def _build_model(self):\n",
    "#     return Concatmodal(self.lr_multi, self.lr_classifier)\n",
    "  \n",
    "#   def configure_optimizers(self):\n",
    "#     # roberta_params = self.BERT.parameters()\n",
    "#     # inception_params = self.incept.parameters()\n",
    "#     # dense_params = self.dense.parameters()\n",
    "#     # classifier_params = self.cl.parameters()\n",
    "\n",
    "#     # for n,p in classifier_params:\n",
    "#     #   print(n,p)\n",
    "\n",
    "#     # grouped_params = [\n",
    "#     #     {\"params\": roberta_params, \"lr\": self.lr_multi},\n",
    "#     #     {\"params\": inception_params, \"lr\": self.lr_multi},\n",
    "#     #     {\"params\": dense_params, \"lr\": self.lr_multi},\n",
    "#     #     {\"params\": classifier_params, \"lr\": self.lr_classifier}\n",
    "#     # ]\n",
    "#     # optimizer = torch.optim.AdamW(\n",
    "#     #     grouped_params\n",
    "#     # )\n",
    "#     optimizer = torch.optim.AdamW(\n",
    "#               self.model.parameters(), \n",
    "#               lr = 0.001\n",
    "#           )\n",
    "\n",
    "#     scheduler = torch.optim.lr_scheduler.StepLR(optimizer, step_size=1000, gamma=0.98)\n",
    "  \n",
    "\n",
    "\n",
    "#   def training_step(self, batch, batch_idx):\n",
    "#     texts, images, labels = batch\n",
    "#     preds = self(images, texts, labels)\n",
    "\n",
    "#     loss = self.loss_module(preds, labels)\n",
    "\n",
    "#     print(\"train_loss\", loss)\n",
    "#     return loss\n",
    "  \n",
    "#   def validation_step(self, batch, batch_idx):\n",
    "#     texts, images, labels = batch\n",
    "#     logits = self(images, texts, labels)\n",
    "\n",
    "#     loss = self.loss_module(logits, labels)\n",
    "#     output_scores = torch.softmax(logits, dim=-1)\n",
    "\n",
    "#     return loss, output_scores, labels\n",
    "\n",
    "#   def validation_epoch_end(self, validation_step_outputs):\n",
    "#     val_preds = torch.tensor([], device=self.device)\n",
    "#     val_scores = torch.tensor([], device=self.device)\n",
    "#     val_labels = torch.tensor([], device=self.device)\n",
    "#     val_loss = 0\n",
    "#     total_item = 0\n",
    "\n",
    "#     for idx, item in enumerate(validation_step_outputs):\n",
    "#         loss, output_scores, labels = item\n",
    "\n",
    "#         predictions = torch.argmax(output_scores, dim=-1)\n",
    "#         val_preds = torch.cat((val_preds, predictions), dim=0)\n",
    "#         val_scores = torch.cat((val_scores, output_scores[:, 1]), dim=0)\n",
    "#         val_labels = torch.cat((val_labels, labels), dim=0)\n",
    "\n",
    "#         val_loss += loss\n",
    "#         total_item += 1\n",
    "\n",
    "#     # print(\"VAL PREDS\", val_preds.shape)\n",
    "#     # print(\"VAL SCORES\", val_scores.shape)\n",
    "#     # print(\"VAL LABELS\", val_labels.shape)\n",
    "#     val_preds = val_preds.cpu().numpy()\n",
    "#     val_scores = val_scores.cpu().numpy()\n",
    "#     val_labels = val_labels.cpu().numpy()\n",
    "\n",
    "#     # reports = classification_report(val_labels, val_preds, output_dict=True)\n",
    "#     print(\"VAL PREDS\", val_preds)\n",
    "#     print(\"VAL LABELS\", val_labels)\n",
    "#     print(\"VAL SCORES\", val_scores)\n",
    "#     # try:\n",
    "#     #     auc = roc_auc_score(val_labels, val_scores)\n",
    "#     # except Exception as e:\n",
    "#     #     print(e)\n",
    "#     #     print(\"Cannot calculate AUC. Default to 0\")\n",
    "#     #     auc = 0\n",
    "#     accuracy = accuracy_score(val_labels, val_preds)\n",
    "\n",
    "#     print(classification_report(val_labels, val_preds))\n",
    "\n",
    "#     self.log(\"loss/val\", val_loss)\n",
    "#     # self.log(\"auc/val\", auc)\n",
    "#     self.log(\"accuracy/val\", accuracy)\n",
    "#     # self.log(\"precision/val\", reports[\"weighted avg\"][\"precision\"])\n",
    "#     # self.log(\"recall/val\", reports[\"weighted avg\"][\"recall\"])\n",
    "#     # self.log(\"f1/val\", reports[\"weighted avg\"][\"f1-score\"])\n",
    "\n",
    "\n"
   ]
  }
 ],
 "metadata": {
  "colab": {
   "collapsed_sections": [
    "hBUVnSf-_ht0"
   ],
   "name": "Multimodal.ipynb",
   "provenance": []
  },
  "kernelspec": {
   "display_name": "Python 3 (ipykernel)",
   "language": "python",
   "name": "python3"
  },
  "language_info": {
   "codemirror_mode": {
    "name": "ipython",
    "version": 3
   },
   "file_extension": ".py",
   "mimetype": "text/x-python",
   "name": "python",
   "nbconvert_exporter": "python",
   "pygments_lexer": "ipython3",
   "version": "3.10.0"
  },
  "widgets": {
   "application/vnd.jupyter.widget-state+json": {
    "02eca356512546b1954a563bc988d6b5": {
     "model_module": "@jupyter-widgets/controls",
     "model_module_version": "1.5.0",
     "model_name": "DescriptionStyleModel",
     "state": {
      "_model_module": "@jupyter-widgets/controls",
      "_model_module_version": "1.5.0",
      "_model_name": "DescriptionStyleModel",
      "_view_count": null,
      "_view_module": "@jupyter-widgets/base",
      "_view_module_version": "1.2.0",
      "_view_name": "StyleView",
      "description_width": ""
     }
    },
    "046f564c5ccc4b9f9c866a6a57b900bf": {
     "model_module": "@jupyter-widgets/controls",
     "model_module_version": "1.5.0",
     "model_name": "DescriptionStyleModel",
     "state": {
      "_model_module": "@jupyter-widgets/controls",
      "_model_module_version": "1.5.0",
      "_model_name": "DescriptionStyleModel",
      "_view_count": null,
      "_view_module": "@jupyter-widgets/base",
      "_view_module_version": "1.2.0",
      "_view_name": "StyleView",
      "description_width": ""
     }
    },
    "08e56fb9c8c74262aa75994d2766136d": {
     "model_module": "@jupyter-widgets/base",
     "model_module_version": "1.2.0",
     "model_name": "LayoutModel",
     "state": {
      "_model_module": "@jupyter-widgets/base",
      "_model_module_version": "1.2.0",
      "_model_name": "LayoutModel",
      "_view_count": null,
      "_view_module": "@jupyter-widgets/base",
      "_view_module_version": "1.2.0",
      "_view_name": "LayoutView",
      "align_content": null,
      "align_items": null,
      "align_self": null,
      "border": null,
      "bottom": null,
      "display": null,
      "flex": null,
      "flex_flow": null,
      "grid_area": null,
      "grid_auto_columns": null,
      "grid_auto_flow": null,
      "grid_auto_rows": null,
      "grid_column": null,
      "grid_gap": null,
      "grid_row": null,
      "grid_template_areas": null,
      "grid_template_columns": null,
      "grid_template_rows": null,
      "height": null,
      "justify_content": null,
      "justify_items": null,
      "left": null,
      "margin": null,
      "max_height": null,
      "max_width": null,
      "min_height": null,
      "min_width": null,
      "object_fit": null,
      "object_position": null,
      "order": null,
      "overflow": null,
      "overflow_x": null,
      "overflow_y": null,
      "padding": null,
      "right": null,
      "top": null,
      "visibility": null,
      "width": null
     }
    },
    "0cfbf06467a04d4e9f97d8fbbb9328b7": {
     "model_module": "@jupyter-widgets/controls",
     "model_module_version": "1.5.0",
     "model_name": "HTMLModel",
     "state": {
      "_dom_classes": [],
      "_model_module": "@jupyter-widgets/controls",
      "_model_module_version": "1.5.0",
      "_model_name": "HTMLModel",
      "_view_count": null,
      "_view_module": "@jupyter-widgets/controls",
      "_view_module_version": "1.5.0",
      "_view_name": "HTMLView",
      "description": "",
      "description_tooltip": null,
      "layout": "IPY_MODEL_345e16e44bad4ccf83b61099383e8b71",
      "placeholder": "​",
      "style": "IPY_MODEL_69e00ff1b849487f9e10000b486a766c",
      "value": "Downloading: 100%"
     }
    },
    "1250687b6c4e48e0a4b79de74f294235": {
     "model_module": "@jupyter-widgets/controls",
     "model_module_version": "1.5.0",
     "model_name": "HBoxModel",
     "state": {
      "_dom_classes": [],
      "_model_module": "@jupyter-widgets/controls",
      "_model_module_version": "1.5.0",
      "_model_name": "HBoxModel",
      "_view_count": null,
      "_view_module": "@jupyter-widgets/controls",
      "_view_module_version": "1.5.0",
      "_view_name": "HBoxView",
      "box_style": "",
      "children": [
       "IPY_MODEL_0cfbf06467a04d4e9f97d8fbbb9328b7",
       "IPY_MODEL_16736771e702494cb52be951b3df47bc",
       "IPY_MODEL_df155493042740d9b96ee0343b9f03d4"
      ],
      "layout": "IPY_MODEL_70da72f327b64a8a8d2574848ddaa5c0"
     }
    },
    "16559060dd074447bf5e27134b4870ae": {
     "model_module": "@jupyter-widgets/base",
     "model_module_version": "1.2.0",
     "model_name": "LayoutModel",
     "state": {
      "_model_module": "@jupyter-widgets/base",
      "_model_module_version": "1.2.0",
      "_model_name": "LayoutModel",
      "_view_count": null,
      "_view_module": "@jupyter-widgets/base",
      "_view_module_version": "1.2.0",
      "_view_name": "LayoutView",
      "align_content": null,
      "align_items": null,
      "align_self": null,
      "border": null,
      "bottom": null,
      "display": "inline-flex",
      "flex": null,
      "flex_flow": "row wrap",
      "grid_area": null,
      "grid_auto_columns": null,
      "grid_auto_flow": null,
      "grid_auto_rows": null,
      "grid_column": null,
      "grid_gap": null,
      "grid_row": null,
      "grid_template_areas": null,
      "grid_template_columns": null,
      "grid_template_rows": null,
      "height": null,
      "justify_content": null,
      "justify_items": null,
      "left": null,
      "margin": null,
      "max_height": null,
      "max_width": null,
      "min_height": null,
      "min_width": null,
      "object_fit": null,
      "object_position": null,
      "order": null,
      "overflow": null,
      "overflow_x": null,
      "overflow_y": null,
      "padding": null,
      "right": null,
      "top": null,
      "visibility": null,
      "width": "100%"
     }
    },
    "16736771e702494cb52be951b3df47bc": {
     "model_module": "@jupyter-widgets/controls",
     "model_module_version": "1.5.0",
     "model_name": "FloatProgressModel",
     "state": {
      "_dom_classes": [],
      "_model_module": "@jupyter-widgets/controls",
      "_model_module_version": "1.5.0",
      "_model_name": "FloatProgressModel",
      "_view_count": null,
      "_view_module": "@jupyter-widgets/controls",
      "_view_module_version": "1.5.0",
      "_view_name": "ProgressView",
      "bar_style": "success",
      "description": "",
      "description_tooltip": null,
      "layout": "IPY_MODEL_98128e9bcb0b4cf4a949d51f299b3bde",
      "max": 895321,
      "min": 0,
      "orientation": "horizontal",
      "style": "IPY_MODEL_302b8bb010ec40908960c26742dd4df3",
      "value": 895321
     }
    },
    "1bb3780855494b029edc7dc564fcc51e": {
     "model_module": "@jupyter-widgets/base",
     "model_module_version": "1.2.0",
     "model_name": "LayoutModel",
     "state": {
      "_model_module": "@jupyter-widgets/base",
      "_model_module_version": "1.2.0",
      "_model_name": "LayoutModel",
      "_view_count": null,
      "_view_module": "@jupyter-widgets/base",
      "_view_module_version": "1.2.0",
      "_view_name": "LayoutView",
      "align_content": null,
      "align_items": null,
      "align_self": null,
      "border": null,
      "bottom": null,
      "display": null,
      "flex": null,
      "flex_flow": null,
      "grid_area": null,
      "grid_auto_columns": null,
      "grid_auto_flow": null,
      "grid_auto_rows": null,
      "grid_column": null,
      "grid_gap": null,
      "grid_row": null,
      "grid_template_areas": null,
      "grid_template_columns": null,
      "grid_template_rows": null,
      "height": null,
      "justify_content": null,
      "justify_items": null,
      "left": null,
      "margin": null,
      "max_height": null,
      "max_width": null,
      "min_height": null,
      "min_width": null,
      "object_fit": null,
      "object_position": null,
      "order": null,
      "overflow": null,
      "overflow_x": null,
      "overflow_y": null,
      "padding": null,
      "right": null,
      "top": null,
      "visibility": null,
      "width": null
     }
    },
    "1e21006c0b9740ecb6f427f6a49bf409": {
     "model_module": "@jupyter-widgets/base",
     "model_module_version": "1.2.0",
     "model_name": "LayoutModel",
     "state": {
      "_model_module": "@jupyter-widgets/base",
      "_model_module_version": "1.2.0",
      "_model_name": "LayoutModel",
      "_view_count": null,
      "_view_module": "@jupyter-widgets/base",
      "_view_module_version": "1.2.0",
      "_view_name": "LayoutView",
      "align_content": null,
      "align_items": null,
      "align_self": null,
      "border": null,
      "bottom": null,
      "display": null,
      "flex": null,
      "flex_flow": null,
      "grid_area": null,
      "grid_auto_columns": null,
      "grid_auto_flow": null,
      "grid_auto_rows": null,
      "grid_column": null,
      "grid_gap": null,
      "grid_row": null,
      "grid_template_areas": null,
      "grid_template_columns": null,
      "grid_template_rows": null,
      "height": null,
      "justify_content": null,
      "justify_items": null,
      "left": null,
      "margin": null,
      "max_height": null,
      "max_width": null,
      "min_height": null,
      "min_width": null,
      "object_fit": null,
      "object_position": null,
      "order": null,
      "overflow": null,
      "overflow_x": null,
      "overflow_y": null,
      "padding": null,
      "right": null,
      "top": null,
      "visibility": null,
      "width": null
     }
    },
    "1f0e5ebe496b45ec97082f2bb666a82e": {
     "model_module": "@jupyter-widgets/base",
     "model_module_version": "1.2.0",
     "model_name": "LayoutModel",
     "state": {
      "_model_module": "@jupyter-widgets/base",
      "_model_module_version": "1.2.0",
      "_model_name": "LayoutModel",
      "_view_count": null,
      "_view_module": "@jupyter-widgets/base",
      "_view_module_version": "1.2.0",
      "_view_name": "LayoutView",
      "align_content": null,
      "align_items": null,
      "align_self": null,
      "border": null,
      "bottom": null,
      "display": null,
      "flex": "2",
      "flex_flow": null,
      "grid_area": null,
      "grid_auto_columns": null,
      "grid_auto_flow": null,
      "grid_auto_rows": null,
      "grid_column": null,
      "grid_gap": null,
      "grid_row": null,
      "grid_template_areas": null,
      "grid_template_columns": null,
      "grid_template_rows": null,
      "height": null,
      "justify_content": null,
      "justify_items": null,
      "left": null,
      "margin": null,
      "max_height": null,
      "max_width": null,
      "min_height": null,
      "min_width": null,
      "object_fit": null,
      "object_position": null,
      "order": null,
      "overflow": null,
      "overflow_x": null,
      "overflow_y": null,
      "padding": null,
      "right": null,
      "top": null,
      "visibility": null,
      "width": null
     }
    },
    "2132d76e642e4cbaaabf71e032d0fb8b": {
     "model_module": "@jupyter-widgets/controls",
     "model_module_version": "1.5.0",
     "model_name": "ProgressStyleModel",
     "state": {
      "_model_module": "@jupyter-widgets/controls",
      "_model_module_version": "1.5.0",
      "_model_name": "ProgressStyleModel",
      "_view_count": null,
      "_view_module": "@jupyter-widgets/base",
      "_view_module_version": "1.2.0",
      "_view_name": "StyleView",
      "bar_color": null,
      "description_width": ""
     }
    },
    "2889253c1e7d4df1b02db1773a304e26": {
     "model_module": "@jupyter-widgets/controls",
     "model_module_version": "1.5.0",
     "model_name": "HBoxModel",
     "state": {
      "_dom_classes": [],
      "_model_module": "@jupyter-widgets/controls",
      "_model_module_version": "1.5.0",
      "_model_name": "HBoxModel",
      "_view_count": null,
      "_view_module": "@jupyter-widgets/controls",
      "_view_module_version": "1.5.0",
      "_view_name": "HBoxView",
      "box_style": "",
      "children": [
       "IPY_MODEL_876c019d15f04031af2f5735ed37a038",
       "IPY_MODEL_800ec21aa4674fce95f33685c2033b11",
       "IPY_MODEL_6b4ab9aa406a4071b5e888b0cd25335c"
      ],
      "layout": "IPY_MODEL_82995c53c15f4166a2641b2560faa49d"
     }
    },
    "2d90f769f9a748899fd536bc215e0902": {
     "model_module": "@jupyter-widgets/controls",
     "model_module_version": "1.5.0",
     "model_name": "FloatProgressModel",
     "state": {
      "_dom_classes": [],
      "_model_module": "@jupyter-widgets/controls",
      "_model_module_version": "1.5.0",
      "_model_name": "FloatProgressModel",
      "_view_count": null,
      "_view_module": "@jupyter-widgets/controls",
      "_view_module_version": "1.5.0",
      "_view_name": "ProgressView",
      "bar_style": "",
      "description": "",
      "description_tooltip": null,
      "layout": "IPY_MODEL_1f0e5ebe496b45ec97082f2bb666a82e",
      "max": 2,
      "min": 0,
      "orientation": "horizontal",
      "style": "IPY_MODEL_2132d76e642e4cbaaabf71e032d0fb8b",
      "value": 2
     }
    },
    "2f8400d957d4428b86f73a07c12a69ff": {
     "model_module": "@jupyter-widgets/controls",
     "model_module_version": "1.5.0",
     "model_name": "HBoxModel",
     "state": {
      "_dom_classes": [],
      "_model_module": "@jupyter-widgets/controls",
      "_model_module_version": "1.5.0",
      "_model_name": "HBoxModel",
      "_view_count": null,
      "_view_module": "@jupyter-widgets/controls",
      "_view_module_version": "1.5.0",
      "_view_name": "HBoxView",
      "box_style": "",
      "children": [
       "IPY_MODEL_b375fdd33a8f4fad9f7dcc33f24f3f7b",
       "IPY_MODEL_562df45b9b7e42799e8323f7db1eaf18",
       "IPY_MODEL_624a86d43249405388f1286063cebae4"
      ],
      "layout": "IPY_MODEL_c9918922671546a88e3b2ee509394df3"
     }
    },
    "302b8bb010ec40908960c26742dd4df3": {
     "model_module": "@jupyter-widgets/controls",
     "model_module_version": "1.5.0",
     "model_name": "ProgressStyleModel",
     "state": {
      "_model_module": "@jupyter-widgets/controls",
      "_model_module_version": "1.5.0",
      "_model_name": "ProgressStyleModel",
      "_view_count": null,
      "_view_module": "@jupyter-widgets/base",
      "_view_module_version": "1.2.0",
      "_view_name": "StyleView",
      "bar_color": null,
      "description_width": ""
     }
    },
    "31d14a5ec28640d8acf64959fb4a5aa8": {
     "model_module": "@jupyter-widgets/base",
     "model_module_version": "1.2.0",
     "model_name": "LayoutModel",
     "state": {
      "_model_module": "@jupyter-widgets/base",
      "_model_module_version": "1.2.0",
      "_model_name": "LayoutModel",
      "_view_count": null,
      "_view_module": "@jupyter-widgets/base",
      "_view_module_version": "1.2.0",
      "_view_name": "LayoutView",
      "align_content": null,
      "align_items": null,
      "align_self": null,
      "border": null,
      "bottom": null,
      "display": null,
      "flex": "2",
      "flex_flow": null,
      "grid_area": null,
      "grid_auto_columns": null,
      "grid_auto_flow": null,
      "grid_auto_rows": null,
      "grid_column": null,
      "grid_gap": null,
      "grid_row": null,
      "grid_template_areas": null,
      "grid_template_columns": null,
      "grid_template_rows": null,
      "height": null,
      "justify_content": null,
      "justify_items": null,
      "left": null,
      "margin": null,
      "max_height": null,
      "max_width": null,
      "min_height": null,
      "min_width": null,
      "object_fit": null,
      "object_position": null,
      "order": null,
      "overflow": null,
      "overflow_x": null,
      "overflow_y": null,
      "padding": null,
      "right": null,
      "top": null,
      "visibility": null,
      "width": null
     }
    },
    "345e16e44bad4ccf83b61099383e8b71": {
     "model_module": "@jupyter-widgets/base",
     "model_module_version": "1.2.0",
     "model_name": "LayoutModel",
     "state": {
      "_model_module": "@jupyter-widgets/base",
      "_model_module_version": "1.2.0",
      "_model_name": "LayoutModel",
      "_view_count": null,
      "_view_module": "@jupyter-widgets/base",
      "_view_module_version": "1.2.0",
      "_view_name": "LayoutView",
      "align_content": null,
      "align_items": null,
      "align_self": null,
      "border": null,
      "bottom": null,
      "display": null,
      "flex": null,
      "flex_flow": null,
      "grid_area": null,
      "grid_auto_columns": null,
      "grid_auto_flow": null,
      "grid_auto_rows": null,
      "grid_column": null,
      "grid_gap": null,
      "grid_row": null,
      "grid_template_areas": null,
      "grid_template_columns": null,
      "grid_template_rows": null,
      "height": null,
      "justify_content": null,
      "justify_items": null,
      "left": null,
      "margin": null,
      "max_height": null,
      "max_width": null,
      "min_height": null,
      "min_width": null,
      "object_fit": null,
      "object_position": null,
      "order": null,
      "overflow": null,
      "overflow_x": null,
      "overflow_y": null,
      "padding": null,
      "right": null,
      "top": null,
      "visibility": null,
      "width": null
     }
    },
    "3d8af058291c4c7393bb04f2f1ec2622": {
     "model_module": "@jupyter-widgets/base",
     "model_module_version": "1.2.0",
     "model_name": "LayoutModel",
     "state": {
      "_model_module": "@jupyter-widgets/base",
      "_model_module_version": "1.2.0",
      "_model_name": "LayoutModel",
      "_view_count": null,
      "_view_module": "@jupyter-widgets/base",
      "_view_module_version": "1.2.0",
      "_view_name": "LayoutView",
      "align_content": null,
      "align_items": null,
      "align_self": null,
      "border": null,
      "bottom": null,
      "display": null,
      "flex": null,
      "flex_flow": null,
      "grid_area": null,
      "grid_auto_columns": null,
      "grid_auto_flow": null,
      "grid_auto_rows": null,
      "grid_column": null,
      "grid_gap": null,
      "grid_row": null,
      "grid_template_areas": null,
      "grid_template_columns": null,
      "grid_template_rows": null,
      "height": null,
      "justify_content": null,
      "justify_items": null,
      "left": null,
      "margin": null,
      "max_height": null,
      "max_width": null,
      "min_height": null,
      "min_width": null,
      "object_fit": null,
      "object_position": null,
      "order": null,
      "overflow": null,
      "overflow_x": null,
      "overflow_y": null,
      "padding": null,
      "right": null,
      "top": null,
      "visibility": null,
      "width": null
     }
    },
    "3f3889c16b134b408de36adb46505c40": {
     "model_module": "@jupyter-widgets/base",
     "model_module_version": "1.2.0",
     "model_name": "LayoutModel",
     "state": {
      "_model_module": "@jupyter-widgets/base",
      "_model_module_version": "1.2.0",
      "_model_name": "LayoutModel",
      "_view_count": null,
      "_view_module": "@jupyter-widgets/base",
      "_view_module_version": "1.2.0",
      "_view_name": "LayoutView",
      "align_content": null,
      "align_items": null,
      "align_self": null,
      "border": null,
      "bottom": null,
      "display": null,
      "flex": null,
      "flex_flow": null,
      "grid_area": null,
      "grid_auto_columns": null,
      "grid_auto_flow": null,
      "grid_auto_rows": null,
      "grid_column": null,
      "grid_gap": null,
      "grid_row": null,
      "grid_template_areas": null,
      "grid_template_columns": null,
      "grid_template_rows": null,
      "height": null,
      "justify_content": null,
      "justify_items": null,
      "left": null,
      "margin": null,
      "max_height": null,
      "max_width": null,
      "min_height": null,
      "min_width": null,
      "object_fit": null,
      "object_position": null,
      "order": null,
      "overflow": null,
      "overflow_x": null,
      "overflow_y": null,
      "padding": null,
      "right": null,
      "top": null,
      "visibility": null,
      "width": null
     }
    },
    "460e2a8033f04d4fbd9109254d2dfb73": {
     "model_module": "@jupyter-widgets/controls",
     "model_module_version": "1.5.0",
     "model_name": "HTMLModel",
     "state": {
      "_dom_classes": [],
      "_model_module": "@jupyter-widgets/controls",
      "_model_module_version": "1.5.0",
      "_model_name": "HTMLModel",
      "_view_count": null,
      "_view_module": "@jupyter-widgets/controls",
      "_view_module_version": "1.5.0",
      "_view_name": "HTMLView",
      "description": "",
      "description_tooltip": null,
      "layout": "IPY_MODEL_93b193607ebd4e758cfc04a19b9dd2d6",
      "placeholder": "​",
      "style": "IPY_MODEL_b860941628094b5c8720672f5ebb3f3d",
      "value": " 0/540 [00:00&lt;?, ?it/s]"
     }
    },
    "49da75829cbd4350a64bfcdc04576ac1": {
     "model_module": "@jupyter-widgets/base",
     "model_module_version": "1.2.0",
     "model_name": "LayoutModel",
     "state": {
      "_model_module": "@jupyter-widgets/base",
      "_model_module_version": "1.2.0",
      "_model_name": "LayoutModel",
      "_view_count": null,
      "_view_module": "@jupyter-widgets/base",
      "_view_module_version": "1.2.0",
      "_view_name": "LayoutView",
      "align_content": null,
      "align_items": null,
      "align_self": null,
      "border": null,
      "bottom": null,
      "display": null,
      "flex": null,
      "flex_flow": null,
      "grid_area": null,
      "grid_auto_columns": null,
      "grid_auto_flow": null,
      "grid_auto_rows": null,
      "grid_column": null,
      "grid_gap": null,
      "grid_row": null,
      "grid_template_areas": null,
      "grid_template_columns": null,
      "grid_template_rows": null,
      "height": null,
      "justify_content": null,
      "justify_items": null,
      "left": null,
      "margin": null,
      "max_height": null,
      "max_width": null,
      "min_height": null,
      "min_width": null,
      "object_fit": null,
      "object_position": null,
      "order": null,
      "overflow": null,
      "overflow_x": null,
      "overflow_y": null,
      "padding": null,
      "right": null,
      "top": null,
      "visibility": null,
      "width": null
     }
    },
    "4bea41d4adb249d5afc2cbd40dc3210d": {
     "model_module": "@jupyter-widgets/controls",
     "model_module_version": "1.5.0",
     "model_name": "ProgressStyleModel",
     "state": {
      "_model_module": "@jupyter-widgets/controls",
      "_model_module_version": "1.5.0",
      "_model_name": "ProgressStyleModel",
      "_view_count": null,
      "_view_module": "@jupyter-widgets/base",
      "_view_module_version": "1.2.0",
      "_view_name": "StyleView",
      "bar_color": null,
      "description_width": ""
     }
    },
    "562df45b9b7e42799e8323f7db1eaf18": {
     "model_module": "@jupyter-widgets/controls",
     "model_module_version": "1.5.0",
     "model_name": "FloatProgressModel",
     "state": {
      "_dom_classes": [],
      "_model_module": "@jupyter-widgets/controls",
      "_model_module_version": "1.5.0",
      "_model_name": "FloatProgressModel",
      "_view_count": null,
      "_view_module": "@jupyter-widgets/controls",
      "_view_module_version": "1.5.0",
      "_view_name": "ProgressView",
      "bar_style": "success",
      "description": "",
      "description_tooltip": null,
      "layout": "IPY_MODEL_49da75829cbd4350a64bfcdc04576ac1",
      "max": 557,
      "min": 0,
      "orientation": "horizontal",
      "style": "IPY_MODEL_4bea41d4adb249d5afc2cbd40dc3210d",
      "value": 557
     }
    },
    "624a86d43249405388f1286063cebae4": {
     "model_module": "@jupyter-widgets/controls",
     "model_module_version": "1.5.0",
     "model_name": "HTMLModel",
     "state": {
      "_dom_classes": [],
      "_model_module": "@jupyter-widgets/controls",
      "_model_module_version": "1.5.0",
      "_model_name": "HTMLModel",
      "_view_count": null,
      "_view_module": "@jupyter-widgets/controls",
      "_view_module_version": "1.5.0",
      "_view_name": "HTMLView",
      "description": "",
      "description_tooltip": null,
      "layout": "IPY_MODEL_08e56fb9c8c74262aa75994d2766136d",
      "placeholder": "​",
      "style": "IPY_MODEL_ca0da54234e9446db60b5331fa076d81",
      "value": " 557/557 [00:00&lt;00:00, 5.30kB/s]"
     }
    },
    "664ccebe5b894806a2c84d633e107f38": {
     "model_module": "@jupyter-widgets/controls",
     "model_module_version": "1.5.0",
     "model_name": "DescriptionStyleModel",
     "state": {
      "_model_module": "@jupyter-widgets/controls",
      "_model_module_version": "1.5.0",
      "_model_name": "DescriptionStyleModel",
      "_view_count": null,
      "_view_module": "@jupyter-widgets/base",
      "_view_module_version": "1.2.0",
      "_view_name": "StyleView",
      "description_width": ""
     }
    },
    "69e00ff1b849487f9e10000b486a766c": {
     "model_module": "@jupyter-widgets/controls",
     "model_module_version": "1.5.0",
     "model_name": "DescriptionStyleModel",
     "state": {
      "_model_module": "@jupyter-widgets/controls",
      "_model_module_version": "1.5.0",
      "_model_name": "DescriptionStyleModel",
      "_view_count": null,
      "_view_module": "@jupyter-widgets/base",
      "_view_module_version": "1.2.0",
      "_view_name": "StyleView",
      "description_width": ""
     }
    },
    "6b4ab9aa406a4071b5e888b0cd25335c": {
     "model_module": "@jupyter-widgets/controls",
     "model_module_version": "1.5.0",
     "model_name": "HTMLModel",
     "state": {
      "_dom_classes": [],
      "_model_module": "@jupyter-widgets/controls",
      "_model_module_version": "1.5.0",
      "_model_name": "HTMLModel",
      "_view_count": null,
      "_view_module": "@jupyter-widgets/controls",
      "_view_module_version": "1.5.0",
      "_view_name": "HTMLView",
      "description": "",
      "description_tooltip": null,
      "layout": "IPY_MODEL_ad4a2e90f75d49f289b127d43acca1df",
      "placeholder": "​",
      "style": "IPY_MODEL_d63ef1d399ab42698b667b2938d7e398",
      "value": " 1.08M/1.08M [00:00&lt;00:00, 3.02MB/s]"
     }
    },
    "70da72f327b64a8a8d2574848ddaa5c0": {
     "model_module": "@jupyter-widgets/base",
     "model_module_version": "1.2.0",
     "model_name": "LayoutModel",
     "state": {
      "_model_module": "@jupyter-widgets/base",
      "_model_module_version": "1.2.0",
      "_model_name": "LayoutModel",
      "_view_count": null,
      "_view_module": "@jupyter-widgets/base",
      "_view_module_version": "1.2.0",
      "_view_name": "LayoutView",
      "align_content": null,
      "align_items": null,
      "align_self": null,
      "border": null,
      "bottom": null,
      "display": null,
      "flex": null,
      "flex_flow": null,
      "grid_area": null,
      "grid_auto_columns": null,
      "grid_auto_flow": null,
      "grid_auto_rows": null,
      "grid_column": null,
      "grid_gap": null,
      "grid_row": null,
      "grid_template_areas": null,
      "grid_template_columns": null,
      "grid_template_rows": null,
      "height": null,
      "justify_content": null,
      "justify_items": null,
      "left": null,
      "margin": null,
      "max_height": null,
      "max_width": null,
      "min_height": null,
      "min_width": null,
      "object_fit": null,
      "object_position": null,
      "order": null,
      "overflow": null,
      "overflow_x": null,
      "overflow_y": null,
      "padding": null,
      "right": null,
      "top": null,
      "visibility": null,
      "width": null
     }
    },
    "733c53bc95c0490982e6473ad1d55418": {
     "model_module": "@jupyter-widgets/controls",
     "model_module_version": "1.5.0",
     "model_name": "DescriptionStyleModel",
     "state": {
      "_model_module": "@jupyter-widgets/controls",
      "_model_module_version": "1.5.0",
      "_model_name": "DescriptionStyleModel",
      "_view_count": null,
      "_view_module": "@jupyter-widgets/base",
      "_view_module_version": "1.2.0",
      "_view_name": "StyleView",
      "description_width": ""
     }
    },
    "7939b8ff88a940028fb77f2bd715db87": {
     "model_module": "@jupyter-widgets/base",
     "model_module_version": "1.2.0",
     "model_name": "LayoutModel",
     "state": {
      "_model_module": "@jupyter-widgets/base",
      "_model_module_version": "1.2.0",
      "_model_name": "LayoutModel",
      "_view_count": null,
      "_view_module": "@jupyter-widgets/base",
      "_view_module_version": "1.2.0",
      "_view_name": "LayoutView",
      "align_content": null,
      "align_items": null,
      "align_self": null,
      "border": null,
      "bottom": null,
      "display": null,
      "flex": null,
      "flex_flow": null,
      "grid_area": null,
      "grid_auto_columns": null,
      "grid_auto_flow": null,
      "grid_auto_rows": null,
      "grid_column": null,
      "grid_gap": null,
      "grid_row": null,
      "grid_template_areas": null,
      "grid_template_columns": null,
      "grid_template_rows": null,
      "height": null,
      "justify_content": null,
      "justify_items": null,
      "left": null,
      "margin": null,
      "max_height": null,
      "max_width": null,
      "min_height": null,
      "min_width": null,
      "object_fit": null,
      "object_position": null,
      "order": null,
      "overflow": null,
      "overflow_x": null,
      "overflow_y": null,
      "padding": null,
      "right": null,
      "top": null,
      "visibility": null,
      "width": null
     }
    },
    "800ec21aa4674fce95f33685c2033b11": {
     "model_module": "@jupyter-widgets/controls",
     "model_module_version": "1.5.0",
     "model_name": "FloatProgressModel",
     "state": {
      "_dom_classes": [],
      "_model_module": "@jupyter-widgets/controls",
      "_model_module_version": "1.5.0",
      "_model_name": "FloatProgressModel",
      "_view_count": null,
      "_view_module": "@jupyter-widgets/controls",
      "_view_module_version": "1.5.0",
      "_view_name": "ProgressView",
      "bar_style": "success",
      "description": "",
      "description_tooltip": null,
      "layout": "IPY_MODEL_3d8af058291c4c7393bb04f2f1ec2622",
      "max": 1135173,
      "min": 0,
      "orientation": "horizontal",
      "style": "IPY_MODEL_e4cb55de261c4416b945fdb72232c12d",
      "value": 1135173
     }
    },
    "81d26020a9784869b593de58ca922404": {
     "model_module": "@jupyter-widgets/base",
     "model_module_version": "1.2.0",
     "model_name": "LayoutModel",
     "state": {
      "_model_module": "@jupyter-widgets/base",
      "_model_module_version": "1.2.0",
      "_model_name": "LayoutModel",
      "_view_count": null,
      "_view_module": "@jupyter-widgets/base",
      "_view_module_version": "1.2.0",
      "_view_name": "LayoutView",
      "align_content": null,
      "align_items": null,
      "align_self": null,
      "border": null,
      "bottom": null,
      "display": null,
      "flex": null,
      "flex_flow": null,
      "grid_area": null,
      "grid_auto_columns": null,
      "grid_auto_flow": null,
      "grid_auto_rows": null,
      "grid_column": null,
      "grid_gap": null,
      "grid_row": null,
      "grid_template_areas": null,
      "grid_template_columns": null,
      "grid_template_rows": null,
      "height": null,
      "justify_content": null,
      "justify_items": null,
      "left": null,
      "margin": null,
      "max_height": null,
      "max_width": null,
      "min_height": null,
      "min_width": null,
      "object_fit": null,
      "object_position": null,
      "order": null,
      "overflow": null,
      "overflow_x": null,
      "overflow_y": null,
      "padding": null,
      "right": null,
      "top": null,
      "visibility": null,
      "width": null
     }
    },
    "82995c53c15f4166a2641b2560faa49d": {
     "model_module": "@jupyter-widgets/base",
     "model_module_version": "1.2.0",
     "model_name": "LayoutModel",
     "state": {
      "_model_module": "@jupyter-widgets/base",
      "_model_module_version": "1.2.0",
      "_model_name": "LayoutModel",
      "_view_count": null,
      "_view_module": "@jupyter-widgets/base",
      "_view_module_version": "1.2.0",
      "_view_name": "LayoutView",
      "align_content": null,
      "align_items": null,
      "align_self": null,
      "border": null,
      "bottom": null,
      "display": null,
      "flex": null,
      "flex_flow": null,
      "grid_area": null,
      "grid_auto_columns": null,
      "grid_auto_flow": null,
      "grid_auto_rows": null,
      "grid_column": null,
      "grid_gap": null,
      "grid_row": null,
      "grid_template_areas": null,
      "grid_template_columns": null,
      "grid_template_rows": null,
      "height": null,
      "justify_content": null,
      "justify_items": null,
      "left": null,
      "margin": null,
      "max_height": null,
      "max_width": null,
      "min_height": null,
      "min_width": null,
      "object_fit": null,
      "object_position": null,
      "order": null,
      "overflow": null,
      "overflow_x": null,
      "overflow_y": null,
      "padding": null,
      "right": null,
      "top": null,
      "visibility": null,
      "width": null
     }
    },
    "83e93a1ba3f24f96ac5ea9107e160a9e": {
     "model_module": "@jupyter-widgets/controls",
     "model_module_version": "1.5.0",
     "model_name": "HTMLModel",
     "state": {
      "_dom_classes": [],
      "_model_module": "@jupyter-widgets/controls",
      "_model_module_version": "1.5.0",
      "_model_name": "HTMLModel",
      "_view_count": null,
      "_view_module": "@jupyter-widgets/controls",
      "_view_module_version": "1.5.0",
      "_view_name": "HTMLView",
      "description": "",
      "description_tooltip": null,
      "layout": "IPY_MODEL_7939b8ff88a940028fb77f2bd715db87",
      "placeholder": "​",
      "style": "IPY_MODEL_02eca356512546b1954a563bc988d6b5",
      "value": " 2/2 [00:03&lt;00:00,  1.54s/it]"
     }
    },
    "876c019d15f04031af2f5735ed37a038": {
     "model_module": "@jupyter-widgets/controls",
     "model_module_version": "1.5.0",
     "model_name": "HTMLModel",
     "state": {
      "_dom_classes": [],
      "_model_module": "@jupyter-widgets/controls",
      "_model_module_version": "1.5.0",
      "_model_name": "HTMLModel",
      "_view_count": null,
      "_view_module": "@jupyter-widgets/controls",
      "_view_module_version": "1.5.0",
      "_view_name": "HTMLView",
      "description": "",
      "description_tooltip": null,
      "layout": "IPY_MODEL_1e21006c0b9740ecb6f427f6a49bf409",
      "placeholder": "​",
      "style": "IPY_MODEL_733c53bc95c0490982e6473ad1d55418",
      "value": "Downloading: 100%"
     }
    },
    "8d8bf547e78f461da79bb4e3e8449335": {
     "model_module": "@jupyter-widgets/controls",
     "model_module_version": "1.5.0",
     "model_name": "HTMLModel",
     "state": {
      "_dom_classes": [],
      "_model_module": "@jupyter-widgets/controls",
      "_model_module_version": "1.5.0",
      "_model_name": "HTMLModel",
      "_view_count": null,
      "_view_module": "@jupyter-widgets/controls",
      "_view_module_version": "1.5.0",
      "_view_name": "HTMLView",
      "description": "",
      "description_tooltip": null,
      "layout": "IPY_MODEL_81d26020a9784869b593de58ca922404",
      "placeholder": "​",
      "style": "IPY_MODEL_664ccebe5b894806a2c84d633e107f38",
      "value": "Validation sanity check: 100%"
     }
    },
    "93b193607ebd4e758cfc04a19b9dd2d6": {
     "model_module": "@jupyter-widgets/base",
     "model_module_version": "1.2.0",
     "model_name": "LayoutModel",
     "state": {
      "_model_module": "@jupyter-widgets/base",
      "_model_module_version": "1.2.0",
      "_model_name": "LayoutModel",
      "_view_count": null,
      "_view_module": "@jupyter-widgets/base",
      "_view_module_version": "1.2.0",
      "_view_name": "LayoutView",
      "align_content": null,
      "align_items": null,
      "align_self": null,
      "border": null,
      "bottom": null,
      "display": null,
      "flex": null,
      "flex_flow": null,
      "grid_area": null,
      "grid_auto_columns": null,
      "grid_auto_flow": null,
      "grid_auto_rows": null,
      "grid_column": null,
      "grid_gap": null,
      "grid_row": null,
      "grid_template_areas": null,
      "grid_template_columns": null,
      "grid_template_rows": null,
      "height": null,
      "justify_content": null,
      "justify_items": null,
      "left": null,
      "margin": null,
      "max_height": null,
      "max_width": null,
      "min_height": null,
      "min_width": null,
      "object_fit": null,
      "object_position": null,
      "order": null,
      "overflow": null,
      "overflow_x": null,
      "overflow_y": null,
      "padding": null,
      "right": null,
      "top": null,
      "visibility": null,
      "width": null
     }
    },
    "98128e9bcb0b4cf4a949d51f299b3bde": {
     "model_module": "@jupyter-widgets/base",
     "model_module_version": "1.2.0",
     "model_name": "LayoutModel",
     "state": {
      "_model_module": "@jupyter-widgets/base",
      "_model_module_version": "1.2.0",
      "_model_name": "LayoutModel",
      "_view_count": null,
      "_view_module": "@jupyter-widgets/base",
      "_view_module_version": "1.2.0",
      "_view_name": "LayoutView",
      "align_content": null,
      "align_items": null,
      "align_self": null,
      "border": null,
      "bottom": null,
      "display": null,
      "flex": null,
      "flex_flow": null,
      "grid_area": null,
      "grid_auto_columns": null,
      "grid_auto_flow": null,
      "grid_auto_rows": null,
      "grid_column": null,
      "grid_gap": null,
      "grid_row": null,
      "grid_template_areas": null,
      "grid_template_columns": null,
      "grid_template_rows": null,
      "height": null,
      "justify_content": null,
      "justify_items": null,
      "left": null,
      "margin": null,
      "max_height": null,
      "max_width": null,
      "min_height": null,
      "min_width": null,
      "object_fit": null,
      "object_position": null,
      "order": null,
      "overflow": null,
      "overflow_x": null,
      "overflow_y": null,
      "padding": null,
      "right": null,
      "top": null,
      "visibility": null,
      "width": null
     }
    },
    "9aad7677f25b4c85abc0e6edb7b9212d": {
     "model_module": "@jupyter-widgets/controls",
     "model_module_version": "1.5.0",
     "model_name": "HBoxModel",
     "state": {
      "_dom_classes": [],
      "_model_module": "@jupyter-widgets/controls",
      "_model_module_version": "1.5.0",
      "_model_name": "HBoxModel",
      "_view_count": null,
      "_view_module": "@jupyter-widgets/controls",
      "_view_module_version": "1.5.0",
      "_view_name": "HBoxView",
      "box_style": "",
      "children": [
       "IPY_MODEL_e47ffdaa9228458182c11c9ba945e33d",
       "IPY_MODEL_c4c4bae04bad46dea96a97dc5a7d8d0d",
       "IPY_MODEL_460e2a8033f04d4fbd9109254d2dfb73"
      ],
      "layout": "IPY_MODEL_fff7e36afcae4a3a81e5b40705c21519"
     }
    },
    "a93f05a257d5421eb2c72efcdac8fcd3": {
     "model_module": "@jupyter-widgets/controls",
     "model_module_version": "1.5.0",
     "model_name": "HBoxModel",
     "state": {
      "_dom_classes": [],
      "_model_module": "@jupyter-widgets/controls",
      "_model_module_version": "1.5.0",
      "_model_name": "HBoxModel",
      "_view_count": null,
      "_view_module": "@jupyter-widgets/controls",
      "_view_module_version": "1.5.0",
      "_view_name": "HBoxView",
      "box_style": "",
      "children": [
       "IPY_MODEL_8d8bf547e78f461da79bb4e3e8449335",
       "IPY_MODEL_2d90f769f9a748899fd536bc215e0902",
       "IPY_MODEL_83e93a1ba3f24f96ac5ea9107e160a9e"
      ],
      "layout": "IPY_MODEL_16559060dd074447bf5e27134b4870ae"
     }
    },
    "ad4a2e90f75d49f289b127d43acca1df": {
     "model_module": "@jupyter-widgets/base",
     "model_module_version": "1.2.0",
     "model_name": "LayoutModel",
     "state": {
      "_model_module": "@jupyter-widgets/base",
      "_model_module_version": "1.2.0",
      "_model_name": "LayoutModel",
      "_view_count": null,
      "_view_module": "@jupyter-widgets/base",
      "_view_module_version": "1.2.0",
      "_view_name": "LayoutView",
      "align_content": null,
      "align_items": null,
      "align_self": null,
      "border": null,
      "bottom": null,
      "display": null,
      "flex": null,
      "flex_flow": null,
      "grid_area": null,
      "grid_auto_columns": null,
      "grid_auto_flow": null,
      "grid_auto_rows": null,
      "grid_column": null,
      "grid_gap": null,
      "grid_row": null,
      "grid_template_areas": null,
      "grid_template_columns": null,
      "grid_template_rows": null,
      "height": null,
      "justify_content": null,
      "justify_items": null,
      "left": null,
      "margin": null,
      "max_height": null,
      "max_width": null,
      "min_height": null,
      "min_width": null,
      "object_fit": null,
      "object_position": null,
      "order": null,
      "overflow": null,
      "overflow_x": null,
      "overflow_y": null,
      "padding": null,
      "right": null,
      "top": null,
      "visibility": null,
      "width": null
     }
    },
    "b375fdd33a8f4fad9f7dcc33f24f3f7b": {
     "model_module": "@jupyter-widgets/controls",
     "model_module_version": "1.5.0",
     "model_name": "HTMLModel",
     "state": {
      "_dom_classes": [],
      "_model_module": "@jupyter-widgets/controls",
      "_model_module_version": "1.5.0",
      "_model_name": "HTMLModel",
      "_view_count": null,
      "_view_module": "@jupyter-widgets/controls",
      "_view_module_version": "1.5.0",
      "_view_name": "HTMLView",
      "description": "",
      "description_tooltip": null,
      "layout": "IPY_MODEL_1bb3780855494b029edc7dc564fcc51e",
      "placeholder": "​",
      "style": "IPY_MODEL_046f564c5ccc4b9f9c866a6a57b900bf",
      "value": "Downloading: 100%"
     }
    },
    "b860941628094b5c8720672f5ebb3f3d": {
     "model_module": "@jupyter-widgets/controls",
     "model_module_version": "1.5.0",
     "model_name": "DescriptionStyleModel",
     "state": {
      "_model_module": "@jupyter-widgets/controls",
      "_model_module_version": "1.5.0",
      "_model_name": "DescriptionStyleModel",
      "_view_count": null,
      "_view_module": "@jupyter-widgets/base",
      "_view_module_version": "1.2.0",
      "_view_name": "StyleView",
      "description_width": ""
     }
    },
    "ba20e1bc66e94c829e2a46dd5d6a3483": {
     "model_module": "@jupyter-widgets/controls",
     "model_module_version": "1.5.0",
     "model_name": "ProgressStyleModel",
     "state": {
      "_model_module": "@jupyter-widgets/controls",
      "_model_module_version": "1.5.0",
      "_model_name": "ProgressStyleModel",
      "_view_count": null,
      "_view_module": "@jupyter-widgets/base",
      "_view_module_version": "1.2.0",
      "_view_name": "StyleView",
      "bar_color": null,
      "description_width": ""
     }
    },
    "bb16f7ad93f34d12babc320869e1413b": {
     "model_module": "@jupyter-widgets/base",
     "model_module_version": "1.2.0",
     "model_name": "LayoutModel",
     "state": {
      "_model_module": "@jupyter-widgets/base",
      "_model_module_version": "1.2.0",
      "_model_name": "LayoutModel",
      "_view_count": null,
      "_view_module": "@jupyter-widgets/base",
      "_view_module_version": "1.2.0",
      "_view_name": "LayoutView",
      "align_content": null,
      "align_items": null,
      "align_self": null,
      "border": null,
      "bottom": null,
      "display": null,
      "flex": null,
      "flex_flow": null,
      "grid_area": null,
      "grid_auto_columns": null,
      "grid_auto_flow": null,
      "grid_auto_rows": null,
      "grid_column": null,
      "grid_gap": null,
      "grid_row": null,
      "grid_template_areas": null,
      "grid_template_columns": null,
      "grid_template_rows": null,
      "height": null,
      "justify_content": null,
      "justify_items": null,
      "left": null,
      "margin": null,
      "max_height": null,
      "max_width": null,
      "min_height": null,
      "min_width": null,
      "object_fit": null,
      "object_position": null,
      "order": null,
      "overflow": null,
      "overflow_x": null,
      "overflow_y": null,
      "padding": null,
      "right": null,
      "top": null,
      "visibility": null,
      "width": null
     }
    },
    "c4c4bae04bad46dea96a97dc5a7d8d0d": {
     "model_module": "@jupyter-widgets/controls",
     "model_module_version": "1.5.0",
     "model_name": "FloatProgressModel",
     "state": {
      "_dom_classes": [],
      "_model_module": "@jupyter-widgets/controls",
      "_model_module_version": "1.5.0",
      "_model_name": "FloatProgressModel",
      "_view_count": null,
      "_view_module": "@jupyter-widgets/controls",
      "_view_module_version": "1.5.0",
      "_view_name": "ProgressView",
      "bar_style": "",
      "description": "",
      "description_tooltip": null,
      "layout": "IPY_MODEL_31d14a5ec28640d8acf64959fb4a5aa8",
      "max": 540,
      "min": 0,
      "orientation": "horizontal",
      "style": "IPY_MODEL_ba20e1bc66e94c829e2a46dd5d6a3483",
      "value": 0
     }
    },
    "c9918922671546a88e3b2ee509394df3": {
     "model_module": "@jupyter-widgets/base",
     "model_module_version": "1.2.0",
     "model_name": "LayoutModel",
     "state": {
      "_model_module": "@jupyter-widgets/base",
      "_model_module_version": "1.2.0",
      "_model_name": "LayoutModel",
      "_view_count": null,
      "_view_module": "@jupyter-widgets/base",
      "_view_module_version": "1.2.0",
      "_view_name": "LayoutView",
      "align_content": null,
      "align_items": null,
      "align_self": null,
      "border": null,
      "bottom": null,
      "display": null,
      "flex": null,
      "flex_flow": null,
      "grid_area": null,
      "grid_auto_columns": null,
      "grid_auto_flow": null,
      "grid_auto_rows": null,
      "grid_column": null,
      "grid_gap": null,
      "grid_row": null,
      "grid_template_areas": null,
      "grid_template_columns": null,
      "grid_template_rows": null,
      "height": null,
      "justify_content": null,
      "justify_items": null,
      "left": null,
      "margin": null,
      "max_height": null,
      "max_width": null,
      "min_height": null,
      "min_width": null,
      "object_fit": null,
      "object_position": null,
      "order": null,
      "overflow": null,
      "overflow_x": null,
      "overflow_y": null,
      "padding": null,
      "right": null,
      "top": null,
      "visibility": null,
      "width": null
     }
    },
    "ca0da54234e9446db60b5331fa076d81": {
     "model_module": "@jupyter-widgets/controls",
     "model_module_version": "1.5.0",
     "model_name": "DescriptionStyleModel",
     "state": {
      "_model_module": "@jupyter-widgets/controls",
      "_model_module_version": "1.5.0",
      "_model_name": "DescriptionStyleModel",
      "_view_count": null,
      "_view_module": "@jupyter-widgets/base",
      "_view_module_version": "1.2.0",
      "_view_name": "StyleView",
      "description_width": ""
     }
    },
    "d63ef1d399ab42698b667b2938d7e398": {
     "model_module": "@jupyter-widgets/controls",
     "model_module_version": "1.5.0",
     "model_name": "DescriptionStyleModel",
     "state": {
      "_model_module": "@jupyter-widgets/controls",
      "_model_module_version": "1.5.0",
      "_model_name": "DescriptionStyleModel",
      "_view_count": null,
      "_view_module": "@jupyter-widgets/base",
      "_view_module_version": "1.2.0",
      "_view_name": "StyleView",
      "description_width": ""
     }
    },
    "db463b1c3ae44d6980bec291e144523c": {
     "model_module": "@jupyter-widgets/controls",
     "model_module_version": "1.5.0",
     "model_name": "DescriptionStyleModel",
     "state": {
      "_model_module": "@jupyter-widgets/controls",
      "_model_module_version": "1.5.0",
      "_model_name": "DescriptionStyleModel",
      "_view_count": null,
      "_view_module": "@jupyter-widgets/base",
      "_view_module_version": "1.2.0",
      "_view_name": "StyleView",
      "description_width": ""
     }
    },
    "df155493042740d9b96ee0343b9f03d4": {
     "model_module": "@jupyter-widgets/controls",
     "model_module_version": "1.5.0",
     "model_name": "HTMLModel",
     "state": {
      "_dom_classes": [],
      "_model_module": "@jupyter-widgets/controls",
      "_model_module_version": "1.5.0",
      "_model_name": "HTMLModel",
      "_view_count": null,
      "_view_module": "@jupyter-widgets/controls",
      "_view_module_version": "1.5.0",
      "_view_name": "HTMLView",
      "description": "",
      "description_tooltip": null,
      "layout": "IPY_MODEL_3f3889c16b134b408de36adb46505c40",
      "placeholder": "​",
      "style": "IPY_MODEL_db463b1c3ae44d6980bec291e144523c",
      "value": " 874k/874k [00:00&lt;00:00, 1.31MB/s]"
     }
    },
    "e47ffdaa9228458182c11c9ba945e33d": {
     "model_module": "@jupyter-widgets/controls",
     "model_module_version": "1.5.0",
     "model_name": "HTMLModel",
     "state": {
      "_dom_classes": [],
      "_model_module": "@jupyter-widgets/controls",
      "_model_module_version": "1.5.0",
      "_model_name": "HTMLModel",
      "_view_count": null,
      "_view_module": "@jupyter-widgets/controls",
      "_view_module_version": "1.5.0",
      "_view_name": "HTMLView",
      "description": "",
      "description_tooltip": null,
      "layout": "IPY_MODEL_bb16f7ad93f34d12babc320869e1413b",
      "placeholder": "​",
      "style": "IPY_MODEL_f7947613432143f98f2f714598d25dfd",
      "value": "Epoch 0:   0%"
     }
    },
    "e4cb55de261c4416b945fdb72232c12d": {
     "model_module": "@jupyter-widgets/controls",
     "model_module_version": "1.5.0",
     "model_name": "ProgressStyleModel",
     "state": {
      "_model_module": "@jupyter-widgets/controls",
      "_model_module_version": "1.5.0",
      "_model_name": "ProgressStyleModel",
      "_view_count": null,
      "_view_module": "@jupyter-widgets/base",
      "_view_module_version": "1.2.0",
      "_view_name": "StyleView",
      "bar_color": null,
      "description_width": ""
     }
    },
    "f7947613432143f98f2f714598d25dfd": {
     "model_module": "@jupyter-widgets/controls",
     "model_module_version": "1.5.0",
     "model_name": "DescriptionStyleModel",
     "state": {
      "_model_module": "@jupyter-widgets/controls",
      "_model_module_version": "1.5.0",
      "_model_name": "DescriptionStyleModel",
      "_view_count": null,
      "_view_module": "@jupyter-widgets/base",
      "_view_module_version": "1.2.0",
      "_view_name": "StyleView",
      "description_width": ""
     }
    },
    "fff7e36afcae4a3a81e5b40705c21519": {
     "model_module": "@jupyter-widgets/base",
     "model_module_version": "1.2.0",
     "model_name": "LayoutModel",
     "state": {
      "_model_module": "@jupyter-widgets/base",
      "_model_module_version": "1.2.0",
      "_model_name": "LayoutModel",
      "_view_count": null,
      "_view_module": "@jupyter-widgets/base",
      "_view_module_version": "1.2.0",
      "_view_name": "LayoutView",
      "align_content": null,
      "align_items": null,
      "align_self": null,
      "border": null,
      "bottom": null,
      "display": "inline-flex",
      "flex": null,
      "flex_flow": "row wrap",
      "grid_area": null,
      "grid_auto_columns": null,
      "grid_auto_flow": null,
      "grid_auto_rows": null,
      "grid_column": null,
      "grid_gap": null,
      "grid_row": null,
      "grid_template_areas": null,
      "grid_template_columns": null,
      "grid_template_rows": null,
      "height": null,
      "justify_content": null,
      "justify_items": null,
      "left": null,
      "margin": null,
      "max_height": null,
      "max_width": null,
      "min_height": null,
      "min_width": null,
      "object_fit": null,
      "object_position": null,
      "order": null,
      "overflow": null,
      "overflow_x": null,
      "overflow_y": null,
      "padding": null,
      "right": null,
      "top": null,
      "visibility": null,
      "width": "100%"
     }
    }
   }
  }
 },
 "nbformat": 4,
 "nbformat_minor": 1
}
